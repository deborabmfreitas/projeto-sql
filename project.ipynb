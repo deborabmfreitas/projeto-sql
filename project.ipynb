{
 "cells": [
  {
   "cell_type": "markdown",
   "id": "7f2c9a10",
   "metadata": {},
   "source": [
    "# Importando bibliotecas"
   ]
  },
  {
   "cell_type": "code",
   "execution_count": 59,
   "id": "75253e8d",
   "metadata": {
    "ExecuteTime": {
     "end_time": "2023-03-31T14:42:11.894959Z",
     "start_time": "2023-03-31T14:42:11.888777Z"
    }
   },
   "outputs": [],
   "source": [
    "import pandas as pd\n",
    "import numpy as np\n",
    "import sqlite3\n",
    "from IPython.display import Image\n",
    "import seaborn as sns\n",
    "import matplotlib.pyplot as plt"
   ]
  },
  {
   "cell_type": "markdown",
   "id": "9edba1b8",
   "metadata": {},
   "source": [
    "# Abrindo arquivos csv"
   ]
  },
  {
   "cell_type": "markdown",
   "id": "8aef0cfe",
   "metadata": {},
   "source": [
    "> ETL (extract): após o processo de extração dos dados do Kaggle."
   ]
  },
  {
   "cell_type": "code",
   "execution_count": 2,
   "id": "c5d1808b",
   "metadata": {
    "ExecuteTime": {
     "end_time": "2023-03-31T14:34:50.832672Z",
     "start_time": "2023-03-31T14:34:45.332820Z"
    }
   },
   "outputs": [],
   "source": [
    "olist_customers = pd.read_csv('data/olist_customers_dataset.csv', index_col=0)\n",
    "olist_geolocation = pd.read_csv('data/olist_geolocation_dataset.csv', index_col=0)\n",
    "olist_order_items = pd.read_csv('data/olist_order_items_dataset.csv', index_col=0)\n",
    "olist_order_payments = pd.read_csv('data/olist_order_payments_dataset.csv', index_col=0)\n",
    "olist_order_reviews = pd.read_csv('data/olist_order_reviews_dataset.csv', index_col=0)\n",
    "olist_orders = pd.read_csv('data/olist_orders_dataset.csv', index_col=0)\n",
    "olist_products = pd.read_csv('data/olist_products_dataset.csv', index_col=0)\n",
    "olist_sellers = pd.read_csv('data/olist_sellers_dataset.csv', index_col=0)\n",
    "product_category_name = pd.read_csv('data/product_category_name_translation.csv', index_col=0)"
   ]
  },
  {
   "cell_type": "markdown",
   "id": "ea998c3c",
   "metadata": {},
   "source": [
    "# Inspecionando os dados"
   ]
  },
  {
   "cell_type": "code",
   "execution_count": 3,
   "id": "0fe6ccc8",
   "metadata": {
    "ExecuteTime": {
     "end_time": "2023-03-31T14:34:50.870140Z",
     "start_time": "2023-03-31T14:34:50.840407Z"
    }
   },
   "outputs": [],
   "source": [
    "dfs = {\n",
    "    'olist_customers': olist_customers,\n",
    "    'olist_geolocation': olist_geolocation,\n",
    "    'olist_order_items': olist_order_items,\n",
    "    'olist_order_payments': olist_order_payments,\n",
    "    'olist_order_reviews': olist_order_reviews,\n",
    "    'olist_orders': olist_orders,\n",
    "    'olist_products': olist_products,\n",
    "    'olist_sellers': olist_sellers,\n",
    "    'product_category_name': product_category_name\n",
    "}"
   ]
  },
  {
   "cell_type": "markdown",
   "id": "67be805a",
   "metadata": {},
   "source": [
    "> Checando as dimensões dos dados."
   ]
  },
  {
   "cell_type": "code",
   "execution_count": 4,
   "id": "eb9f77f5",
   "metadata": {
    "ExecuteTime": {
     "end_time": "2023-03-31T14:34:50.892782Z",
     "start_time": "2023-03-31T14:34:50.882959Z"
    }
   },
   "outputs": [
    {
     "name": "stdout",
     "output_type": "stream",
     "text": [
      "olist_customers: (99441, 4)\n",
      "olist_geolocation: (1000163, 4)\n",
      "olist_order_items: (112650, 6)\n",
      "olist_order_payments: (103886, 4)\n",
      "olist_order_reviews: (99224, 6)\n",
      "olist_orders: (99441, 7)\n",
      "olist_products: (32951, 8)\n",
      "olist_sellers: (3095, 3)\n",
      "product_category_name: (71, 1)\n"
     ]
    }
   ],
   "source": [
    "for name, df in dfs.items():\n",
    "    print(f'{name}: {df.shape}')"
   ]
  },
  {
   "cell_type": "markdown",
   "id": "126d350b",
   "metadata": {},
   "source": [
    "> Checando dados nulos."
   ]
  },
  {
   "cell_type": "code",
   "execution_count": 5,
   "id": "f89f8e66",
   "metadata": {
    "ExecuteTime": {
     "end_time": "2023-03-31T14:34:50.913949Z",
     "start_time": "2023-03-31T14:34:50.895819Z"
    }
   },
   "outputs": [],
   "source": [
    "def count_nulls(column):\n",
    "    return column.isna().sum()"
   ]
  },
  {
   "cell_type": "code",
   "execution_count": 6,
   "id": "0ac9cd59",
   "metadata": {
    "ExecuteTime": {
     "end_time": "2023-03-31T14:34:51.892451Z",
     "start_time": "2023-03-31T14:34:50.920232Z"
    }
   },
   "outputs": [
    {
     "name": "stdout",
     "output_type": "stream",
     "text": [
      "tabela: olist_customers\n",
      "--------------------------------------------------\n",
      "customer_unique_id          0\n",
      "customer_zip_code_prefix    0\n",
      "customer_city               0\n",
      "customer_state              0\n",
      "dtype: int64\n",
      "--------------------------------------------------\n",
      "tabela: olist_geolocation\n",
      "--------------------------------------------------\n",
      "geolocation_lat      0\n",
      "geolocation_lng      0\n",
      "geolocation_city     0\n",
      "geolocation_state    0\n",
      "dtype: int64\n",
      "--------------------------------------------------\n",
      "tabela: olist_order_items\n",
      "--------------------------------------------------\n",
      "order_item_id          0\n",
      "product_id             0\n",
      "seller_id              0\n",
      "shipping_limit_date    0\n",
      "price                  0\n",
      "freight_value          0\n",
      "dtype: int64\n",
      "--------------------------------------------------\n",
      "tabela: olist_order_payments\n",
      "--------------------------------------------------\n",
      "payment_sequential      0\n",
      "payment_type            0\n",
      "payment_installments    0\n",
      "payment_value           0\n",
      "dtype: int64\n",
      "--------------------------------------------------\n",
      "tabela: olist_order_reviews\n",
      "--------------------------------------------------\n",
      "order_id                       0\n",
      "review_score                   0\n",
      "review_comment_title       87656\n",
      "review_comment_message     58247\n",
      "review_creation_date           0\n",
      "review_answer_timestamp        0\n",
      "dtype: int64\n",
      "--------------------------------------------------\n",
      "tabela: olist_orders\n",
      "--------------------------------------------------\n",
      "customer_id                         0\n",
      "order_status                        0\n",
      "order_purchase_timestamp            0\n",
      "order_approved_at                 160\n",
      "order_delivered_carrier_date     1783\n",
      "order_delivered_customer_date    2965\n",
      "order_estimated_delivery_date       0\n",
      "dtype: int64\n",
      "--------------------------------------------------\n",
      "tabela: olist_products\n",
      "--------------------------------------------------\n",
      "product_category_name         610\n",
      "product_name_lenght           610\n",
      "product_description_lenght    610\n",
      "product_photos_qty            610\n",
      "product_weight_g                2\n",
      "product_length_cm               2\n",
      "product_height_cm               2\n",
      "product_width_cm                2\n",
      "dtype: int64\n",
      "--------------------------------------------------\n",
      "tabela: olist_sellers\n",
      "--------------------------------------------------\n",
      "seller_zip_code_prefix    0\n",
      "seller_city               0\n",
      "seller_state              0\n",
      "dtype: int64\n",
      "--------------------------------------------------\n",
      "tabela: product_category_name\n",
      "--------------------------------------------------\n",
      "product_category_name_english    0\n",
      "dtype: int64\n",
      "--------------------------------------------------\n"
     ]
    }
   ],
   "source": [
    "for df_name, df in dfs.items():\n",
    "    null_counts = df.isnull().sum()\n",
    "    print(f'tabela: {df_name}')\n",
    "    print('-' * 50)\n",
    "    print(null_counts)\n",
    "    print('-' * 50)"
   ]
  },
  {
   "cell_type": "code",
   "execution_count": 7,
   "id": "49e125ca",
   "metadata": {
    "ExecuteTime": {
     "end_time": "2023-03-31T14:34:52.908731Z",
     "start_time": "2023-03-31T14:34:51.899706Z"
    }
   },
   "outputs": [
    {
     "name": "stdout",
     "output_type": "stream",
     "text": [
      "Informações sobre a tabela olist_customers:\n",
      "--------------------------------------------------\n",
      "<class 'pandas.core.frame.DataFrame'>\n",
      "Index: 99441 entries, 06b8999e2fba1a1fbc88172c00ba8bc7 to 274fa6071e5e17fe303b9748641082c8\n",
      "Data columns (total 4 columns):\n",
      " #   Column                    Non-Null Count  Dtype \n",
      "---  ------                    --------------  ----- \n",
      " 0   customer_unique_id        99441 non-null  object\n",
      " 1   customer_zip_code_prefix  99441 non-null  int64 \n",
      " 2   customer_city             99441 non-null  object\n",
      " 3   customer_state            99441 non-null  object\n",
      "dtypes: int64(1), object(3)\n",
      "memory usage: 3.8+ MB\n",
      "None\n",
      "--------------------------------------------------\n",
      "Informações sobre a tabela olist_geolocation:\n",
      "--------------------------------------------------\n",
      "<class 'pandas.core.frame.DataFrame'>\n",
      "Int64Index: 1000163 entries, 1037 to 99950\n",
      "Data columns (total 4 columns):\n",
      " #   Column             Non-Null Count    Dtype  \n",
      "---  ------             --------------    -----  \n",
      " 0   geolocation_lat    1000163 non-null  float64\n",
      " 1   geolocation_lng    1000163 non-null  float64\n",
      " 2   geolocation_city   1000163 non-null  object \n",
      " 3   geolocation_state  1000163 non-null  object \n",
      "dtypes: float64(2), object(2)\n",
      "memory usage: 38.2+ MB\n",
      "None\n",
      "--------------------------------------------------\n",
      "Informações sobre a tabela olist_order_items:\n",
      "--------------------------------------------------\n",
      "<class 'pandas.core.frame.DataFrame'>\n",
      "Index: 112650 entries, 00010242fe8c5a6d1ba2dd792cb16214 to fffe41c64501cc87c801fd61db3f6244\n",
      "Data columns (total 6 columns):\n",
      " #   Column               Non-Null Count   Dtype  \n",
      "---  ------               --------------   -----  \n",
      " 0   order_item_id        112650 non-null  int64  \n",
      " 1   product_id           112650 non-null  object \n",
      " 2   seller_id            112650 non-null  object \n",
      " 3   shipping_limit_date  112650 non-null  object \n",
      " 4   price                112650 non-null  float64\n",
      " 5   freight_value        112650 non-null  float64\n",
      "dtypes: float64(2), int64(1), object(3)\n",
      "memory usage: 6.0+ MB\n",
      "None\n",
      "--------------------------------------------------\n",
      "Informações sobre a tabela olist_order_payments:\n",
      "--------------------------------------------------\n",
      "<class 'pandas.core.frame.DataFrame'>\n",
      "Index: 103886 entries, b81ef226f3fe1789b1e8b2acac839d17 to 28bbae6599b09d39ca406b747b6632b1\n",
      "Data columns (total 4 columns):\n",
      " #   Column                Non-Null Count   Dtype  \n",
      "---  ------                --------------   -----  \n",
      " 0   payment_sequential    103886 non-null  int64  \n",
      " 1   payment_type          103886 non-null  object \n",
      " 2   payment_installments  103886 non-null  int64  \n",
      " 3   payment_value         103886 non-null  float64\n",
      "dtypes: float64(1), int64(2), object(1)\n",
      "memory usage: 4.0+ MB\n",
      "None\n",
      "--------------------------------------------------\n",
      "Informações sobre a tabela olist_order_reviews:\n",
      "--------------------------------------------------\n",
      "<class 'pandas.core.frame.DataFrame'>\n",
      "Index: 99224 entries, 7bc2406110b926393aa56f80a40eba40 to efe49f1d6f951dd88b51e6ccd4cc548f\n",
      "Data columns (total 6 columns):\n",
      " #   Column                   Non-Null Count  Dtype \n",
      "---  ------                   --------------  ----- \n",
      " 0   order_id                 99224 non-null  object\n",
      " 1   review_score             99224 non-null  int64 \n",
      " 2   review_comment_title     11568 non-null  object\n",
      " 3   review_comment_message   40977 non-null  object\n",
      " 4   review_creation_date     99224 non-null  object\n",
      " 5   review_answer_timestamp  99224 non-null  object\n",
      "dtypes: int64(1), object(5)\n",
      "memory usage: 5.3+ MB\n",
      "None\n",
      "--------------------------------------------------\n",
      "Informações sobre a tabela olist_orders:\n",
      "--------------------------------------------------\n",
      "<class 'pandas.core.frame.DataFrame'>\n",
      "Index: 99441 entries, e481f51cbdc54678b7cc49136f2d6af7 to 66dea50a8b16d9b4dee7af250b4be1a5\n",
      "Data columns (total 7 columns):\n",
      " #   Column                         Non-Null Count  Dtype \n",
      "---  ------                         --------------  ----- \n",
      " 0   customer_id                    99441 non-null  object\n",
      " 1   order_status                   99441 non-null  object\n",
      " 2   order_purchase_timestamp       99441 non-null  object\n",
      " 3   order_approved_at              99281 non-null  object\n",
      " 4   order_delivered_carrier_date   97658 non-null  object\n",
      " 5   order_delivered_customer_date  96476 non-null  object\n",
      " 6   order_estimated_delivery_date  99441 non-null  object\n",
      "dtypes: object(7)\n",
      "memory usage: 6.1+ MB\n",
      "None\n",
      "--------------------------------------------------\n",
      "Informações sobre a tabela olist_products:\n",
      "--------------------------------------------------\n",
      "<class 'pandas.core.frame.DataFrame'>\n",
      "Index: 32951 entries, 1e9e8ef04dbcff4541ed26657ea517e5 to 106392145fca363410d287a815be6de4\n",
      "Data columns (total 8 columns):\n",
      " #   Column                      Non-Null Count  Dtype  \n",
      "---  ------                      --------------  -----  \n",
      " 0   product_category_name       32341 non-null  object \n",
      " 1   product_name_lenght         32341 non-null  float64\n",
      " 2   product_description_lenght  32341 non-null  float64\n",
      " 3   product_photos_qty          32341 non-null  float64\n",
      " 4   product_weight_g            32949 non-null  float64\n",
      " 5   product_length_cm           32949 non-null  float64\n",
      " 6   product_height_cm           32949 non-null  float64\n",
      " 7   product_width_cm            32949 non-null  float64\n",
      "dtypes: float64(7), object(1)\n",
      "memory usage: 2.3+ MB\n",
      "None\n",
      "--------------------------------------------------\n",
      "Informações sobre a tabela olist_sellers:\n",
      "--------------------------------------------------\n",
      "<class 'pandas.core.frame.DataFrame'>\n",
      "Index: 3095 entries, 3442f8959a84dea7ee197c632cb2df15 to 9e25199f6ef7e7c347120ff175652c3b\n",
      "Data columns (total 3 columns):\n",
      " #   Column                  Non-Null Count  Dtype \n",
      "---  ------                  --------------  ----- \n",
      " 0   seller_zip_code_prefix  3095 non-null   int64 \n",
      " 1   seller_city             3095 non-null   object\n",
      " 2   seller_state            3095 non-null   object\n",
      "dtypes: int64(1), object(2)\n",
      "memory usage: 96.7+ KB\n",
      "None\n",
      "--------------------------------------------------\n",
      "Informações sobre a tabela product_category_name:\n",
      "--------------------------------------------------\n",
      "<class 'pandas.core.frame.DataFrame'>\n",
      "Index: 71 entries, beleza_saude to seguros_e_servicos\n",
      "Data columns (total 1 columns):\n",
      " #   Column                         Non-Null Count  Dtype \n",
      "---  ------                         --------------  ----- \n",
      " 0   product_category_name_english  71 non-null     object\n",
      "dtypes: object(1)\n",
      "memory usage: 1.1+ KB\n",
      "None\n",
      "--------------------------------------------------\n"
     ]
    }
   ],
   "source": [
    "for tabela, df in dfs.items():\n",
    "    print(f'Informações sobre a tabela {tabela}:')\n",
    "    print('-' * 50)\n",
    "    print(df.info())\n",
    "    print('-' * 50)"
   ]
  },
  {
   "cell_type": "markdown",
   "id": "5d3ef97c",
   "metadata": {},
   "source": [
    "# Transformação dos dados"
   ]
  },
  {
   "cell_type": "markdown",
   "id": "e0d061de",
   "metadata": {},
   "source": [
    "> ETL (transform): etapa de transformação dos dados."
   ]
  },
  {
   "cell_type": "markdown",
   "id": "7389d9c4",
   "metadata": {},
   "source": [
    "###### olist_order_reviews"
   ]
  },
  {
   "cell_type": "markdown",
   "id": "4b5872a1",
   "metadata": {
    "ExecuteTime": {
     "end_time": "2023-03-29T21:34:40.325255Z",
     "start_time": "2023-03-29T21:34:40.292917Z"
    }
   },
   "source": [
    "Transformando `review_creation_date` e `review_answer_timestamp` de object para datetime."
   ]
  },
  {
   "cell_type": "code",
   "execution_count": 8,
   "id": "29634e8a",
   "metadata": {
    "ExecuteTime": {
     "end_time": "2023-03-31T14:34:53.049157Z",
     "start_time": "2023-03-31T14:34:52.912556Z"
    }
   },
   "outputs": [
    {
     "name": "stdout",
     "output_type": "stream",
     "text": [
      "<class 'pandas.core.frame.DataFrame'>\n",
      "Index: 99224 entries, 7bc2406110b926393aa56f80a40eba40 to efe49f1d6f951dd88b51e6ccd4cc548f\n",
      "Data columns (total 6 columns):\n",
      " #   Column                   Non-Null Count  Dtype \n",
      "---  ------                   --------------  ----- \n",
      " 0   order_id                 99224 non-null  object\n",
      " 1   review_score             99224 non-null  int64 \n",
      " 2   review_comment_title     11568 non-null  object\n",
      " 3   review_comment_message   40977 non-null  object\n",
      " 4   review_creation_date     99224 non-null  object\n",
      " 5   review_answer_timestamp  99224 non-null  object\n",
      "dtypes: int64(1), object(5)\n",
      "memory usage: 5.3+ MB\n"
     ]
    }
   ],
   "source": [
    "olist_order_reviews.info()"
   ]
  },
  {
   "cell_type": "code",
   "execution_count": 9,
   "id": "00435ad6",
   "metadata": {
    "ExecuteTime": {
     "end_time": "2023-03-31T14:34:53.233050Z",
     "start_time": "2023-03-31T14:34:53.057494Z"
    }
   },
   "outputs": [
    {
     "name": "stdout",
     "output_type": "stream",
     "text": [
      "<class 'pandas.core.frame.DataFrame'>\n",
      "Index: 99224 entries, 7bc2406110b926393aa56f80a40eba40 to efe49f1d6f951dd88b51e6ccd4cc548f\n",
      "Data columns (total 6 columns):\n",
      " #   Column                   Non-Null Count  Dtype         \n",
      "---  ------                   --------------  -----         \n",
      " 0   order_id                 99224 non-null  object        \n",
      " 1   review_score             99224 non-null  int64         \n",
      " 2   review_comment_title     11568 non-null  object        \n",
      " 3   review_comment_message   40977 non-null  object        \n",
      " 4   review_creation_date     99224 non-null  datetime64[ns]\n",
      " 5   review_answer_timestamp  99224 non-null  datetime64[ns]\n",
      "dtypes: datetime64[ns](2), int64(1), object(3)\n",
      "memory usage: 5.3+ MB\n",
      "None\n"
     ]
    }
   ],
   "source": [
    "olist_order_reviews['review_creation_date'] = pd.to_datetime(olist_order_reviews['review_creation_date'])\n",
    "\n",
    "olist_order_reviews['review_answer_timestamp'] = pd.to_datetime(olist_order_reviews['review_answer_timestamp'])\n",
    "\n",
    "print(olist_order_reviews.info())"
   ]
  },
  {
   "cell_type": "markdown",
   "id": "e84b5507",
   "metadata": {},
   "source": [
    "Removendo colunas de comentários dos clientes `review_comment_title` e `review_comment_message`, pois não serão utilizadas e possuem muitos dados nulos."
   ]
  },
  {
   "cell_type": "code",
   "execution_count": 10,
   "id": "6d7815fe",
   "metadata": {
    "ExecuteTime": {
     "end_time": "2023-03-31T14:34:53.261732Z",
     "start_time": "2023-03-31T14:34:53.241720Z"
    }
   },
   "outputs": [],
   "source": [
    "olist_order_reviews.drop(['review_comment_title', 'review_comment_message'], axis=1, inplace=True)"
   ]
  },
  {
   "cell_type": "markdown",
   "id": "c749f3a3",
   "metadata": {},
   "source": [
    "###### olist_geolocation"
   ]
  },
  {
   "cell_type": "markdown",
   "id": "17dab6eb",
   "metadata": {},
   "source": [
    "Foi necessário remover a acentuação dos nomes das cidades, pois algumas delas apresentavam dados duplicados em decorrência da presença do nome com e sem acento."
   ]
  },
  {
   "cell_type": "code",
   "execution_count": 11,
   "id": "44d183ad",
   "metadata": {
    "ExecuteTime": {
     "end_time": "2023-03-31T14:34:53.407648Z",
     "start_time": "2023-03-31T14:34:53.265487Z"
    },
    "scrolled": false
   },
   "outputs": [
    {
     "data": {
      "text/plain": [
       "sao paulo               135800\n",
       "rio de janeiro           62151\n",
       "belo horizonte           27805\n",
       "são paulo                24918\n",
       "curitiba                 16593\n",
       "                         ...  \n",
       "jacuípe                      1\n",
       "mar vermelho                 1\n",
       "quebrangulo                  1\n",
       "poço das trincheiras         1\n",
       "poxim                        1\n",
       "Name: geolocation_city, Length: 8011, dtype: int64"
      ]
     },
     "execution_count": 11,
     "metadata": {},
     "output_type": "execute_result"
    }
   ],
   "source": [
    "olist_geolocation['geolocation_city'].value_counts()"
   ]
  },
  {
   "cell_type": "code",
   "execution_count": 12,
   "id": "d4bebfbf",
   "metadata": {
    "ExecuteTime": {
     "end_time": "2023-03-31T14:34:55.826159Z",
     "start_time": "2023-03-31T14:34:53.411387Z"
    }
   },
   "outputs": [],
   "source": [
    "olist_geolocation['geolocation_city'] = olist_geolocation['geolocation_city'].str.normalize(\n",
    "    'NFKD').str.encode('ascii', errors='ignore').str.decode('utf-8').str.lower()"
   ]
  },
  {
   "cell_type": "code",
   "execution_count": 13,
   "id": "29e07040",
   "metadata": {
    "ExecuteTime": {
     "end_time": "2023-03-31T14:34:56.011822Z",
     "start_time": "2023-03-31T14:34:55.836245Z"
    }
   },
   "outputs": [
    {
     "data": {
      "text/plain": [
       "sao paulo                160719\n",
       "rio de janeiro            62151\n",
       "belo horizonte            27805\n",
       "curitiba                  16593\n",
       "porto alegre              13521\n",
       "                          ...  \n",
       "poxim                         1\n",
       "luziapolis                    1\n",
       "sao jose dos salgados         1\n",
       "martins guimaraes             1\n",
       "lagoa salgada                 1\n",
       "Name: geolocation_city, Length: 5968, dtype: int64"
      ]
     },
     "execution_count": 13,
     "metadata": {},
     "output_type": "execute_result"
    }
   ],
   "source": [
    "olist_geolocation['geolocation_city'].value_counts()"
   ]
  },
  {
   "cell_type": "markdown",
   "id": "6a275f68",
   "metadata": {},
   "source": [
    "###### olist_orders"
   ]
  },
  {
   "cell_type": "code",
   "execution_count": 14,
   "id": "447b4b1e",
   "metadata": {
    "ExecuteTime": {
     "end_time": "2023-03-31T14:34:56.051893Z",
     "start_time": "2023-03-31T14:34:56.022317Z"
    }
   },
   "outputs": [
    {
     "data": {
      "text/plain": [
       "array(['delivered', 'invoiced', 'shipped', 'processing', 'unavailable',\n",
       "       'canceled', 'created', 'approved'], dtype=object)"
      ]
     },
     "execution_count": 14,
     "metadata": {},
     "output_type": "execute_result"
    }
   ],
   "source": [
    "olist_orders['order_status'].unique()"
   ]
  },
  {
   "cell_type": "markdown",
   "id": "9e2536dd",
   "metadata": {},
   "source": [
    "> Dropando colunas com dados nulos `order_approved_at`, `order_delivered_carrier_date` e `order_delivered_customer_date`, pois não serão utilizadas na análise."
   ]
  },
  {
   "cell_type": "code",
   "execution_count": 15,
   "id": "13ffd070",
   "metadata": {
    "ExecuteTime": {
     "end_time": "2023-03-31T14:34:56.170800Z",
     "start_time": "2023-03-31T14:34:56.060727Z"
    }
   },
   "outputs": [],
   "source": [
    "olist_orders.drop(['order_purchase_timestamp','order_approved_at',\n",
    "                   'order_delivered_carrier_date','order_delivered_customer_date',\n",
    "                   'order_estimated_delivery_date'],axis=1, inplace=True)"
   ]
  },
  {
   "cell_type": "code",
   "execution_count": 16,
   "id": "41ba15e4",
   "metadata": {
    "ExecuteTime": {
     "end_time": "2023-03-31T14:34:56.185772Z",
     "start_time": "2023-03-31T14:34:56.174794Z"
    }
   },
   "outputs": [
    {
     "data": {
      "text/plain": [
       "Index(['customer_id', 'order_status'], dtype='object')"
      ]
     },
     "execution_count": 16,
     "metadata": {},
     "output_type": "execute_result"
    }
   ],
   "source": [
    "olist_orders.columns"
   ]
  },
  {
   "cell_type": "markdown",
   "id": "a25f2ff6",
   "metadata": {},
   "source": [
    "###### olist_products"
   ]
  },
  {
   "cell_type": "markdown",
   "id": "bb18cf74",
   "metadata": {},
   "source": [
    "Verificando dados nulos na coluna `product_category_name`."
   ]
  },
  {
   "cell_type": "code",
   "execution_count": 17,
   "id": "3c388ce8",
   "metadata": {
    "ExecuteTime": {
     "end_time": "2023-03-31T14:34:56.206303Z",
     "start_time": "2023-03-31T14:34:56.192658Z"
    }
   },
   "outputs": [
    {
     "data": {
      "text/plain": [
       "array(['perfumaria', 'artes', 'esporte_lazer', 'bebes',\n",
       "       'utilidades_domesticas', 'instrumentos_musicais', 'cool_stuff',\n",
       "       'moveis_decoracao', 'eletrodomesticos', 'brinquedos',\n",
       "       'cama_mesa_banho', 'construcao_ferramentas_seguranca',\n",
       "       'informatica_acessorios', 'beleza_saude', 'malas_acessorios',\n",
       "       'ferramentas_jardim', 'moveis_escritorio', 'automotivo',\n",
       "       'eletronicos', 'fashion_calcados', 'telefonia', 'papelaria',\n",
       "       'fashion_bolsas_e_acessorios', 'pcs', 'casa_construcao',\n",
       "       'relogios_presentes', 'construcao_ferramentas_construcao',\n",
       "       'pet_shop', 'eletroportateis', 'agro_industria_e_comercio', nan,\n",
       "       'moveis_sala', 'sinalizacao_e_seguranca', 'climatizacao',\n",
       "       'consoles_games', 'livros_interesse_geral',\n",
       "       'construcao_ferramentas_ferramentas',\n",
       "       'fashion_underwear_e_moda_praia', 'fashion_roupa_masculina',\n",
       "       'moveis_cozinha_area_de_servico_jantar_e_jardim',\n",
       "       'industria_comercio_e_negocios', 'telefonia_fixa',\n",
       "       'construcao_ferramentas_iluminacao', 'livros_tecnicos',\n",
       "       'eletrodomesticos_2', 'artigos_de_festas', 'bebidas',\n",
       "       'market_place', 'la_cuisine', 'construcao_ferramentas_jardim',\n",
       "       'fashion_roupa_feminina', 'casa_conforto', 'audio',\n",
       "       'alimentos_bebidas', 'musica', 'alimentos',\n",
       "       'tablets_impressao_imagem', 'livros_importados',\n",
       "       'portateis_casa_forno_e_cafe', 'fashion_esporte',\n",
       "       'artigos_de_natal', 'fashion_roupa_infanto_juvenil',\n",
       "       'dvds_blu_ray', 'artes_e_artesanato', 'pc_gamer', 'moveis_quarto',\n",
       "       'cine_foto', 'fraldas_higiene', 'flores', 'casa_conforto_2',\n",
       "       'portateis_cozinha_e_preparadores_de_alimentos',\n",
       "       'seguros_e_servicos', 'moveis_colchao_e_estofado',\n",
       "       'cds_dvds_musicais'], dtype=object)"
      ]
     },
     "execution_count": 17,
     "metadata": {},
     "output_type": "execute_result"
    }
   ],
   "source": [
    "olist_products['product_category_name'].unique()"
   ]
  },
  {
   "cell_type": "markdown",
   "id": "ce0327a4",
   "metadata": {},
   "source": [
    "> Checando se Todas as linhas do `product_id` são únicas. O índice foi transformado de product_id para o índice numérico padrão."
   ]
  },
  {
   "cell_type": "code",
   "execution_count": 18,
   "id": "d306a989",
   "metadata": {
    "ExecuteTime": {
     "end_time": "2023-03-31T14:34:56.219938Z",
     "start_time": "2023-03-31T14:34:56.212577Z"
    }
   },
   "outputs": [
    {
     "data": {
      "text/plain": [
       "(32951, 8)"
      ]
     },
     "execution_count": 18,
     "metadata": {},
     "output_type": "execute_result"
    }
   ],
   "source": [
    "olist_products.shape"
   ]
  },
  {
   "cell_type": "code",
   "execution_count": 19,
   "id": "af7f8a3c",
   "metadata": {
    "ExecuteTime": {
     "end_time": "2023-03-31T14:34:56.258849Z",
     "start_time": "2023-03-31T14:34:56.227087Z"
    }
   },
   "outputs": [
    {
     "data": {
      "text/plain": [
       "32951"
      ]
     },
     "execution_count": 19,
     "metadata": {},
     "output_type": "execute_result"
    }
   ],
   "source": [
    "products = olist_products.reset_index()\n",
    "\n",
    "products = products['product_id']\n",
    "\n",
    "products.nunique()"
   ]
  },
  {
   "cell_type": "markdown",
   "id": "cff98740",
   "metadata": {},
   "source": [
    "> Como todas as linhas do conjunto de dados são exclusivas e nenhum nome de produto com dados nulos foi repetido, não há valores nulos que possam ser transformados. Sendo assim, a melhor opção foi removê-los."
   ]
  },
  {
   "cell_type": "code",
   "execution_count": 20,
   "id": "13a2cea5",
   "metadata": {
    "ExecuteTime": {
     "end_time": "2023-03-31T14:34:56.278873Z",
     "start_time": "2023-03-31T14:34:56.264639Z"
    }
   },
   "outputs": [],
   "source": [
    "olist_products['product_category_name'].dropna(inplace=True)"
   ]
  },
  {
   "cell_type": "markdown",
   "id": "088b3e7c",
   "metadata": {},
   "source": [
    "> As colunas abaixo tratam das dimensões dos produtos e não são de interesse para essa visualização de dados, por isso foram removidas."
   ]
  },
  {
   "cell_type": "code",
   "execution_count": 21,
   "id": "ab4ebaf6",
   "metadata": {
    "ExecuteTime": {
     "end_time": "2023-03-31T14:34:56.294471Z",
     "start_time": "2023-03-31T14:34:56.288194Z"
    }
   },
   "outputs": [],
   "source": [
    "olist_products.drop(['product_name_lenght','product_description_lenght','product_photos_qty',\n",
    "                     'product_weight_g','product_length_cm', 'product_height_cm',\n",
    "                     'product_width_cm'], axis=1, inplace=True)"
   ]
  },
  {
   "cell_type": "code",
   "execution_count": 22,
   "id": "30f27f65",
   "metadata": {
    "ExecuteTime": {
     "end_time": "2023-03-31T14:34:56.308986Z",
     "start_time": "2023-03-31T14:34:56.298406Z"
    },
    "scrolled": true
   },
   "outputs": [
    {
     "data": {
      "text/plain": [
       "Index(['product_category_name'], dtype='object')"
      ]
     },
     "execution_count": 22,
     "metadata": {},
     "output_type": "execute_result"
    }
   ],
   "source": [
    "olist_products.columns"
   ]
  },
  {
   "cell_type": "markdown",
   "id": "6d2b0cb9",
   "metadata": {},
   "source": [
    "# Criando o banco de dados"
   ]
  },
  {
   "cell_type": "markdown",
   "id": "d5e0cb2b",
   "metadata": {},
   "source": [
    "> ETL - load: Etapa de carregamento com a criação do banco de dados."
   ]
  },
  {
   "cell_type": "markdown",
   "id": "9d8021c4",
   "metadata": {},
   "source": [
    "Conexão do banco de dados."
   ]
  },
  {
   "cell_type": "code",
   "execution_count": 23,
   "id": "79ed85c3",
   "metadata": {
    "ExecuteTime": {
     "end_time": "2023-03-31T14:34:56.323651Z",
     "start_time": "2023-03-31T14:34:56.317330Z"
    }
   },
   "outputs": [],
   "source": [
    "conn = sqlite3.connect('olist.db')"
   ]
  },
  {
   "cell_type": "markdown",
   "id": "96818438",
   "metadata": {},
   "source": [
    "Criando as tabelas do banco de dados."
   ]
  },
  {
   "cell_type": "code",
   "execution_count": 24,
   "id": "94fd4729",
   "metadata": {
    "ExecuteTime": {
     "end_time": "2023-03-31T14:35:12.996238Z",
     "start_time": "2023-03-31T14:34:56.327922Z"
    }
   },
   "outputs": [
    {
     "data": {
      "text/plain": [
       "3095"
      ]
     },
     "execution_count": 24,
     "metadata": {},
     "output_type": "execute_result"
    }
   ],
   "source": [
    "olist_customers.to_sql(name='olist_customers', con=conn, if_exists='replace')\n",
    "olist_geolocation.to_sql(name='olist_geolocation', con=conn, if_exists='replace')\n",
    "olist_order_items.to_sql(name='olist_order_items',con=conn, if_exists='replace')\n",
    "olist_order_payments.to_sql(name='olist_order_payments', con=conn, if_exists='replace')\n",
    "olist_order_reviews.to_sql(name='olist_order_reviews', con=conn, if_exists='replace')\n",
    "olist_orders.to_sql(name='olist_orders', con=conn, if_exists='replace')\n",
    "olist_products.to_sql(name='olist_products', con=conn, if_exists='replace')\n",
    "olist_sellers.to_sql(name='olist_sellers', con=conn, if_exists='replace')\n",
    "#product_category_name.to_sql(name='product_category_name', con=conn, if_exists='replace')"
   ]
  },
  {
   "cell_type": "markdown",
   "id": "1edb63ba",
   "metadata": {},
   "source": [
    "Checando as tabelas presentes no banco de dados."
   ]
  },
  {
   "cell_type": "code",
   "execution_count": 25,
   "id": "85eb8380",
   "metadata": {
    "ExecuteTime": {
     "end_time": "2023-03-31T14:35:13.222997Z",
     "start_time": "2023-03-31T14:35:13.000871Z"
    }
   },
   "outputs": [
    {
     "name": "stdout",
     "output_type": "stream",
     "text": [
      "olist_customers       olist_order_payments  olist_products      \r\n",
      "olist_geolocation     olist_order_reviews   olist_sellers       \r\n",
      "olist_order_items     olist_orders        \r\n"
     ]
    }
   ],
   "source": [
    "!sqlite3 olist.db '.tables'"
   ]
  },
  {
   "cell_type": "markdown",
   "id": "cde928ec",
   "metadata": {},
   "source": [
    "Verificando informações das tabelas do banco de dados `olist.db`."
   ]
  },
  {
   "cell_type": "code",
   "execution_count": 26,
   "id": "87753645",
   "metadata": {
    "ExecuteTime": {
     "end_time": "2023-03-31T14:35:13.409339Z",
     "start_time": "2023-03-31T14:35:13.227806Z"
    }
   },
   "outputs": [
    {
     "name": "stdout",
     "output_type": "stream",
     "text": [
      "0|customer_id|TEXT|0||0\r\n",
      "1|customer_unique_id|TEXT|0||0\r\n",
      "2|customer_zip_code_prefix|INTEGER|0||0\r\n",
      "3|customer_city|TEXT|0||0\r\n",
      "4|customer_state|TEXT|0||0\r\n"
     ]
    }
   ],
   "source": [
    "!sqlite3 olist.db 'PRAGMA table_info(olist_customers)'"
   ]
  },
  {
   "cell_type": "markdown",
   "id": "9c4c040f",
   "metadata": {
    "heading_collapsed": true
   },
   "source": [
    "# MER (Modelo Entidade-Relacionamento)"
   ]
  },
  {
   "cell_type": "code",
   "execution_count": 27,
   "id": "22157ac2",
   "metadata": {
    "ExecuteTime": {
     "end_time": "2023-03-31T14:35:13.495474Z",
     "start_time": "2023-03-31T14:35:13.415466Z"
    },
    "hidden": true
   },
   "outputs": [
    {
     "data": {
      "image/png": "[encoded data removed]",
      "text/plain": [
       "<IPython.core.display.Image object>"
      ]
     },
     "execution_count": 27,
     "metadata": {},
     "output_type": "execute_result"
    }
   ],
   "source": [
    "Image(\"img/MER.png\")"
   ]
  },
  {
   "cell_type": "markdown",
   "id": "28d34053",
   "metadata": {
    "heading_collapsed": true
   },
   "source": [
    "# Lista de queries"
   ]
  },
  {
   "cell_type": "markdown",
   "id": "274cabcb",
   "metadata": {
    "hidden": true
   },
   "source": [
    "> #### 1. Total de estados registrados.\n",
    "\n",
    ">#### 2. Quantidade de cidades por estado.\n",
    "\n",
    ">#### 3. Total de produtos cadastrados.\n",
    "\n",
    ">#### 4. Número de pedidos por estado.\n",
    "\n",
    ">#### 5. Número de pedidos por cidade em Minas Gerais e São Paulo.\n",
    "\n",
    ">#### 6. Categorias de produto que mais venderam em Minas Gerais e São Paulo.\n",
    "\n",
    ">#### 7. Quantidade de vendedores por estado.\n",
    "\n",
    ">#### 8. Quantidade de pedidos por status de pedido.\n",
    "\n",
    ">#### 9. Quantidade de pedidos entregues e quantidade de pedidos cancelados.\n",
    "\n",
    ">#### 10.Quantidade de pedidos por tipo de pagamento\n",
    "\n",
    ">#### 11. Preço máximo, mínimo e médio dos valores de pedidos feitos com cartão de crédito.\n",
    "\n",
    ">#### 12. Frete por categoria do produto.\n",
    "\n",
    ">#### 13. Total de pedidos cadastrados\n",
    "\n",
    ">#### 14. Distribuição de reviews dos clientes.\n",
    "\n",
    ">#### 15. Ano em que mais enviou produtos."
   ]
  },
  {
   "cell_type": "markdown",
   "id": "3d729df0",
   "metadata": {},
   "source": [
    "# Queries com SQL"
   ]
  },
  {
   "cell_type": "markdown",
   "id": "48c6844d",
   "metadata": {
    "heading_collapsed": true
   },
   "source": [
    "## 1. Total de estados registrados"
   ]
  },
  {
   "cell_type": "markdown",
   "id": "048bc36b",
   "metadata": {
    "hidden": true
   },
   "source": [
    "> Consulta SQL."
   ]
  },
  {
   "cell_type": "code",
   "execution_count": 28,
   "id": "3bd6aeb6",
   "metadata": {
    "ExecuteTime": {
     "end_time": "2023-03-31T14:35:13.857998Z",
     "start_time": "2023-03-31T14:35:13.516979Z"
    },
    "hidden": true
   },
   "outputs": [
    {
     "data": {
      "text/html": [
       "<div>\n",
       "<style scoped>\n",
       "    .dataframe tbody tr th:only-of-type {\n",
       "        vertical-align: middle;\n",
       "    }\n",
       "\n",
       "    .dataframe tbody tr th {\n",
       "        vertical-align: top;\n",
       "    }\n",
       "\n",
       "    .dataframe thead th {\n",
       "        text-align: right;\n",
       "    }\n",
       "</style>\n",
       "<table border=\"1\" class=\"dataframe\">\n",
       "  <thead>\n",
       "    <tr style=\"text-align: right;\">\n",
       "      <th></th>\n",
       "      <th>estados_registrados</th>\n",
       "    </tr>\n",
       "  </thead>\n",
       "  <tbody>\n",
       "    <tr>\n",
       "      <th>0</th>\n",
       "      <td>27</td>\n",
       "    </tr>\n",
       "  </tbody>\n",
       "</table>\n",
       "</div>"
      ],
      "text/plain": [
       "   estados_registrados\n",
       "0                   27"
      ]
     },
     "execution_count": 28,
     "metadata": {},
     "output_type": "execute_result"
    }
   ],
   "source": [
    "query = \"\"\"\n",
    "\n",
    "        SELECT COUNT(DISTINCT(geolocation_state)) AS estados_registrados\n",
    "        \n",
    "        FROM olist_geolocation;\n",
    "\n",
    "        \"\"\"\n",
    "\n",
    "geolocation_state = pd.read_sql(query, con=conn)\n",
    "geolocation_state"
   ]
  },
  {
   "cell_type": "markdown",
   "id": "b7992697",
   "metadata": {
    "heading_collapsed": true
   },
   "source": [
    "## 2. Quantidade de cidades por estado"
   ]
  },
  {
   "cell_type": "markdown",
   "id": "7557b233",
   "metadata": {
    "hidden": true
   },
   "source": [
    "> Consulta SQL."
   ]
  },
  {
   "cell_type": "code",
   "execution_count": 29,
   "id": "6dc590b6",
   "metadata": {
    "ExecuteTime": {
     "end_time": "2023-03-31T14:35:15.088407Z",
     "start_time": "2023-03-31T14:35:13.862937Z"
    },
    "hidden": true
   },
   "outputs": [
    {
     "data": {
      "text/html": [
       "<div>\n",
       "<style scoped>\n",
       "    .dataframe tbody tr th:only-of-type {\n",
       "        vertical-align: middle;\n",
       "    }\n",
       "\n",
       "    .dataframe tbody tr th {\n",
       "        vertical-align: top;\n",
       "    }\n",
       "\n",
       "    .dataframe thead th {\n",
       "        text-align: right;\n",
       "    }\n",
       "</style>\n",
       "<table border=\"1\" class=\"dataframe\">\n",
       "  <thead>\n",
       "    <tr style=\"text-align: right;\">\n",
       "      <th></th>\n",
       "      <th>cidades_registradas</th>\n",
       "      <th>estados_registrados</th>\n",
       "    </tr>\n",
       "  </thead>\n",
       "  <tbody>\n",
       "    <tr>\n",
       "      <th>0</th>\n",
       "      <td>1091</td>\n",
       "      <td>MG</td>\n",
       "    </tr>\n",
       "    <tr>\n",
       "      <th>1</th>\n",
       "      <td>760</td>\n",
       "      <td>SP</td>\n",
       "    </tr>\n",
       "    <tr>\n",
       "      <th>2</th>\n",
       "      <td>524</td>\n",
       "      <td>RS</td>\n",
       "    </tr>\n",
       "    <tr>\n",
       "      <th>3</th>\n",
       "      <td>477</td>\n",
       "      <td>BA</td>\n",
       "    </tr>\n",
       "    <tr>\n",
       "      <th>4</th>\n",
       "      <td>470</td>\n",
       "      <td>PR</td>\n",
       "    </tr>\n",
       "    <tr>\n",
       "      <th>5</th>\n",
       "      <td>313</td>\n",
       "      <td>SC</td>\n",
       "    </tr>\n",
       "    <tr>\n",
       "      <th>6</th>\n",
       "      <td>257</td>\n",
       "      <td>GO</td>\n",
       "    </tr>\n",
       "    <tr>\n",
       "      <th>7</th>\n",
       "      <td>222</td>\n",
       "      <td>MA</td>\n",
       "    </tr>\n",
       "    <tr>\n",
       "      <th>8</th>\n",
       "      <td>212</td>\n",
       "      <td>CE</td>\n",
       "    </tr>\n",
       "    <tr>\n",
       "      <th>9</th>\n",
       "      <td>210</td>\n",
       "      <td>PE</td>\n",
       "    </tr>\n",
       "    <tr>\n",
       "      <th>10</th>\n",
       "      <td>207</td>\n",
       "      <td>PB</td>\n",
       "    </tr>\n",
       "    <tr>\n",
       "      <th>11</th>\n",
       "      <td>206</td>\n",
       "      <td>PI</td>\n",
       "    </tr>\n",
       "    <tr>\n",
       "      <th>12</th>\n",
       "      <td>192</td>\n",
       "      <td>RJ</td>\n",
       "    </tr>\n",
       "    <tr>\n",
       "      <th>13</th>\n",
       "      <td>167</td>\n",
       "      <td>RN</td>\n",
       "    </tr>\n",
       "    <tr>\n",
       "      <th>14</th>\n",
       "      <td>157</td>\n",
       "      <td>MT</td>\n",
       "    </tr>\n",
       "    <tr>\n",
       "      <th>15</th>\n",
       "      <td>153</td>\n",
       "      <td>PA</td>\n",
       "    </tr>\n",
       "    <tr>\n",
       "      <th>16</th>\n",
       "      <td>128</td>\n",
       "      <td>TO</td>\n",
       "    </tr>\n",
       "    <tr>\n",
       "      <th>17</th>\n",
       "      <td>125</td>\n",
       "      <td>ES</td>\n",
       "    </tr>\n",
       "    <tr>\n",
       "      <th>18</th>\n",
       "      <td>108</td>\n",
       "      <td>AL</td>\n",
       "    </tr>\n",
       "    <tr>\n",
       "      <th>19</th>\n",
       "      <td>98</td>\n",
       "      <td>MS</td>\n",
       "    </tr>\n",
       "    <tr>\n",
       "      <th>20</th>\n",
       "      <td>73</td>\n",
       "      <td>SE</td>\n",
       "    </tr>\n",
       "    <tr>\n",
       "      <th>21</th>\n",
       "      <td>67</td>\n",
       "      <td>RO</td>\n",
       "    </tr>\n",
       "    <tr>\n",
       "      <th>22</th>\n",
       "      <td>59</td>\n",
       "      <td>AM</td>\n",
       "    </tr>\n",
       "    <tr>\n",
       "      <th>23</th>\n",
       "      <td>26</td>\n",
       "      <td>AC</td>\n",
       "    </tr>\n",
       "    <tr>\n",
       "      <th>24</th>\n",
       "      <td>21</td>\n",
       "      <td>DF</td>\n",
       "    </tr>\n",
       "    <tr>\n",
       "      <th>25</th>\n",
       "      <td>14</td>\n",
       "      <td>AP</td>\n",
       "    </tr>\n",
       "    <tr>\n",
       "      <th>26</th>\n",
       "      <td>12</td>\n",
       "      <td>RR</td>\n",
       "    </tr>\n",
       "  </tbody>\n",
       "</table>\n",
       "</div>"
      ],
      "text/plain": [
       "    cidades_registradas estados_registrados\n",
       "0                  1091                  MG\n",
       "1                   760                  SP\n",
       "2                   524                  RS\n",
       "3                   477                  BA\n",
       "4                   470                  PR\n",
       "5                   313                  SC\n",
       "6                   257                  GO\n",
       "7                   222                  MA\n",
       "8                   212                  CE\n",
       "9                   210                  PE\n",
       "10                  207                  PB\n",
       "11                  206                  PI\n",
       "12                  192                  RJ\n",
       "13                  167                  RN\n",
       "14                  157                  MT\n",
       "15                  153                  PA\n",
       "16                  128                  TO\n",
       "17                  125                  ES\n",
       "18                  108                  AL\n",
       "19                   98                  MS\n",
       "20                   73                  SE\n",
       "21                   67                  RO\n",
       "22                   59                  AM\n",
       "23                   26                  AC\n",
       "24                   21                  DF\n",
       "25                   14                  AP\n",
       "26                   12                  RR"
      ]
     },
     "execution_count": 29,
     "metadata": {},
     "output_type": "execute_result"
    }
   ],
   "source": [
    "query = \"\"\"\n",
    "\n",
    "        SELECT COUNT(DISTINCT geolocation_city) AS cidades_registradas, geolocation_state AS estados_registrados\n",
    "        \n",
    "        FROM olist_geolocation \n",
    "        \n",
    "        GROUP BY geolocation_state \n",
    "        \n",
    "        ORDER BY COUNT(DISTINCT geolocation_city) DESC;\n",
    "\n",
    "        \"\"\"\n",
    "\n",
    "geolocation_city = pd.read_sql(query, con=conn)\n",
    "geolocation_city"
   ]
  },
  {
   "cell_type": "code",
   "execution_count": 91,
   "id": "7a1f61a1",
   "metadata": {
    "ExecuteTime": {
     "end_time": "2023-03-31T15:40:32.064273Z",
     "start_time": "2023-03-31T15:40:31.201346Z"
    },
    "hidden": true
   },
   "outputs": [
    {
     "data": {
      "image/png": "[encoded data removed]",
      "text/plain": [
       "<Figure size 1152x720 with 1 Axes>"
      ]
     },
     "metadata": {},
     "output_type": "display_data"
    }
   ],
   "source": [
    "plt.figure(figsize=(16, 10))\n",
    "sns.set(style=\"darkgrid\")\n",
    "sns.barplot(x='estados_registrados', y='cidades_registradas',data=geolocation_city, palette=\"viridis\")\n",
    "plt.show()"
   ]
  },
  {
   "cell_type": "markdown",
   "id": "284d5f6c",
   "metadata": {
    "heading_collapsed": true
   },
   "source": [
    "## 3. Total de produtos cadastrados"
   ]
  },
  {
   "cell_type": "markdown",
   "id": "ddcb38d8",
   "metadata": {
    "hidden": true
   },
   "source": [
    "> Consulta SQL."
   ]
  },
  {
   "cell_type": "code",
   "execution_count": 31,
   "id": "8d4b645b",
   "metadata": {
    "ExecuteTime": {
     "end_time": "2023-03-31T14:35:16.250249Z",
     "start_time": "2023-03-31T14:35:16.209675Z"
    },
    "hidden": true
   },
   "outputs": [
    {
     "data": {
      "text/html": [
       "<div>\n",
       "<style scoped>\n",
       "    .dataframe tbody tr th:only-of-type {\n",
       "        vertical-align: middle;\n",
       "    }\n",
       "\n",
       "    .dataframe tbody tr th {\n",
       "        vertical-align: top;\n",
       "    }\n",
       "\n",
       "    .dataframe thead th {\n",
       "        text-align: right;\n",
       "    }\n",
       "</style>\n",
       "<table border=\"1\" class=\"dataframe\">\n",
       "  <thead>\n",
       "    <tr style=\"text-align: right;\">\n",
       "      <th></th>\n",
       "      <th>total_produtos</th>\n",
       "    </tr>\n",
       "  </thead>\n",
       "  <tbody>\n",
       "    <tr>\n",
       "      <th>0</th>\n",
       "      <td>32951</td>\n",
       "    </tr>\n",
       "  </tbody>\n",
       "</table>\n",
       "</div>"
      ],
      "text/plain": [
       "   total_produtos\n",
       "0           32951"
      ]
     },
     "execution_count": 31,
     "metadata": {},
     "output_type": "execute_result"
    }
   ],
   "source": [
    "query = \"\"\"\n",
    "\n",
    "        SELECT COUNT(DISTINCT(product_id)) AS total_produtos\n",
    "        \n",
    "        FROM olist_products;\n",
    "\n",
    "        \"\"\"\n",
    "\n",
    "products = pd.read_sql(query, con=conn)\n",
    "products"
   ]
  },
  {
   "cell_type": "markdown",
   "id": "17c5d830",
   "metadata": {},
   "source": [
    "## 4. Número de pedidos por estado"
   ]
  },
  {
   "cell_type": "markdown",
   "id": "679289f7",
   "metadata": {},
   "source": [
    "> Consulta SQL."
   ]
  },
  {
   "cell_type": "code",
   "execution_count": 32,
   "id": "e4c2e9bd",
   "metadata": {
    "ExecuteTime": {
     "end_time": "2023-03-31T14:35:16.448121Z",
     "start_time": "2023-03-31T14:35:16.261840Z"
    },
    "scrolled": true
   },
   "outputs": [
    {
     "name": "stdout",
     "output_type": "stream",
     "text": [
      "olist_customers       olist_order_payments  olist_products      \r\n",
      "olist_geolocation     olist_order_reviews   olist_sellers       \r\n",
      "olist_order_items     olist_orders        \r\n"
     ]
    }
   ],
   "source": [
    "!sqlite3 olist.db '.tables'"
   ]
  },
  {
   "cell_type": "code",
   "execution_count": 80,
   "id": "4454f5ec",
   "metadata": {
    "ExecuteTime": {
     "end_time": "2023-03-31T15:31:41.191261Z",
     "start_time": "2023-03-31T15:30:23.880274Z"
    }
   },
   "outputs": [
    {
     "data": {
      "text/html": [
       "<div>\n",
       "<style scoped>\n",
       "    .dataframe tbody tr th:only-of-type {\n",
       "        vertical-align: middle;\n",
       "    }\n",
       "\n",
       "    .dataframe tbody tr th {\n",
       "        vertical-align: top;\n",
       "    }\n",
       "\n",
       "    .dataframe thead th {\n",
       "        text-align: right;\n",
       "    }\n",
       "</style>\n",
       "<table border=\"1\" class=\"dataframe\">\n",
       "  <thead>\n",
       "    <tr style=\"text-align: right;\">\n",
       "      <th></th>\n",
       "      <th>estados</th>\n",
       "      <th>num_pedidos</th>\n",
       "    </tr>\n",
       "  </thead>\n",
       "  <tbody>\n",
       "    <tr>\n",
       "      <th>0</th>\n",
       "      <td>SP</td>\n",
       "      <td>69493</td>\n",
       "    </tr>\n",
       "    <tr>\n",
       "      <th>1</th>\n",
       "      <td>MG</td>\n",
       "      <td>8045</td>\n",
       "    </tr>\n",
       "    <tr>\n",
       "      <th>2</th>\n",
       "      <td>PR</td>\n",
       "      <td>7773</td>\n",
       "    </tr>\n",
       "    <tr>\n",
       "      <th>3</th>\n",
       "      <td>RJ</td>\n",
       "      <td>4497</td>\n",
       "    </tr>\n",
       "    <tr>\n",
       "      <th>4</th>\n",
       "      <td>SC</td>\n",
       "      <td>3831</td>\n",
       "    </tr>\n",
       "    <tr>\n",
       "      <th>5</th>\n",
       "      <td>RS</td>\n",
       "      <td>1993</td>\n",
       "    </tr>\n",
       "    <tr>\n",
       "      <th>6</th>\n",
       "      <td>DF</td>\n",
       "      <td>789</td>\n",
       "    </tr>\n",
       "    <tr>\n",
       "      <th>7</th>\n",
       "      <td>BA</td>\n",
       "      <td>572</td>\n",
       "    </tr>\n",
       "    <tr>\n",
       "      <th>8</th>\n",
       "      <td>GO</td>\n",
       "      <td>463</td>\n",
       "    </tr>\n",
       "    <tr>\n",
       "      <th>9</th>\n",
       "      <td>PE</td>\n",
       "      <td>406</td>\n",
       "    </tr>\n",
       "    <tr>\n",
       "      <th>10</th>\n",
       "      <td>MA</td>\n",
       "      <td>392</td>\n",
       "    </tr>\n",
       "    <tr>\n",
       "      <th>11</th>\n",
       "      <td>ES</td>\n",
       "      <td>319</td>\n",
       "    </tr>\n",
       "    <tr>\n",
       "      <th>12</th>\n",
       "      <td>MT</td>\n",
       "      <td>137</td>\n",
       "    </tr>\n",
       "    <tr>\n",
       "      <th>13</th>\n",
       "      <td>CE</td>\n",
       "      <td>91</td>\n",
       "    </tr>\n",
       "    <tr>\n",
       "      <th>14</th>\n",
       "      <td>RN</td>\n",
       "      <td>50</td>\n",
       "    </tr>\n",
       "    <tr>\n",
       "      <th>15</th>\n",
       "      <td>MS</td>\n",
       "      <td>49</td>\n",
       "    </tr>\n",
       "    <tr>\n",
       "      <th>16</th>\n",
       "      <td>PB</td>\n",
       "      <td>36</td>\n",
       "    </tr>\n",
       "    <tr>\n",
       "      <th>17</th>\n",
       "      <td>RO</td>\n",
       "      <td>14</td>\n",
       "    </tr>\n",
       "    <tr>\n",
       "      <th>18</th>\n",
       "      <td>PI</td>\n",
       "      <td>12</td>\n",
       "    </tr>\n",
       "    <tr>\n",
       "      <th>19</th>\n",
       "      <td>SE</td>\n",
       "      <td>9</td>\n",
       "    </tr>\n",
       "    <tr>\n",
       "      <th>20</th>\n",
       "      <td>AM</td>\n",
       "      <td>3</td>\n",
       "    </tr>\n",
       "    <tr>\n",
       "      <th>21</th>\n",
       "      <td>AC</td>\n",
       "      <td>1</td>\n",
       "    </tr>\n",
       "  </tbody>\n",
       "</table>\n",
       "</div>"
      ],
      "text/plain": [
       "   estados  num_pedidos\n",
       "0       SP        69493\n",
       "1       MG         8045\n",
       "2       PR         7773\n",
       "3       RJ         4497\n",
       "4       SC         3831\n",
       "5       RS         1993\n",
       "6       DF          789\n",
       "7       BA          572\n",
       "8       GO          463\n",
       "9       PE          406\n",
       "10      MA          392\n",
       "11      ES          319\n",
       "12      MT          137\n",
       "13      CE           91\n",
       "14      RN           50\n",
       "15      MS           49\n",
       "16      PB           36\n",
       "17      RO           14\n",
       "18      PI           12\n",
       "19      SE            9\n",
       "20      AM            3\n",
       "21      AC            1"
      ]
     },
     "execution_count": 80,
     "metadata": {},
     "output_type": "execute_result"
    }
   ],
   "source": [
    "query = \"\"\"\n",
    "        SELECT g.geolocation_state AS estados, COUNT(DISTINCT o.order_id) AS num_pedidos\n",
    "\n",
    "        FROM olist_orders o\n",
    "        INNER JOIN olist_order_items oi ON o.order_id = oi.order_id\n",
    "        INNER JOIN olist_sellers s ON oi.seller_id = s.seller_id\n",
    "        INNER JOIN olist_geolocation g ON s.seller_zip_code_prefix = g.geolocation_zip_code_prefix\n",
    "\n",
    "        GROUP BY g.geolocation_state\n",
    "\n",
    "        ORDER BY num_pedidos DESC;\n",
    "        \"\"\"\n",
    "\n",
    "order_states = pd.read_sql(query, con=conn)\n",
    "order_states"
   ]
  },
  {
   "cell_type": "code",
   "execution_count": 92,
   "id": "73090937",
   "metadata": {
    "ExecuteTime": {
     "end_time": "2023-03-31T15:40:50.485129Z",
     "start_time": "2023-03-31T15:40:49.661595Z"
    }
   },
   "outputs": [
    {
     "data": {
      "image/png": "[encoded data removed]",
      "text/plain": [
       "<Figure size 1152x720 with 1 Axes>"
      ]
     },
     "metadata": {},
     "output_type": "display_data"
    }
   ],
   "source": [
    "plt.figure(figsize=(16, 10))\n",
    "sns.set(style=\"darkgrid\")\n",
    "sns.barplot(x='estados', y='num_pedidos', data=order_states)\n",
    "plt.show()"
   ]
  },
  {
   "cell_type": "code",
   "execution_count": 71,
   "id": "53a58b3e",
   "metadata": {
    "ExecuteTime": {
     "end_time": "2023-03-31T15:23:53.858137Z",
     "start_time": "2023-03-31T15:23:53.843483Z"
    }
   },
   "outputs": [
    {
     "data": {
      "text/plain": [
       "4498.86"
      ]
     },
     "execution_count": 71,
     "metadata": {},
     "output_type": "execute_result"
    }
   ],
   "source": [
    "mean_orders = order_states['num_pedidos'].mean()\n",
    "np.round(mean_orders,2)"
   ]
  },
  {
   "cell_type": "markdown",
   "id": "e8420a84",
   "metadata": {},
   "source": [
    "## 5. Número de pedidos por cidade em Minas Gerais e São Paulo"
   ]
  },
  {
   "cell_type": "markdown",
   "id": "6a845a98",
   "metadata": {},
   "source": [
    "> Consulta SQL."
   ]
  },
  {
   "cell_type": "code",
   "execution_count": 139,
   "id": "fc51808a",
   "metadata": {
    "ExecuteTime": {
     "end_time": "2023-03-31T18:10:05.871546Z",
     "start_time": "2023-03-31T18:09:30.283266Z"
    }
   },
   "outputs": [
    {
     "data": {
      "text/html": [
       "<div>\n",
       "<style scoped>\n",
       "    .dataframe tbody tr th:only-of-type {\n",
       "        vertical-align: middle;\n",
       "    }\n",
       "\n",
       "    .dataframe tbody tr th {\n",
       "        vertical-align: top;\n",
       "    }\n",
       "\n",
       "    .dataframe thead th {\n",
       "        text-align: right;\n",
       "    }\n",
       "</style>\n",
       "<table border=\"1\" class=\"dataframe\">\n",
       "  <thead>\n",
       "    <tr style=\"text-align: right;\">\n",
       "      <th></th>\n",
       "      <th>cidades</th>\n",
       "      <th>num_pedidos</th>\n",
       "    </tr>\n",
       "  </thead>\n",
       "  <tbody>\n",
       "    <tr>\n",
       "      <th>0</th>\n",
       "      <td>belo horizonte</td>\n",
       "      <td>2426</td>\n",
       "    </tr>\n",
       "    <tr>\n",
       "      <th>1</th>\n",
       "      <td>ilicinea</td>\n",
       "      <td>718</td>\n",
       "    </tr>\n",
       "    <tr>\n",
       "      <th>2</th>\n",
       "      <td>araguari</td>\n",
       "      <td>477</td>\n",
       "    </tr>\n",
       "    <tr>\n",
       "      <th>3</th>\n",
       "      <td>borda da mata</td>\n",
       "      <td>471</td>\n",
       "    </tr>\n",
       "    <tr>\n",
       "      <th>4</th>\n",
       "      <td>uberlandia</td>\n",
       "      <td>355</td>\n",
       "    </tr>\n",
       "    <tr>\n",
       "      <th>5</th>\n",
       "      <td>betim</td>\n",
       "      <td>271</td>\n",
       "    </tr>\n",
       "    <tr>\n",
       "      <th>6</th>\n",
       "      <td>monte siao</td>\n",
       "      <td>247</td>\n",
       "    </tr>\n",
       "    <tr>\n",
       "      <th>7</th>\n",
       "      <td>sete lagoas</td>\n",
       "      <td>246</td>\n",
       "    </tr>\n",
       "    <tr>\n",
       "      <th>8</th>\n",
       "      <td>tres coracoes</td>\n",
       "      <td>222</td>\n",
       "    </tr>\n",
       "    <tr>\n",
       "      <th>9</th>\n",
       "      <td>uba</td>\n",
       "      <td>203</td>\n",
       "    </tr>\n",
       "  </tbody>\n",
       "</table>\n",
       "</div>"
      ],
      "text/plain": [
       "          cidades  num_pedidos\n",
       "0  belo horizonte         2426\n",
       "1        ilicinea          718\n",
       "2        araguari          477\n",
       "3   borda da mata          471\n",
       "4      uberlandia          355\n",
       "5           betim          271\n",
       "6      monte siao          247\n",
       "7     sete lagoas          246\n",
       "8   tres coracoes          222\n",
       "9             uba          203"
      ]
     },
     "execution_count": 139,
     "metadata": {},
     "output_type": "execute_result"
    }
   ],
   "source": [
    "query = \"\"\"\n",
    "        SELECT g.geolocation_city AS cidades, COUNT(DISTINCT o.order_id) AS num_pedidos\n",
    "\n",
    "        FROM olist_orders o\n",
    "        INNER JOIN olist_order_items oi ON o.order_id = oi.order_id\n",
    "        INNER JOIN olist_sellers s ON oi.seller_id = s.seller_id\n",
    "        INNER JOIN olist_geolocation g ON s.seller_zip_code_prefix = g.geolocation_zip_code_prefix\n",
    "        \n",
    "        WHERE g.geolocation_state = 'MG'\n",
    "\n",
    "        GROUP BY g.geolocation_city\n",
    "\n",
    "        ORDER BY num_pedidos DESC;\n",
    "        \n",
    "        \"\"\"\n",
    "\n",
    "order_cities_mg = pd.read_sql(query, con=conn)\n",
    "order_cities_mg.head(10)"
   ]
  },
  {
   "cell_type": "code",
   "execution_count": 140,
   "id": "6e165c09",
   "metadata": {
    "ExecuteTime": {
     "end_time": "2023-03-31T18:15:36.021983Z",
     "start_time": "2023-03-31T18:15:36.002164Z"
    }
   },
   "outputs": [],
   "source": [
    "top10mg = order_cities_mg.loc[:9].sort_values('num_pedidos', ascending=True)"
   ]
  },
  {
   "cell_type": "code",
   "execution_count": 141,
   "id": "2e9ec717",
   "metadata": {
    "ExecuteTime": {
     "end_time": "2023-03-31T18:15:39.648101Z",
     "start_time": "2023-03-31T18:15:39.142619Z"
    }
   },
   "outputs": [
    {
     "data": {
      "image/png": "[encoded data removed]",
      "text/plain": [
       "<Figure size 864x432 with 1 Axes>"
      ]
     },
     "metadata": {},
     "output_type": "display_data"
    }
   ],
   "source": [
    "plt.figure(figsize=(12, 6))\n",
    "plt.barh(top10mg['cidades'], top10mg['num_pedidos'], color='blue')\n",
    "plt.xlabel('Número de pedidos')\n",
    "plt.ylabel('Cidade')\n",
    "plt.title('Top 10 cidades com mais pedidos em MG')\n",
    "plt.show()"
   ]
  },
  {
   "cell_type": "code",
   "execution_count": 142,
   "id": "93ea445a",
   "metadata": {
    "ExecuteTime": {
     "end_time": "2023-03-31T18:16:42.770661Z",
     "start_time": "2023-03-31T18:15:42.602279Z"
    }
   },
   "outputs": [
    {
     "data": {
      "text/html": [
       "<div>\n",
       "<style scoped>\n",
       "    .dataframe tbody tr th:only-of-type {\n",
       "        vertical-align: middle;\n",
       "    }\n",
       "\n",
       "    .dataframe tbody tr th {\n",
       "        vertical-align: top;\n",
       "    }\n",
       "\n",
       "    .dataframe thead th {\n",
       "        text-align: right;\n",
       "    }\n",
       "</style>\n",
       "<table border=\"1\" class=\"dataframe\">\n",
       "  <thead>\n",
       "    <tr style=\"text-align: right;\">\n",
       "      <th></th>\n",
       "      <th>cidades</th>\n",
       "      <th>num_pedidos</th>\n",
       "    </tr>\n",
       "  </thead>\n",
       "  <tbody>\n",
       "    <tr>\n",
       "      <th>0</th>\n",
       "      <td>sao paulo</td>\n",
       "      <td>24758</td>\n",
       "    </tr>\n",
       "    <tr>\n",
       "      <th>1</th>\n",
       "      <td>ibitinga</td>\n",
       "      <td>6565</td>\n",
       "    </tr>\n",
       "    <tr>\n",
       "      <th>2</th>\n",
       "      <td>santo andre</td>\n",
       "      <td>2737</td>\n",
       "    </tr>\n",
       "    <tr>\n",
       "      <th>3</th>\n",
       "      <td>ribeirao preto</td>\n",
       "      <td>2317</td>\n",
       "    </tr>\n",
       "    <tr>\n",
       "      <th>4</th>\n",
       "      <td>guarulhos</td>\n",
       "      <td>2088</td>\n",
       "    </tr>\n",
       "    <tr>\n",
       "      <th>5</th>\n",
       "      <td>sao jose do rio preto</td>\n",
       "      <td>2052</td>\n",
       "    </tr>\n",
       "    <tr>\n",
       "      <th>6</th>\n",
       "      <td>piracicaba</td>\n",
       "      <td>1633</td>\n",
       "    </tr>\n",
       "    <tr>\n",
       "      <th>7</th>\n",
       "      <td>campinas</td>\n",
       "      <td>1294</td>\n",
       "    </tr>\n",
       "    <tr>\n",
       "      <th>8</th>\n",
       "      <td>itaquaquecetuba</td>\n",
       "      <td>1241</td>\n",
       "    </tr>\n",
       "    <tr>\n",
       "      <th>9</th>\n",
       "      <td>praia grande</td>\n",
       "      <td>1235</td>\n",
       "    </tr>\n",
       "  </tbody>\n",
       "</table>\n",
       "</div>"
      ],
      "text/plain": [
       "                 cidades  num_pedidos\n",
       "0              sao paulo        24758\n",
       "1               ibitinga         6565\n",
       "2            santo andre         2737\n",
       "3         ribeirao preto         2317\n",
       "4              guarulhos         2088\n",
       "5  sao jose do rio preto         2052\n",
       "6             piracicaba         1633\n",
       "7               campinas         1294\n",
       "8        itaquaquecetuba         1241\n",
       "9           praia grande         1235"
      ]
     },
     "execution_count": 142,
     "metadata": {},
     "output_type": "execute_result"
    }
   ],
   "source": [
    "query = \"\"\"\n",
    "        SELECT g.geolocation_city AS cidades, COUNT(DISTINCT o.order_id) AS num_pedidos\n",
    "\n",
    "        FROM olist_orders o\n",
    "        INNER JOIN olist_order_items oi ON o.order_id = oi.order_id\n",
    "        INNER JOIN olist_sellers s ON oi.seller_id = s.seller_id\n",
    "        INNER JOIN olist_geolocation g ON s.seller_zip_code_prefix = g.geolocation_zip_code_prefix\n",
    "        \n",
    "        WHERE g.geolocation_state = 'SP'\n",
    "\n",
    "        GROUP BY g.geolocation_city\n",
    "\n",
    "        ORDER BY num_pedidos DESC;\n",
    "        \n",
    "        \"\"\"\n",
    "\n",
    "order_cities_sp = pd.read_sql(query, con=conn)\n",
    "order_cities_sp.head(10)"
   ]
  },
  {
   "cell_type": "code",
   "execution_count": 124,
   "id": "4b7ad69a",
   "metadata": {
    "ExecuteTime": {
     "end_time": "2023-03-31T17:53:12.031030Z",
     "start_time": "2023-03-31T17:53:12.023882Z"
    }
   },
   "outputs": [],
   "source": [
    "top10sp = order_cities_sp.loc[:9].sort_values('num_pedidos', ascending=True)"
   ]
  },
  {
   "cell_type": "code",
   "execution_count": 134,
   "id": "e6c153f1",
   "metadata": {
    "ExecuteTime": {
     "end_time": "2023-03-31T17:58:29.914726Z",
     "start_time": "2023-03-31T17:58:29.417393Z"
    }
   },
   "outputs": [
    {
     "data": {
      "image/png": "[encoded data removed]",
      "text/plain": [
       "<Figure size 864x432 with 1 Axes>"
      ]
     },
     "metadata": {},
     "output_type": "display_data"
    }
   ],
   "source": [
    "plt.figure(figsize=(12, 6))\n",
    "plt.barh(top10sp['cidades'], top10sp['num_pedidos'], color='red')\n",
    "plt.xlabel('Número de pedidos')\n",
    "plt.ylabel('Cidade')\n",
    "plt.title('Top 10 cidades com mais pedidos em SP')\n",
    "plt.show()"
   ]
  },
  {
   "cell_type": "markdown",
   "id": "27b30fa1",
   "metadata": {},
   "source": [
    "## 6. Categorias de produto que mais venderam em  Minas Gerais e  São Paulo"
   ]
  },
  {
   "cell_type": "markdown",
   "id": "2fca20f4",
   "metadata": {},
   "source": [
    "> Consulta SQL."
   ]
  },
  {
   "cell_type": "code",
   "execution_count": 37,
   "id": "11bea7d6",
   "metadata": {
    "ExecuteTime": {
     "end_time": "2023-03-31T14:38:19.234012Z",
     "start_time": "2023-03-31T14:38:18.974782Z"
    }
   },
   "outputs": [
    {
     "name": "stdout",
     "output_type": "stream",
     "text": [
      "olist_customers       olist_order_payments  olist_products      \r\n",
      "olist_geolocation     olist_order_reviews   olist_sellers       \r\n",
      "olist_order_items     olist_orders        \r\n"
     ]
    }
   ],
   "source": [
    "!sqlite3 olist.db '.tables'"
   ]
  },
  {
   "cell_type": "code",
   "execution_count": 143,
   "id": "89656780",
   "metadata": {
    "ExecuteTime": {
     "end_time": "2023-03-31T18:17:29.262493Z",
     "start_time": "2023-03-31T18:17:24.843821Z"
    }
   },
   "outputs": [
    {
     "data": {
      "text/html": [
       "<div>\n",
       "<style scoped>\n",
       "    .dataframe tbody tr th:only-of-type {\n",
       "        vertical-align: middle;\n",
       "    }\n",
       "\n",
       "    .dataframe tbody tr th {\n",
       "        vertical-align: top;\n",
       "    }\n",
       "\n",
       "    .dataframe thead th {\n",
       "        text-align: right;\n",
       "    }\n",
       "</style>\n",
       "<table border=\"1\" class=\"dataframe\">\n",
       "  <thead>\n",
       "    <tr style=\"text-align: right;\">\n",
       "      <th></th>\n",
       "      <th>product_category_name</th>\n",
       "      <th>qtd_produtos</th>\n",
       "    </tr>\n",
       "  </thead>\n",
       "  <tbody>\n",
       "    <tr>\n",
       "      <th>0</th>\n",
       "      <td>informatica_acessorios</td>\n",
       "      <td>380220</td>\n",
       "    </tr>\n",
       "    <tr>\n",
       "      <th>1</th>\n",
       "      <td>fashion_bolsas_e_acessorios</td>\n",
       "      <td>185993</td>\n",
       "    </tr>\n",
       "    <tr>\n",
       "      <th>2</th>\n",
       "      <td>utilidades_domesticas</td>\n",
       "      <td>160139</td>\n",
       "    </tr>\n",
       "    <tr>\n",
       "      <th>3</th>\n",
       "      <td>moveis_decoracao</td>\n",
       "      <td>120870</td>\n",
       "    </tr>\n",
       "    <tr>\n",
       "      <th>4</th>\n",
       "      <td>esporte_lazer</td>\n",
       "      <td>107785</td>\n",
       "    </tr>\n",
       "    <tr>\n",
       "      <th>5</th>\n",
       "      <td>pet_shop</td>\n",
       "      <td>104629</td>\n",
       "    </tr>\n",
       "    <tr>\n",
       "      <th>6</th>\n",
       "      <td>beleza_saude</td>\n",
       "      <td>93546</td>\n",
       "    </tr>\n",
       "    <tr>\n",
       "      <th>7</th>\n",
       "      <td>cool_stuff</td>\n",
       "      <td>93113</td>\n",
       "    </tr>\n",
       "    <tr>\n",
       "      <th>8</th>\n",
       "      <td>ferramentas_jardim</td>\n",
       "      <td>90291</td>\n",
       "    </tr>\n",
       "    <tr>\n",
       "      <th>9</th>\n",
       "      <td>automotivo</td>\n",
       "      <td>77322</td>\n",
       "    </tr>\n",
       "    <tr>\n",
       "      <th>10</th>\n",
       "      <td>cama_mesa_banho</td>\n",
       "      <td>76439</td>\n",
       "    </tr>\n",
       "    <tr>\n",
       "      <th>11</th>\n",
       "      <td>bebes</td>\n",
       "      <td>68821</td>\n",
       "    </tr>\n",
       "    <tr>\n",
       "      <th>12</th>\n",
       "      <td>brinquedos</td>\n",
       "      <td>50666</td>\n",
       "    </tr>\n",
       "    <tr>\n",
       "      <th>13</th>\n",
       "      <td>consoles_games</td>\n",
       "      <td>49033</td>\n",
       "    </tr>\n",
       "    <tr>\n",
       "      <th>14</th>\n",
       "      <td>papelaria</td>\n",
       "      <td>42972</td>\n",
       "    </tr>\n",
       "    <tr>\n",
       "      <th>15</th>\n",
       "      <td>malas_acessorios</td>\n",
       "      <td>42177</td>\n",
       "    </tr>\n",
       "    <tr>\n",
       "      <th>16</th>\n",
       "      <td>relogios_presentes</td>\n",
       "      <td>37427</td>\n",
       "    </tr>\n",
       "    <tr>\n",
       "      <th>17</th>\n",
       "      <td>perfumaria</td>\n",
       "      <td>31632</td>\n",
       "    </tr>\n",
       "    <tr>\n",
       "      <th>18</th>\n",
       "      <td>telefonia</td>\n",
       "      <td>28634</td>\n",
       "    </tr>\n",
       "    <tr>\n",
       "      <th>19</th>\n",
       "      <td>moveis_sala</td>\n",
       "      <td>22745</td>\n",
       "    </tr>\n",
       "  </tbody>\n",
       "</table>\n",
       "</div>"
      ],
      "text/plain": [
       "          product_category_name  qtd_produtos\n",
       "0        informatica_acessorios        380220\n",
       "1   fashion_bolsas_e_acessorios        185993\n",
       "2         utilidades_domesticas        160139\n",
       "3              moveis_decoracao        120870\n",
       "4                 esporte_lazer        107785\n",
       "5                      pet_shop        104629\n",
       "6                  beleza_saude         93546\n",
       "7                    cool_stuff         93113\n",
       "8            ferramentas_jardim         90291\n",
       "9                    automotivo         77322\n",
       "10              cama_mesa_banho         76439\n",
       "11                        bebes         68821\n",
       "12                   brinquedos         50666\n",
       "13               consoles_games         49033\n",
       "14                    papelaria         42972\n",
       "15             malas_acessorios         42177\n",
       "16           relogios_presentes         37427\n",
       "17                   perfumaria         31632\n",
       "18                    telefonia         28634\n",
       "19                  moveis_sala         22745"
      ]
     },
     "execution_count": 143,
     "metadata": {},
     "output_type": "execute_result"
    }
   ],
   "source": [
    "query = \"\"\"\n",
    "        SELECT p.product_category_name, COUNT(p.product_category_name) AS qtd_produtos\n",
    "\n",
    "        FROM olist_products p\n",
    "        INNER JOIN olist_order_items oi ON p.product_id = oi.product_id\n",
    "        INNER JOIN olist_sellers s ON oi.seller_id = s.seller_id\n",
    "        INNER JOIN olist_geolocation g ON s.seller_zip_code_prefix = g.geolocation_zip_code_prefix\n",
    "        \n",
    "        WHERE g.geolocation_state = 'MG'\n",
    "\n",
    "        GROUP BY product_category_name\n",
    "\n",
    "        ORDER BY qtd_produtos DESC\n",
    "        \n",
    "        \"\"\"\n",
    "\n",
    "product_state_mg = pd.read_sql(query, con=conn)\n",
    "product_state_mg.head(20)"
   ]
  },
  {
   "cell_type": "code",
   "execution_count": 152,
   "id": "451ff0c0",
   "metadata": {
    "ExecuteTime": {
     "end_time": "2023-03-31T18:27:27.247117Z",
     "start_time": "2023-03-31T18:27:26.546128Z"
    }
   },
   "outputs": [
    {
     "data": {
      "image/png": "[encoded data removed]",
      "text/plain": [
       "<Figure size 1080x360 with 1 Axes>"
      ]
     },
     "metadata": {},
     "output_type": "display_data"
    }
   ],
   "source": [
    "plt.figure(figsize=(15,5))\n",
    "ax = sns.barplot(x=\"product_category_name\", y=\"qtd_produtos\", data=product_state_mg.head(10))\n",
    "plt.title(\"Top 10 categorias de produtos mais vendidos em Minas Gerais\")\n",
    "plt.xlabel(\"Categoria de produto\")\n",
    "plt.ylabel(\"Número de produtos vendidos\")\n",
    "plt.xticks(rotation=45)\n",
    "\n",
    "for i in ax.containers:\n",
    "    ax.bar_label(i, label_type=\"edge\", padding=5)\n",
    "\n",
    "plt.show()"
   ]
  },
  {
   "cell_type": "code",
   "execution_count": 39,
   "id": "06254bd9",
   "metadata": {
    "ExecuteTime": {
     "end_time": "2023-03-31T14:38:45.774013Z",
     "start_time": "2023-03-31T14:38:23.830760Z"
    },
    "scrolled": true
   },
   "outputs": [
    {
     "data": {
      "text/html": [
       "<div>\n",
       "<style scoped>\n",
       "    .dataframe tbody tr th:only-of-type {\n",
       "        vertical-align: middle;\n",
       "    }\n",
       "\n",
       "    .dataframe tbody tr th {\n",
       "        vertical-align: top;\n",
       "    }\n",
       "\n",
       "    .dataframe thead th {\n",
       "        text-align: right;\n",
       "    }\n",
       "</style>\n",
       "<table border=\"1\" class=\"dataframe\">\n",
       "  <thead>\n",
       "    <tr style=\"text-align: right;\">\n",
       "      <th></th>\n",
       "      <th>product_category_name</th>\n",
       "      <th>qtd_produtos</th>\n",
       "    </tr>\n",
       "  </thead>\n",
       "  <tbody>\n",
       "    <tr>\n",
       "      <th>0</th>\n",
       "      <td>cama_mesa_banho</td>\n",
       "      <td>2182811</td>\n",
       "    </tr>\n",
       "    <tr>\n",
       "      <th>1</th>\n",
       "      <td>beleza_saude</td>\n",
       "      <td>872784</td>\n",
       "    </tr>\n",
       "    <tr>\n",
       "      <th>2</th>\n",
       "      <td>moveis_decoracao</td>\n",
       "      <td>794704</td>\n",
       "    </tr>\n",
       "    <tr>\n",
       "      <th>3</th>\n",
       "      <td>utilidades_domesticas</td>\n",
       "      <td>726950</td>\n",
       "    </tr>\n",
       "    <tr>\n",
       "      <th>4</th>\n",
       "      <td>ferramentas_jardim</td>\n",
       "      <td>685010</td>\n",
       "    </tr>\n",
       "    <tr>\n",
       "      <th>5</th>\n",
       "      <td>relogios_presentes</td>\n",
       "      <td>615940</td>\n",
       "    </tr>\n",
       "    <tr>\n",
       "      <th>6</th>\n",
       "      <td>esporte_lazer</td>\n",
       "      <td>576901</td>\n",
       "    </tr>\n",
       "    <tr>\n",
       "      <th>7</th>\n",
       "      <td>informatica_acessorios</td>\n",
       "      <td>380126</td>\n",
       "    </tr>\n",
       "    <tr>\n",
       "      <th>8</th>\n",
       "      <td>brinquedos</td>\n",
       "      <td>340830</td>\n",
       "    </tr>\n",
       "    <tr>\n",
       "      <th>9</th>\n",
       "      <td>automotivo</td>\n",
       "      <td>308223</td>\n",
       "    </tr>\n",
       "    <tr>\n",
       "      <th>10</th>\n",
       "      <td>telefonia</td>\n",
       "      <td>303574</td>\n",
       "    </tr>\n",
       "    <tr>\n",
       "      <th>11</th>\n",
       "      <td>perfumaria</td>\n",
       "      <td>263090</td>\n",
       "    </tr>\n",
       "    <tr>\n",
       "      <th>12</th>\n",
       "      <td>bebes</td>\n",
       "      <td>260855</td>\n",
       "    </tr>\n",
       "    <tr>\n",
       "      <th>13</th>\n",
       "      <td>moveis_escritorio</td>\n",
       "      <td>221098</td>\n",
       "    </tr>\n",
       "    <tr>\n",
       "      <th>14</th>\n",
       "      <td>eletrodomesticos</td>\n",
       "      <td>193756</td>\n",
       "    </tr>\n",
       "    <tr>\n",
       "      <th>15</th>\n",
       "      <td>cool_stuff</td>\n",
       "      <td>191854</td>\n",
       "    </tr>\n",
       "    <tr>\n",
       "      <th>16</th>\n",
       "      <td>papelaria</td>\n",
       "      <td>155806</td>\n",
       "    </tr>\n",
       "    <tr>\n",
       "      <th>17</th>\n",
       "      <td>eletronicos</td>\n",
       "      <td>153193</td>\n",
       "    </tr>\n",
       "    <tr>\n",
       "      <th>18</th>\n",
       "      <td>pet_shop</td>\n",
       "      <td>145334</td>\n",
       "    </tr>\n",
       "    <tr>\n",
       "      <th>19</th>\n",
       "      <td>consoles_games</td>\n",
       "      <td>139200</td>\n",
       "    </tr>\n",
       "  </tbody>\n",
       "</table>\n",
       "</div>"
      ],
      "text/plain": [
       "     product_category_name  qtd_produtos\n",
       "0          cama_mesa_banho       2182811\n",
       "1             beleza_saude        872784\n",
       "2         moveis_decoracao        794704\n",
       "3    utilidades_domesticas        726950\n",
       "4       ferramentas_jardim        685010\n",
       "5       relogios_presentes        615940\n",
       "6            esporte_lazer        576901\n",
       "7   informatica_acessorios        380126\n",
       "8               brinquedos        340830\n",
       "9               automotivo        308223\n",
       "10               telefonia        303574\n",
       "11              perfumaria        263090\n",
       "12                   bebes        260855\n",
       "13       moveis_escritorio        221098\n",
       "14        eletrodomesticos        193756\n",
       "15              cool_stuff        191854\n",
       "16               papelaria        155806\n",
       "17             eletronicos        153193\n",
       "18                pet_shop        145334\n",
       "19          consoles_games        139200"
      ]
     },
     "execution_count": 39,
     "metadata": {},
     "output_type": "execute_result"
    }
   ],
   "source": [
    "query = \"\"\"\n",
    "        SELECT p.product_category_name, COUNT(p.product_category_name) AS qtd_produtos\n",
    "\n",
    "        FROM olist_products p\n",
    "        INNER JOIN olist_order_items oi ON p.product_id = oi.product_id\n",
    "        INNER JOIN olist_sellers s ON oi.seller_id = s.seller_id\n",
    "        INNER JOIN olist_geolocation g ON s.seller_zip_code_prefix = g.geolocation_zip_code_prefix\n",
    "        \n",
    "        WHERE g.geolocation_state = 'SP'\n",
    "\n",
    "        GROUP BY product_category_name\n",
    "\n",
    "        ORDER BY qtd_produtos DESC\n",
    "        \n",
    "        \"\"\"\n",
    "\n",
    "product_state_sp = pd.read_sql(query, con=conn)\n",
    "product_state_sp.head(20)"
   ]
  },
  {
   "cell_type": "code",
   "execution_count": 153,
   "id": "cd88af42",
   "metadata": {
    "ExecuteTime": {
     "end_time": "2023-03-31T18:28:48.120794Z",
     "start_time": "2023-03-31T18:28:47.499402Z"
    }
   },
   "outputs": [
    {
     "data": {
      "image/png": "[encoded data removed]",
      "text/plain": [
       "<Figure size 1080x360 with 1 Axes>"
      ]
     },
     "metadata": {},
     "output_type": "display_data"
    }
   ],
   "source": [
    "plt.figure(figsize=(15,5))\n",
    "ax = sns.barplot(x=\"product_category_name\", y=\"qtd_produtos\", data=product_state_sp.head(10))\n",
    "plt.title(\"Top 10 categorias de produtos mais vendidos em São Paulo\")\n",
    "plt.xlabel(\"Categoria de produto\")\n",
    "plt.ylabel(\"Número de produtos vendidos\")\n",
    "plt.xticks(rotation=45)\n",
    "\n",
    "for i in ax.containers:\n",
    "    ax.bar_label(i, label_type=\"edge\", padding=5)\n",
    "\n",
    "plt.show()"
   ]
  },
  {
   "cell_type": "markdown",
   "id": "64a3986d",
   "metadata": {},
   "source": [
    "## 7. Quantidade de vendedores por estado"
   ]
  },
  {
   "cell_type": "markdown",
   "id": "f1f2301e",
   "metadata": {},
   "source": [
    "> Consulta SQL."
   ]
  },
  {
   "cell_type": "code",
   "execution_count": 40,
   "id": "5a422746",
   "metadata": {
    "ExecuteTime": {
     "end_time": "2023-03-31T14:38:45.964436Z",
     "start_time": "2023-03-31T14:38:45.777769Z"
    }
   },
   "outputs": [
    {
     "name": "stdout",
     "output_type": "stream",
     "text": [
      "olist_customers       olist_order_payments  olist_products      \r\n",
      "olist_geolocation     olist_order_reviews   olist_sellers       \r\n",
      "olist_order_items     olist_orders        \r\n"
     ]
    }
   ],
   "source": [
    "!sqlite3 olist.db '.tables'"
   ]
  },
  {
   "cell_type": "code",
   "execution_count": 241,
   "id": "19c3cad0",
   "metadata": {
    "ExecuteTime": {
     "end_time": "2023-03-31T22:20:22.428912Z",
     "start_time": "2023-03-31T22:20:22.356843Z"
    }
   },
   "outputs": [
    {
     "data": {
      "text/html": [
       "<div>\n",
       "<style scoped>\n",
       "    .dataframe tbody tr th:only-of-type {\n",
       "        vertical-align: middle;\n",
       "    }\n",
       "\n",
       "    .dataframe tbody tr th {\n",
       "        vertical-align: top;\n",
       "    }\n",
       "\n",
       "    .dataframe thead th {\n",
       "        text-align: right;\n",
       "    }\n",
       "</style>\n",
       "<table border=\"1\" class=\"dataframe\">\n",
       "  <thead>\n",
       "    <tr style=\"text-align: right;\">\n",
       "      <th></th>\n",
       "      <th>estados</th>\n",
       "      <th>qtd_vendedores</th>\n",
       "    </tr>\n",
       "  </thead>\n",
       "  <tbody>\n",
       "    <tr>\n",
       "      <th>0</th>\n",
       "      <td>SP</td>\n",
       "      <td>1333</td>\n",
       "    </tr>\n",
       "    <tr>\n",
       "      <th>1</th>\n",
       "      <td>PR</td>\n",
       "      <td>219</td>\n",
       "    </tr>\n",
       "    <tr>\n",
       "      <th>2</th>\n",
       "      <td>MG</td>\n",
       "      <td>180</td>\n",
       "    </tr>\n",
       "    <tr>\n",
       "      <th>3</th>\n",
       "      <td>RJ</td>\n",
       "      <td>138</td>\n",
       "    </tr>\n",
       "    <tr>\n",
       "      <th>4</th>\n",
       "      <td>SC</td>\n",
       "      <td>134</td>\n",
       "    </tr>\n",
       "    <tr>\n",
       "      <th>5</th>\n",
       "      <td>RS</td>\n",
       "      <td>105</td>\n",
       "    </tr>\n",
       "    <tr>\n",
       "      <th>6</th>\n",
       "      <td>GO</td>\n",
       "      <td>35</td>\n",
       "    </tr>\n",
       "    <tr>\n",
       "      <th>7</th>\n",
       "      <td>DF</td>\n",
       "      <td>29</td>\n",
       "    </tr>\n",
       "    <tr>\n",
       "      <th>8</th>\n",
       "      <td>ES</td>\n",
       "      <td>23</td>\n",
       "    </tr>\n",
       "    <tr>\n",
       "      <th>9</th>\n",
       "      <td>BA</td>\n",
       "      <td>17</td>\n",
       "    </tr>\n",
       "    <tr>\n",
       "      <th>10</th>\n",
       "      <td>CE</td>\n",
       "      <td>13</td>\n",
       "    </tr>\n",
       "    <tr>\n",
       "      <th>11</th>\n",
       "      <td>PE</td>\n",
       "      <td>9</td>\n",
       "    </tr>\n",
       "    <tr>\n",
       "      <th>12</th>\n",
       "      <td>PB</td>\n",
       "      <td>6</td>\n",
       "    </tr>\n",
       "    <tr>\n",
       "      <th>13</th>\n",
       "      <td>RN</td>\n",
       "      <td>5</td>\n",
       "    </tr>\n",
       "    <tr>\n",
       "      <th>14</th>\n",
       "      <td>MS</td>\n",
       "      <td>5</td>\n",
       "    </tr>\n",
       "    <tr>\n",
       "      <th>15</th>\n",
       "      <td>MT</td>\n",
       "      <td>4</td>\n",
       "    </tr>\n",
       "    <tr>\n",
       "      <th>16</th>\n",
       "      <td>SE</td>\n",
       "      <td>2</td>\n",
       "    </tr>\n",
       "    <tr>\n",
       "      <th>17</th>\n",
       "      <td>RO</td>\n",
       "      <td>2</td>\n",
       "    </tr>\n",
       "    <tr>\n",
       "      <th>18</th>\n",
       "      <td>PI</td>\n",
       "      <td>1</td>\n",
       "    </tr>\n",
       "    <tr>\n",
       "      <th>19</th>\n",
       "      <td>PA</td>\n",
       "      <td>1</td>\n",
       "    </tr>\n",
       "  </tbody>\n",
       "</table>\n",
       "</div>"
      ],
      "text/plain": [
       "   estados  qtd_vendedores\n",
       "0       SP            1333\n",
       "1       PR             219\n",
       "2       MG             180\n",
       "3       RJ             138\n",
       "4       SC             134\n",
       "5       RS             105\n",
       "6       GO              35\n",
       "7       DF              29\n",
       "8       ES              23\n",
       "9       BA              17\n",
       "10      CE              13\n",
       "11      PE               9\n",
       "12      PB               6\n",
       "13      RN               5\n",
       "14      MS               5\n",
       "15      MT               4\n",
       "16      SE               2\n",
       "17      RO               2\n",
       "18      PI               1\n",
       "19      PA               1"
      ]
     },
     "execution_count": 241,
     "metadata": {},
     "output_type": "execute_result"
    }
   ],
   "source": [
    "query = \"\"\"\n",
    "        SELECT seller_state AS estados, COUNT(DISTINCT seller_zip_code_prefix) AS qtd_vendedores\n",
    "\n",
    "        FROM olist_sellers\n",
    "\n",
    "        GROUP BY seller_state\n",
    "\n",
    "        ORDER BY qtd_vendedores DESC\n",
    "\n",
    "        \"\"\"\n",
    "\n",
    "seller_state = pd.read_sql(query, con=conn)\n",
    "seller_state.head(20)"
   ]
  },
  {
   "cell_type": "code",
   "execution_count": 155,
   "id": "afaf56ec",
   "metadata": {
    "ExecuteTime": {
     "end_time": "2023-03-31T18:33:09.018439Z",
     "start_time": "2023-03-31T18:33:08.327182Z"
    }
   },
   "outputs": [
    {
     "data": {
      "image/png": "[encoded data removed]",
      "text/plain": [
       "<Figure size 1152x720 with 1 Axes>"
      ]
     },
     "metadata": {},
     "output_type": "display_data"
    }
   ],
   "source": [
    "plt.figure(figsize=(16, 10))\n",
    "sns.barplot(x='estados', y='qtd_vendedores', data=seller_state)\n",
    "plt.show()"
   ]
  },
  {
   "cell_type": "markdown",
   "id": "9878aefa",
   "metadata": {},
   "source": [
    "## 8. Quantidade de pedidos por status de pedido"
   ]
  },
  {
   "cell_type": "markdown",
   "id": "85ac5695",
   "metadata": {},
   "source": [
    "> Consulta SQL."
   ]
  },
  {
   "cell_type": "code",
   "execution_count": 42,
   "id": "b843fc60",
   "metadata": {
    "ExecuteTime": {
     "end_time": "2023-03-31T14:38:46.202807Z",
     "start_time": "2023-03-31T14:38:46.007391Z"
    }
   },
   "outputs": [
    {
     "name": "stdout",
     "output_type": "stream",
     "text": [
      "olist_customers       olist_order_payments  olist_products      \r\n",
      "olist_geolocation     olist_order_reviews   olist_sellers       \r\n",
      "olist_order_items     olist_orders        \r\n"
     ]
    }
   ],
   "source": [
    "!sqlite3 olist.db '.tables'"
   ]
  },
  {
   "cell_type": "code",
   "execution_count": 240,
   "id": "352b3ee3",
   "metadata": {
    "ExecuteTime": {
     "end_time": "2023-03-31T22:20:11.444861Z",
     "start_time": "2023-03-31T22:20:10.838201Z"
    }
   },
   "outputs": [
    {
     "data": {
      "text/html": [
       "<div>\n",
       "<style scoped>\n",
       "    .dataframe tbody tr th:only-of-type {\n",
       "        vertical-align: middle;\n",
       "    }\n",
       "\n",
       "    .dataframe tbody tr th {\n",
       "        vertical-align: top;\n",
       "    }\n",
       "\n",
       "    .dataframe thead th {\n",
       "        text-align: right;\n",
       "    }\n",
       "</style>\n",
       "<table border=\"1\" class=\"dataframe\">\n",
       "  <thead>\n",
       "    <tr style=\"text-align: right;\">\n",
       "      <th></th>\n",
       "      <th>status_pedidos</th>\n",
       "      <th>qtd_clientes</th>\n",
       "    </tr>\n",
       "  </thead>\n",
       "  <tbody>\n",
       "    <tr>\n",
       "      <th>0</th>\n",
       "      <td>delivered</td>\n",
       "      <td>96478</td>\n",
       "    </tr>\n",
       "    <tr>\n",
       "      <th>1</th>\n",
       "      <td>shipped</td>\n",
       "      <td>1107</td>\n",
       "    </tr>\n",
       "    <tr>\n",
       "      <th>2</th>\n",
       "      <td>canceled</td>\n",
       "      <td>625</td>\n",
       "    </tr>\n",
       "    <tr>\n",
       "      <th>3</th>\n",
       "      <td>unavailable</td>\n",
       "      <td>609</td>\n",
       "    </tr>\n",
       "    <tr>\n",
       "      <th>4</th>\n",
       "      <td>invoiced</td>\n",
       "      <td>314</td>\n",
       "    </tr>\n",
       "    <tr>\n",
       "      <th>5</th>\n",
       "      <td>processing</td>\n",
       "      <td>301</td>\n",
       "    </tr>\n",
       "    <tr>\n",
       "      <th>6</th>\n",
       "      <td>created</td>\n",
       "      <td>5</td>\n",
       "    </tr>\n",
       "    <tr>\n",
       "      <th>7</th>\n",
       "      <td>approved</td>\n",
       "      <td>2</td>\n",
       "    </tr>\n",
       "  </tbody>\n",
       "</table>\n",
       "</div>"
      ],
      "text/plain": [
       "  status_pedidos  qtd_clientes\n",
       "0      delivered         96478\n",
       "1        shipped          1107\n",
       "2       canceled           625\n",
       "3    unavailable           609\n",
       "4       invoiced           314\n",
       "5     processing           301\n",
       "6        created             5\n",
       "7       approved             2"
      ]
     },
     "execution_count": 240,
     "metadata": {},
     "output_type": "execute_result"
    }
   ],
   "source": [
    "query = \"\"\"\n",
    "        SELECT order_status AS status_pedidos, COUNT(DISTINCT customer_id) AS qtd_clientes\n",
    "\n",
    "        FROM olist_orders\n",
    "\n",
    "        GROUP BY order_status\n",
    "\n",
    "        ORDER BY qtd_clientes DESC\n",
    "        \n",
    "        \"\"\"\n",
    "\n",
    "order_status = pd.read_sql(query, con=conn)\n",
    "order_status"
   ]
  },
  {
   "cell_type": "code",
   "execution_count": 162,
   "id": "02ad3ae5",
   "metadata": {
    "ExecuteTime": {
     "end_time": "2023-03-31T18:37:03.600675Z",
     "start_time": "2023-03-31T18:37:03.046255Z"
    }
   },
   "outputs": [
    {
     "data": {
      "image/png": "[encoded data removed]",
      "text/plain": [
       "<Figure size 1152x720 with 1 Axes>"
      ]
     },
     "metadata": {},
     "output_type": "display_data"
    }
   ],
   "source": [
    "plt.figure(figsize=(16, 10))\n",
    "\n",
    "ax = sns.barplot(x='status_pedidos', y='qtd_clientes', data=order_status)\n",
    "\n",
    "for i in ax.containers:\n",
    "    ax.bar_label(i, label_type=\"edge\", padding=5)\n",
    "\n",
    "plt.show()"
   ]
  },
  {
   "cell_type": "markdown",
   "id": "3dff6334",
   "metadata": {},
   "source": [
    "## 9. Quantidade de pedidos entregues e quantidade de pedidos cancelados"
   ]
  },
  {
   "cell_type": "markdown",
   "id": "5a46e6bd",
   "metadata": {},
   "source": [
    "> Consulta SQL."
   ]
  },
  {
   "cell_type": "code",
   "execution_count": 239,
   "id": "73c695fe",
   "metadata": {
    "ExecuteTime": {
     "end_time": "2023-03-31T22:20:00.211108Z",
     "start_time": "2023-03-31T22:19:59.576166Z"
    }
   },
   "outputs": [
    {
     "data": {
      "text/html": [
       "<div>\n",
       "<style scoped>\n",
       "    .dataframe tbody tr th:only-of-type {\n",
       "        vertical-align: middle;\n",
       "    }\n",
       "\n",
       "    .dataframe tbody tr th {\n",
       "        vertical-align: top;\n",
       "    }\n",
       "\n",
       "    .dataframe thead th {\n",
       "        text-align: right;\n",
       "    }\n",
       "</style>\n",
       "<table border=\"1\" class=\"dataframe\">\n",
       "  <thead>\n",
       "    <tr style=\"text-align: right;\">\n",
       "      <th></th>\n",
       "      <th>status_pedidos</th>\n",
       "      <th>qtd_clientes</th>\n",
       "    </tr>\n",
       "  </thead>\n",
       "  <tbody>\n",
       "    <tr>\n",
       "      <th>0</th>\n",
       "      <td>delivered</td>\n",
       "      <td>96478</td>\n",
       "    </tr>\n",
       "    <tr>\n",
       "      <th>1</th>\n",
       "      <td>canceled</td>\n",
       "      <td>625</td>\n",
       "    </tr>\n",
       "  </tbody>\n",
       "</table>\n",
       "</div>"
      ],
      "text/plain": [
       "  status_pedidos  qtd_clientes\n",
       "0      delivered         96478\n",
       "1       canceled           625"
      ]
     },
     "execution_count": 239,
     "metadata": {},
     "output_type": "execute_result"
    }
   ],
   "source": [
    "query = \"\"\"\n",
    "        SELECT order_status AS status_pedidos, COUNT(DISTINCT customer_id) AS qtd_clientes\n",
    "\n",
    "        FROM olist_orders\n",
    "\n",
    "        WHERE order_status IN ('delivered','canceled')\n",
    "        \n",
    "        GROUP BY order_status\n",
    "\n",
    "        ORDER BY qtd_clientes DESC\n",
    "        \n",
    "        \"\"\"\n",
    "\n",
    "order_status = pd.read_sql(query, con=conn)\n",
    "order_status"
   ]
  },
  {
   "cell_type": "markdown",
   "id": "b3eac6f1",
   "metadata": {},
   "source": [
    "## 10.Quantidade de pedidos por tipo de pagamento"
   ]
  },
  {
   "cell_type": "markdown",
   "id": "b3281334",
   "metadata": {},
   "source": [
    "> Consulta SQL."
   ]
  },
  {
   "cell_type": "code",
   "execution_count": 47,
   "id": "c3bb8101",
   "metadata": {
    "ExecuteTime": {
     "end_time": "2023-03-31T14:38:48.427531Z",
     "start_time": "2023-03-31T14:38:48.242224Z"
    }
   },
   "outputs": [
    {
     "name": "stdout",
     "output_type": "stream",
     "text": [
      "olist_customers       olist_order_payments  olist_products      \r\n",
      "olist_geolocation     olist_order_reviews   olist_sellers       \r\n",
      "olist_order_items     olist_orders        \r\n"
     ]
    }
   ],
   "source": [
    "!sqlite3 olist.db '.tables'"
   ]
  },
  {
   "cell_type": "code",
   "execution_count": 163,
   "id": "d5f6c5e8",
   "metadata": {
    "ExecuteTime": {
     "end_time": "2023-03-31T18:37:26.822826Z",
     "start_time": "2023-03-31T18:37:26.663149Z"
    }
   },
   "outputs": [
    {
     "data": {
      "text/html": [
       "<div>\n",
       "<style scoped>\n",
       "    .dataframe tbody tr th:only-of-type {\n",
       "        vertical-align: middle;\n",
       "    }\n",
       "\n",
       "    .dataframe tbody tr th {\n",
       "        vertical-align: top;\n",
       "    }\n",
       "\n",
       "    .dataframe thead th {\n",
       "        text-align: right;\n",
       "    }\n",
       "</style>\n",
       "<table border=\"1\" class=\"dataframe\">\n",
       "  <thead>\n",
       "    <tr style=\"text-align: right;\">\n",
       "      <th></th>\n",
       "      <th>qtd_pedidos</th>\n",
       "      <th>tipos_pagamentos</th>\n",
       "    </tr>\n",
       "  </thead>\n",
       "  <tbody>\n",
       "    <tr>\n",
       "      <th>0</th>\n",
       "      <td>76795</td>\n",
       "      <td>credit_card</td>\n",
       "    </tr>\n",
       "    <tr>\n",
       "      <th>1</th>\n",
       "      <td>19784</td>\n",
       "      <td>boleto</td>\n",
       "    </tr>\n",
       "    <tr>\n",
       "      <th>2</th>\n",
       "      <td>5775</td>\n",
       "      <td>voucher</td>\n",
       "    </tr>\n",
       "    <tr>\n",
       "      <th>3</th>\n",
       "      <td>1529</td>\n",
       "      <td>debit_card</td>\n",
       "    </tr>\n",
       "    <tr>\n",
       "      <th>4</th>\n",
       "      <td>3</td>\n",
       "      <td>not_defined</td>\n",
       "    </tr>\n",
       "  </tbody>\n",
       "</table>\n",
       "</div>"
      ],
      "text/plain": [
       "   qtd_pedidos tipos_pagamentos\n",
       "0        76795      credit_card\n",
       "1        19784           boleto\n",
       "2         5775          voucher\n",
       "3         1529       debit_card\n",
       "4            3      not_defined"
      ]
     },
     "execution_count": 163,
     "metadata": {},
     "output_type": "execute_result"
    }
   ],
   "source": [
    "query = \"\"\"\n",
    "        SELECT COUNT(payment_sequential) AS qtd_pedidos, payment_type AS tipos_pagamentos\n",
    "        \n",
    "        FROM olist_order_payments\n",
    "        \n",
    "        GROUP BY payment_type\n",
    "        \n",
    "        ORDER BY qtd_pedidos DESC\n",
    "        \n",
    "        \"\"\"\n",
    "\n",
    "order_payments = pd.read_sql(query, con=conn)\n",
    "order_payments"
   ]
  },
  {
   "cell_type": "code",
   "execution_count": 238,
   "id": "0a88cb2e",
   "metadata": {
    "ExecuteTime": {
     "end_time": "2023-03-31T22:19:47.114990Z",
     "start_time": "2023-03-31T22:19:46.660562Z"
    }
   },
   "outputs": [
    {
     "data": {
      "image/png": "[encoded data removed]",
      "text/plain": [
       "<Figure size 1152x720 with 1 Axes>"
      ]
     },
     "metadata": {},
     "output_type": "display_data"
    }
   ],
   "source": [
    "plt.figure(figsize=(16, 10))\n",
    "\n",
    "ax = sns.barplot(x='tipos_pagamentos', y='qtd_pedidos', data=order_payments.loc[:3])\n",
    "\n",
    "for i in ax.containers:\n",
    "    ax.bar_label(i, label_type=\"edge\", padding=5)\n",
    "    \n",
    "plt.show()"
   ]
  },
  {
   "cell_type": "markdown",
   "id": "ae1cdf38",
   "metadata": {},
   "source": [
    "## 11. Preço máximo, mínimo e médio dos valores de pedidos feitos com cartão de crédito"
   ]
  },
  {
   "cell_type": "markdown",
   "id": "e6dce4eb",
   "metadata": {},
   "source": [
    "> Consulta SQL."
   ]
  },
  {
   "cell_type": "code",
   "execution_count": 49,
   "id": "07d28add",
   "metadata": {
    "ExecuteTime": {
     "end_time": "2023-03-31T14:38:48.808588Z",
     "start_time": "2023-03-31T14:38:48.622076Z"
    }
   },
   "outputs": [
    {
     "name": "stdout",
     "output_type": "stream",
     "text": [
      "olist_customers       olist_order_payments  olist_products      \r\n",
      "olist_geolocation     olist_order_reviews   olist_sellers       \r\n",
      "olist_order_items     olist_orders        \r\n"
     ]
    }
   ],
   "source": [
    "!sqlite3 olist.db '.tables'"
   ]
  },
  {
   "cell_type": "code",
   "execution_count": 50,
   "id": "5def4890",
   "metadata": {
    "ExecuteTime": {
     "end_time": "2023-03-31T14:38:48.905115Z",
     "start_time": "2023-03-31T14:38:48.816066Z"
    }
   },
   "outputs": [
    {
     "data": {
      "text/html": [
       "<div>\n",
       "<style scoped>\n",
       "    .dataframe tbody tr th:only-of-type {\n",
       "        vertical-align: middle;\n",
       "    }\n",
       "\n",
       "    .dataframe tbody tr th {\n",
       "        vertical-align: top;\n",
       "    }\n",
       "\n",
       "    .dataframe thead th {\n",
       "        text-align: right;\n",
       "    }\n",
       "</style>\n",
       "<table border=\"1\" class=\"dataframe\">\n",
       "  <thead>\n",
       "    <tr style=\"text-align: right;\">\n",
       "      <th></th>\n",
       "      <th>valor_maximo</th>\n",
       "      <th>valor_minimo</th>\n",
       "      <th>valor_medio</th>\n",
       "    </tr>\n",
       "  </thead>\n",
       "  <tbody>\n",
       "    <tr>\n",
       "      <th>0</th>\n",
       "      <td>13664.08</td>\n",
       "      <td>0.01</td>\n",
       "      <td>163.32</td>\n",
       "    </tr>\n",
       "  </tbody>\n",
       "</table>\n",
       "</div>"
      ],
      "text/plain": [
       "   valor_maximo  valor_minimo  valor_medio\n",
       "0      13664.08          0.01       163.32"
      ]
     },
     "execution_count": 50,
     "metadata": {},
     "output_type": "execute_result"
    }
   ],
   "source": [
    "query = \"\"\"\n",
    "        SELECT MAX(payment_value) AS valor_maximo, ROUND(MIN(payment_value),2) AS valor_minimo, ROUND(AVG(payment_value),2) AS valor_medio\n",
    "        FROM olist_order_payments\n",
    "        WHERE payment_type == 'credit_card'\n",
    "        \"\"\"\n",
    "\n",
    "order_values = pd.read_sql(query, con=conn)\n",
    "order_values"
   ]
  },
  {
   "cell_type": "markdown",
   "id": "c96a831f",
   "metadata": {},
   "source": [
    "## 12. Média do frete por categoria do produto"
   ]
  },
  {
   "cell_type": "markdown",
   "id": "36a9910f",
   "metadata": {},
   "source": [
    "> Consulta SQL."
   ]
  },
  {
   "cell_type": "code",
   "execution_count": 51,
   "id": "179f5be3",
   "metadata": {
    "ExecuteTime": {
     "end_time": "2023-03-31T14:38:49.094445Z",
     "start_time": "2023-03-31T14:38:48.908568Z"
    }
   },
   "outputs": [
    {
     "name": "stdout",
     "output_type": "stream",
     "text": [
      "olist_customers       olist_order_payments  olist_products      \r\n",
      "olist_geolocation     olist_order_reviews   olist_sellers       \r\n",
      "olist_order_items     olist_orders        \r\n"
     ]
    }
   ],
   "source": [
    "!sqlite3 olist.db '.tables'"
   ]
  },
  {
   "cell_type": "code",
   "execution_count": 188,
   "id": "94fc9614",
   "metadata": {
    "ExecuteTime": {
     "end_time": "2023-03-31T18:57:42.733762Z",
     "start_time": "2023-03-31T18:57:41.784042Z"
    }
   },
   "outputs": [
    {
     "data": {
      "text/html": [
       "<div>\n",
       "<style scoped>\n",
       "    .dataframe tbody tr th:only-of-type {\n",
       "        vertical-align: middle;\n",
       "    }\n",
       "\n",
       "    .dataframe tbody tr th {\n",
       "        vertical-align: top;\n",
       "    }\n",
       "\n",
       "    .dataframe thead th {\n",
       "        text-align: right;\n",
       "    }\n",
       "</style>\n",
       "<table border=\"1\" class=\"dataframe\">\n",
       "  <thead>\n",
       "    <tr style=\"text-align: right;\">\n",
       "      <th></th>\n",
       "      <th>categoria_produto</th>\n",
       "      <th>media_frete</th>\n",
       "    </tr>\n",
       "  </thead>\n",
       "  <tbody>\n",
       "    <tr>\n",
       "      <th>0</th>\n",
       "      <td>pcs</td>\n",
       "      <td>48.45</td>\n",
       "    </tr>\n",
       "    <tr>\n",
       "      <th>23</th>\n",
       "      <td>eletrodomesticos_2</td>\n",
       "      <td>44.54</td>\n",
       "    </tr>\n",
       "    <tr>\n",
       "      <th>8</th>\n",
       "      <td>moveis_colchao_e_estofado</td>\n",
       "      <td>42.91</td>\n",
       "    </tr>\n",
       "    <tr>\n",
       "      <th>57</th>\n",
       "      <td>moveis_cozinha_area_de_servico_jantar_e_jardim</td>\n",
       "      <td>42.70</td>\n",
       "    </tr>\n",
       "    <tr>\n",
       "      <th>13</th>\n",
       "      <td>moveis_quarto</td>\n",
       "      <td>42.50</td>\n",
       "    </tr>\n",
       "    <tr>\n",
       "      <th>5</th>\n",
       "      <td>moveis_escritorio</td>\n",
       "      <td>40.55</td>\n",
       "    </tr>\n",
       "    <tr>\n",
       "      <th>2</th>\n",
       "      <td>portateis_casa_forno_e_cafe</td>\n",
       "      <td>36.16</td>\n",
       "    </tr>\n",
       "    <tr>\n",
       "      <th>4</th>\n",
       "      <td>moveis_sala</td>\n",
       "      <td>35.72</td>\n",
       "    </tr>\n",
       "    <tr>\n",
       "      <th>32</th>\n",
       "      <td>sinalizacao_e_seguranca</td>\n",
       "      <td>32.70</td>\n",
       "    </tr>\n",
       "    <tr>\n",
       "      <th>11</th>\n",
       "      <td>industria_comercio_e_negocios</td>\n",
       "      <td>29.42</td>\n",
       "    </tr>\n",
       "    <tr>\n",
       "      <th>17</th>\n",
       "      <td>malas_acessorios</td>\n",
       "      <td>27.88</td>\n",
       "    </tr>\n",
       "    <tr>\n",
       "      <th>20</th>\n",
       "      <td>agro_industria_e_comercio</td>\n",
       "      <td>27.56</td>\n",
       "    </tr>\n",
       "    <tr>\n",
       "      <th>67</th>\n",
       "      <td>instrumentos_musicais</td>\n",
       "      <td>27.41</td>\n",
       "    </tr>\n",
       "    <tr>\n",
       "      <th>42</th>\n",
       "      <td>construcao_ferramentas_iluminacao</td>\n",
       "      <td>24.95</td>\n",
       "    </tr>\n",
       "    <tr>\n",
       "      <th>18</th>\n",
       "      <td>la_cuisine</td>\n",
       "      <td>23.83</td>\n",
       "    </tr>\n",
       "  </tbody>\n",
       "</table>\n",
       "</div>"
      ],
      "text/plain": [
       "                                 categoria_produto  media_frete\n",
       "0                                              pcs        48.45\n",
       "23                              eletrodomesticos_2        44.54\n",
       "8                        moveis_colchao_e_estofado        42.91\n",
       "57  moveis_cozinha_area_de_servico_jantar_e_jardim        42.70\n",
       "13                                   moveis_quarto        42.50\n",
       "5                                moveis_escritorio        40.55\n",
       "2                      portateis_casa_forno_e_cafe        36.16\n",
       "4                                      moveis_sala        35.72\n",
       "32                         sinalizacao_e_seguranca        32.70\n",
       "11                   industria_comercio_e_negocios        29.42\n",
       "17                                malas_acessorios        27.88\n",
       "20                       agro_industria_e_comercio        27.56\n",
       "67                           instrumentos_musicais        27.41\n",
       "42               construcao_ferramentas_iluminacao        24.95\n",
       "18                                      la_cuisine        23.83"
      ]
     },
     "execution_count": 188,
     "metadata": {},
     "output_type": "execute_result"
    }
   ],
   "source": [
    "query = \"\"\"\n",
    "        SELECT p.product_category_name AS categoria_produto, ROUND(AVG(oi.freight_value),2) AS media_frete\n",
    "\n",
    "        FROM olist_products p INNER JOIN olist_order_items oi ON p.product_id = oi.product_id\n",
    "\n",
    "        GROUP BY p.product_category_name\n",
    "\n",
    "        ORDER BY oi.freight_value DESC\n",
    "        \n",
    "        \"\"\"\n",
    "\n",
    "order_freight = pd.read_sql(query, con=conn)\n",
    "order_freight = order_freight.sort_values(by= 'media_frete', ascending = False)\n",
    "order_freight.head(15)"
   ]
  },
  {
   "cell_type": "code",
   "execution_count": 235,
   "id": "7c284770",
   "metadata": {
    "ExecuteTime": {
     "end_time": "2023-03-31T22:16:30.701713Z",
     "start_time": "2023-03-31T22:16:29.448219Z"
    }
   },
   "outputs": [
    {
     "data": {
      "image/png": "[encoded data removed]",
      "text/plain": [
       "<Figure size 1440x720 with 1 Axes>"
      ]
     },
     "metadata": {},
     "output_type": "display_data"
    }
   ],
   "source": [
    "plt.figure(figsize=(20, 10))\n",
    "\n",
    "ax = sns.barplot(x='categoria_produto', y='media_frete', data=order_freight.loc[:10])\n",
    "\n",
    "plt.xticks(rotation=45)\n",
    "\n",
    "for i in ax.containers:\n",
    "    ax.bar_label(i, label_type=\"edge\", padding=5)\n",
    "    \n",
    "plt.show()"
   ]
  },
  {
   "cell_type": "markdown",
   "id": "f36aecd1",
   "metadata": {},
   "source": [
    "## 13. Total de pedidos cadastrados "
   ]
  },
  {
   "cell_type": "markdown",
   "id": "36de26af",
   "metadata": {},
   "source": [
    "> Consulta SQL."
   ]
  },
  {
   "cell_type": "code",
   "execution_count": 53,
   "id": "92e3fbe5",
   "metadata": {
    "ExecuteTime": {
     "end_time": "2023-03-31T14:38:50.363151Z",
     "start_time": "2023-03-31T14:38:50.176266Z"
    }
   },
   "outputs": [
    {
     "name": "stdout",
     "output_type": "stream",
     "text": [
      "olist_customers       olist_order_payments  olist_products      \r\n",
      "olist_geolocation     olist_order_reviews   olist_sellers       \r\n",
      "olist_order_items     olist_orders        \r\n"
     ]
    }
   ],
   "source": [
    "!sqlite3 olist.db '.tables'"
   ]
  },
  {
   "cell_type": "code",
   "execution_count": 237,
   "id": "5d771b22",
   "metadata": {
    "ExecuteTime": {
     "end_time": "2023-03-31T22:19:13.953983Z",
     "start_time": "2023-03-31T22:19:13.262428Z"
    }
   },
   "outputs": [
    {
     "data": {
      "text/html": [
       "<div>\n",
       "<style scoped>\n",
       "    .dataframe tbody tr th:only-of-type {\n",
       "        vertical-align: middle;\n",
       "    }\n",
       "\n",
       "    .dataframe tbody tr th {\n",
       "        vertical-align: top;\n",
       "    }\n",
       "\n",
       "    .dataframe thead th {\n",
       "        text-align: right;\n",
       "    }\n",
       "</style>\n",
       "<table border=\"1\" class=\"dataframe\">\n",
       "  <thead>\n",
       "    <tr style=\"text-align: right;\">\n",
       "      <th></th>\n",
       "      <th>total_pedidos</th>\n",
       "    </tr>\n",
       "  </thead>\n",
       "  <tbody>\n",
       "    <tr>\n",
       "      <th>0</th>\n",
       "      <td>99441</td>\n",
       "    </tr>\n",
       "  </tbody>\n",
       "</table>\n",
       "</div>"
      ],
      "text/plain": [
       "   total_pedidos\n",
       "0          99441"
      ]
     },
     "execution_count": 237,
     "metadata": {},
     "output_type": "execute_result"
    }
   ],
   "source": [
    "query = \"\"\"\n",
    "        SELECT COUNT(DISTINCT customer_id) AS total_pedidos\n",
    "\n",
    "        FROM olist_orders\n",
    "        \n",
    "        \"\"\"\n",
    "\n",
    "orders = pd.read_sql(query, con=conn)\n",
    "orders"
   ]
  },
  {
   "cell_type": "markdown",
   "id": "07687777",
   "metadata": {},
   "source": [
    "## 14. Distribuição de reviews dos pedidos"
   ]
  },
  {
   "cell_type": "markdown",
   "id": "ebfd751e",
   "metadata": {},
   "source": [
    "> Consulta SQL."
   ]
  },
  {
   "cell_type": "code",
   "execution_count": 55,
   "id": "f4bea359",
   "metadata": {
    "ExecuteTime": {
     "end_time": "2023-03-31T14:38:51.025892Z",
     "start_time": "2023-03-31T14:38:50.847233Z"
    }
   },
   "outputs": [
    {
     "name": "stdout",
     "output_type": "stream",
     "text": [
      "olist_customers       olist_order_payments  olist_products      \r\n",
      "olist_geolocation     olist_order_reviews   olist_sellers       \r\n",
      "olist_order_items     olist_orders        \r\n"
     ]
    }
   ],
   "source": [
    "!sqlite3 olist.db '.tables'"
   ]
  },
  {
   "cell_type": "code",
   "execution_count": 236,
   "id": "d48c8bb2",
   "metadata": {
    "ExecuteTime": {
     "end_time": "2023-03-31T22:19:03.585076Z",
     "start_time": "2023-03-31T22:19:03.343320Z"
    }
   },
   "outputs": [
    {
     "data": {
      "text/html": [
       "<div>\n",
       "<style scoped>\n",
       "    .dataframe tbody tr th:only-of-type {\n",
       "        vertical-align: middle;\n",
       "    }\n",
       "\n",
       "    .dataframe tbody tr th {\n",
       "        vertical-align: top;\n",
       "    }\n",
       "\n",
       "    .dataframe thead th {\n",
       "        text-align: right;\n",
       "    }\n",
       "</style>\n",
       "<table border=\"1\" class=\"dataframe\">\n",
       "  <thead>\n",
       "    <tr style=\"text-align: right;\">\n",
       "      <th></th>\n",
       "      <th>review_score</th>\n",
       "      <th>reviews_clientes</th>\n",
       "    </tr>\n",
       "  </thead>\n",
       "  <tbody>\n",
       "    <tr>\n",
       "      <th>0</th>\n",
       "      <td>5</td>\n",
       "      <td>57328</td>\n",
       "    </tr>\n",
       "    <tr>\n",
       "      <th>1</th>\n",
       "      <td>4</td>\n",
       "      <td>19142</td>\n",
       "    </tr>\n",
       "    <tr>\n",
       "      <th>2</th>\n",
       "      <td>1</td>\n",
       "      <td>11424</td>\n",
       "    </tr>\n",
       "    <tr>\n",
       "      <th>3</th>\n",
       "      <td>3</td>\n",
       "      <td>8179</td>\n",
       "    </tr>\n",
       "    <tr>\n",
       "      <th>4</th>\n",
       "      <td>2</td>\n",
       "      <td>3151</td>\n",
       "    </tr>\n",
       "  </tbody>\n",
       "</table>\n",
       "</div>"
      ],
      "text/plain": [
       "   review_score  reviews_clientes\n",
       "0             5             57328\n",
       "1             4             19142\n",
       "2             1             11424\n",
       "3             3              8179\n",
       "4             2              3151"
      ]
     },
     "execution_count": 236,
     "metadata": {},
     "output_type": "execute_result"
    }
   ],
   "source": [
    "query = \"\"\"\n",
    "        SELECT review_score, COUNT(order_id) AS reviews_clientes\n",
    "\n",
    "        FROM olist_order_reviews\n",
    "\n",
    "        GROUP BY review_score\n",
    "\n",
    "        ORDER BY reviews_clientes DESC\n",
    "        \n",
    "        \"\"\"\n",
    "\n",
    "order_reviews = pd.read_sql(query, con=conn)\n",
    "order_reviews"
   ]
  },
  {
   "cell_type": "code",
   "execution_count": 57,
   "id": "782968ae",
   "metadata": {
    "ExecuteTime": {
     "end_time": "2023-03-31T14:38:51.241773Z",
     "start_time": "2023-03-31T14:38:51.233647Z"
    }
   },
   "outputs": [],
   "source": [
    "mean = order_reviews['review_score'].mean()\n",
    "std = order_reviews['review_score'].std() "
   ]
  },
  {
   "cell_type": "code",
   "execution_count": 60,
   "id": "2c52d2ef",
   "metadata": {
    "ExecuteTime": {
     "end_time": "2023-03-31T14:42:24.487221Z",
     "start_time": "2023-03-31T14:42:24.437779Z"
    }
   },
   "outputs": [
    {
     "data": {
      "text/plain": [
       "(3.0, 1.58)"
      ]
     },
     "execution_count": 60,
     "metadata": {},
     "output_type": "execute_result"
    }
   ],
   "source": [
    "mean, np.round(std,2)"
   ]
  },
  {
   "cell_type": "code",
   "execution_count": 226,
   "id": "c9b09ad2",
   "metadata": {
    "ExecuteTime": {
     "end_time": "2023-03-31T22:08:11.203012Z",
     "start_time": "2023-03-31T22:08:10.793797Z"
    }
   },
   "outputs": [
    {
     "data": {
      "image/png": "[encoded data removed]",
      "text/plain": [
       "<Figure size 864x432 with 1 Axes>"
      ]
     },
     "metadata": {},
     "output_type": "display_data"
    }
   ],
   "source": [
    "order_reviews2 = order_reviews2.sort_values(by='reviews_clientes', ascending=False)\n",
    "\n",
    "score_order = [5, 4, 1, 3, 2]\n",
    "\n",
    "plt.figure(figsize=(12, 6))\n",
    "ax = sns.barplot(x='review_score', y='reviews_clientes', data=order_reviews2, order=score_order)\n",
    "\n",
    "for i in ax.containers:\n",
    "    ax.bar_label(i, label_type=\"edge\", padding=5)\n",
    "\n",
    "plt.show()"
   ]
  },
  {
   "cell_type": "markdown",
   "id": "003ba166",
   "metadata": {},
   "source": [
    "## 15. Ano em que mais enviou produtos"
   ]
  },
  {
   "cell_type": "markdown",
   "id": "8a99fb1a",
   "metadata": {},
   "source": [
    "> Consulta SQL."
   ]
  },
  {
   "cell_type": "code",
   "execution_count": 61,
   "id": "205ecc04",
   "metadata": {
    "ExecuteTime": {
     "end_time": "2023-03-31T14:42:33.882470Z",
     "start_time": "2023-03-31T14:42:33.690582Z"
    }
   },
   "outputs": [
    {
     "name": "stdout",
     "output_type": "stream",
     "text": [
      "olist_customers       olist_order_payments  olist_products      \r\n",
      "olist_geolocation     olist_order_reviews   olist_sellers       \r\n",
      "olist_order_items     olist_orders        \r\n"
     ]
    }
   ],
   "source": [
    "!sqlite3 olist.db '.tables'"
   ]
  },
  {
   "cell_type": "code",
   "execution_count": 213,
   "id": "09f6f92f",
   "metadata": {
    "ExecuteTime": {
     "end_time": "2023-03-31T21:59:21.406380Z",
     "start_time": "2023-03-31T21:59:20.978042Z"
    }
   },
   "outputs": [
    {
     "data": {
      "text/html": [
       "<div>\n",
       "<style scoped>\n",
       "    .dataframe tbody tr th:only-of-type {\n",
       "        vertical-align: middle;\n",
       "    }\n",
       "\n",
       "    .dataframe tbody tr th {\n",
       "        vertical-align: top;\n",
       "    }\n",
       "\n",
       "    .dataframe thead th {\n",
       "        text-align: right;\n",
       "    }\n",
       "</style>\n",
       "<table border=\"1\" class=\"dataframe\">\n",
       "  <thead>\n",
       "    <tr style=\"text-align: right;\">\n",
       "      <th></th>\n",
       "      <th>ano_envio</th>\n",
       "      <th>qtd_produtos</th>\n",
       "    </tr>\n",
       "  </thead>\n",
       "  <tbody>\n",
       "    <tr>\n",
       "      <th>0</th>\n",
       "      <td>2018</td>\n",
       "      <td>20747</td>\n",
       "    </tr>\n",
       "    <tr>\n",
       "      <th>1</th>\n",
       "      <td>2017</td>\n",
       "      <td>17003</td>\n",
       "    </tr>\n",
       "    <tr>\n",
       "      <th>2</th>\n",
       "      <td>2016</td>\n",
       "      <td>277</td>\n",
       "    </tr>\n",
       "    <tr>\n",
       "      <th>3</th>\n",
       "      <td>2020</td>\n",
       "      <td>3</td>\n",
       "    </tr>\n",
       "  </tbody>\n",
       "</table>\n",
       "</div>"
      ],
      "text/plain": [
       "  ano_envio  qtd_produtos\n",
       "0      2018         20747\n",
       "1      2017         17003\n",
       "2      2016           277\n",
       "3      2020             3"
      ]
     },
     "execution_count": 213,
     "metadata": {},
     "output_type": "execute_result"
    }
   ],
   "source": [
    "query = \"\"\"\n",
    "        SELECT strftime('%Y', shipping_limit_date) AS ano_envio, COUNT(DISTINCT product_id) AS qtd_produtos\n",
    "        FROM olist_order_items\n",
    "        GROUP BY strftime('%Y', shipping_limit_date)\n",
    "        ORDER BY qtd_produtos DESC\n",
    "        LIMIT 1000;\n",
    "        \"\"\"\n",
    "\n",
    "order_year = pd.read_sql(query, con=conn)\n",
    "order_year"
   ]
  },
  {
   "cell_type": "code",
   "execution_count": 214,
   "id": "500c4822",
   "metadata": {
    "ExecuteTime": {
     "end_time": "2023-03-31T21:59:27.281634Z",
     "start_time": "2023-03-31T21:59:27.273811Z"
    }
   },
   "outputs": [],
   "source": [
    "order_year = order_year.sort_values(by= 'ano_envio', ascending=True)"
   ]
  },
  {
   "cell_type": "code",
   "execution_count": 216,
   "id": "e4b9bf4b",
   "metadata": {
    "ExecuteTime": {
     "end_time": "2023-03-31T21:59:49.630726Z",
     "start_time": "2023-03-31T21:59:49.097632Z"
    }
   },
   "outputs": [
    {
     "data": {
      "text/plain": [
       "<AxesSubplot: xlabel='ano_envio', ylabel='qtd_produtos'>"
      ]
     },
     "execution_count": 216,
     "metadata": {},
     "output_type": "execute_result"
    },
    {
     "data": {
      "image/png": "[encoded data removed]",
      "text/plain": [
       "<Figure size 864x432 with 1 Axes>"
      ]
     },
     "metadata": {},
     "output_type": "display_data"
    }
   ],
   "source": [
    "plt.figure(figsize=(12, 6))\n",
    "sns.lineplot(data=order_year, x='ano_envio', y='qtd_produtos', color='blue')"
   ]
  },
  {
   "cell_type": "code",
   "execution_count": 210,
   "id": "83791a8b",
   "metadata": {
    "ExecuteTime": {
     "end_time": "2023-03-31T21:50:45.113488Z",
     "start_time": "2023-03-31T21:50:44.796382Z"
    }
   },
   "outputs": [
    {
     "data": {
      "text/plain": [
       "'2020-04-09 22:35:08'"
      ]
     },
     "execution_count": 210,
     "metadata": {},
     "output_type": "execute_result"
    }
   ],
   "source": [
    "olist_order_items['shipping_limit_date'].max()"
   ]
  },
  {
   "cell_type": "markdown",
   "id": "f3116566",
   "metadata": {},
   "source": [
    "OBS: os registros do ano de 2020 são até abril, por isso nao dá para dizer que houve diminuição de 2018 a 2020."
   ]
  },
  {
   "cell_type": "markdown",
   "id": "9f347014",
   "metadata": {},
   "source": [
    "# Fechando a conexão com o banco de dados"
   ]
  },
  {
   "cell_type": "code",
   "execution_count": null,
   "id": "017660db",
   "metadata": {
    "ExecuteTime": {
     "end_time": "2023-03-31T14:38:52.419159Z",
     "start_time": "2023-03-31T14:38:52.419132Z"
    }
   },
   "outputs": [],
   "source": [
    "#conn.close()"
   ]
  }
 ],
 "metadata": {
  "kernelspec": {
   "display_name": "Python 3 (ipykernel)",
   "language": "python",
   "name": "python3"
  },
  "language_info": {
   "codemirror_mode": {
    "name": "ipython",
    "version": 3
   },
   "file_extension": ".py",
   "mimetype": "text/x-python",
   "name": "python",
   "nbconvert_exporter": "python",
   "pygments_lexer": "ipython3",
   "version": "3.10.6"
  },
  "varInspector": {
   "cols": {
    "lenName": 16,
    "lenType": 16,
    "lenVar": 40
   },
   "kernels_config": {
    "python": {
     "delete_cmd_postfix": "",
     "delete_cmd_prefix": "del ",
     "library": "var_list.py",
     "varRefreshCmd": "print(var_dic_list())"
    },
    "r": {
     "delete_cmd_postfix": ") ",
     "delete_cmd_prefix": "rm(",
     "library": "var_list.r",
     "varRefreshCmd": "cat(var_dic_list()) "
    }
   },
   "types_to_exclude": [
    "module",
    "function",
    "builtin_function_or_method",
    "instance",
    "_Feature"
   ],
   "window_display": false
  }
 },
 "nbformat": 4,
 "nbformat_minor": 5
}
