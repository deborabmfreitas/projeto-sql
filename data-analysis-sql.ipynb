{
 "cells": [
  {
   "cell_type": "code",
   "execution_count": 1,
   "id": "c32159fb",
   "metadata": {
    "ExecuteTime": {
     "end_time": "2023-03-27T23:47:30.741651Z",
     "start_time": "2023-03-27T23:47:29.926998Z"
    }
   },
   "outputs": [],
   "source": [
    "import pandas as pd"
   ]
  },
  {
   "cell_type": "code",
   "execution_count": 2,
   "id": "d2f6897c",
   "metadata": {
    "ExecuteTime": {
     "end_time": "2023-03-27T23:47:31.168862Z",
     "start_time": "2023-03-27T23:47:30.746531Z"
    }
   },
   "outputs": [
    {
     "data": {
      "text/html": [
       "<div>\n",
       "<style scoped>\n",
       "    .dataframe tbody tr th:only-of-type {\n",
       "        vertical-align: middle;\n",
       "    }\n",
       "\n",
       "    .dataframe tbody tr th {\n",
       "        vertical-align: top;\n",
       "    }\n",
       "\n",
       "    .dataframe thead th {\n",
       "        text-align: right;\n",
       "    }\n",
       "</style>\n",
       "<table border=\"1\" class=\"dataframe\">\n",
       "  <thead>\n",
       "    <tr style=\"text-align: right;\">\n",
       "      <th></th>\n",
       "      <th>customer_unique_id</th>\n",
       "      <th>customer_zip_code_prefix</th>\n",
       "      <th>customer_city</th>\n",
       "      <th>customer_state</th>\n",
       "    </tr>\n",
       "    <tr>\n",
       "      <th>customer_id</th>\n",
       "      <th></th>\n",
       "      <th></th>\n",
       "      <th></th>\n",
       "      <th></th>\n",
       "    </tr>\n",
       "  </thead>\n",
       "  <tbody>\n",
       "    <tr>\n",
       "      <th>06b8999e2fba1a1fbc88172c00ba8bc7</th>\n",
       "      <td>861eff4711a542e4b93843c6dd7febb0</td>\n",
       "      <td>14409</td>\n",
       "      <td>franca</td>\n",
       "      <td>SP</td>\n",
       "    </tr>\n",
       "    <tr>\n",
       "      <th>18955e83d337fd6b2def6b18a428ac77</th>\n",
       "      <td>290c77bc529b7ac935b93aa66c333dc3</td>\n",
       "      <td>9790</td>\n",
       "      <td>sao bernardo do campo</td>\n",
       "      <td>SP</td>\n",
       "    </tr>\n",
       "    <tr>\n",
       "      <th>4e7b3e00288586ebd08712fdd0374a03</th>\n",
       "      <td>060e732b5b29e8181a18229c7b0b2b5e</td>\n",
       "      <td>1151</td>\n",
       "      <td>sao paulo</td>\n",
       "      <td>SP</td>\n",
       "    </tr>\n",
       "    <tr>\n",
       "      <th>b2b6027bc5c5109e529d4dc6358b12c3</th>\n",
       "      <td>259dac757896d24d7702b9acbbff3f3c</td>\n",
       "      <td>8775</td>\n",
       "      <td>mogi das cruzes</td>\n",
       "      <td>SP</td>\n",
       "    </tr>\n",
       "    <tr>\n",
       "      <th>4f2d8ab171c80ec8364f7c12e35b23ad</th>\n",
       "      <td>345ecd01c38d18a9036ed96c73b8d066</td>\n",
       "      <td>13056</td>\n",
       "      <td>campinas</td>\n",
       "      <td>SP</td>\n",
       "    </tr>\n",
       "  </tbody>\n",
       "</table>\n",
       "</div>"
      ],
      "text/plain": [
       "                                                customer_unique_id  \\\n",
       "customer_id                                                          \n",
       "06b8999e2fba1a1fbc88172c00ba8bc7  861eff4711a542e4b93843c6dd7febb0   \n",
       "18955e83d337fd6b2def6b18a428ac77  290c77bc529b7ac935b93aa66c333dc3   \n",
       "4e7b3e00288586ebd08712fdd0374a03  060e732b5b29e8181a18229c7b0b2b5e   \n",
       "b2b6027bc5c5109e529d4dc6358b12c3  259dac757896d24d7702b9acbbff3f3c   \n",
       "4f2d8ab171c80ec8364f7c12e35b23ad  345ecd01c38d18a9036ed96c73b8d066   \n",
       "\n",
       "                                  customer_zip_code_prefix  \\\n",
       "customer_id                                                  \n",
       "06b8999e2fba1a1fbc88172c00ba8bc7                     14409   \n",
       "18955e83d337fd6b2def6b18a428ac77                      9790   \n",
       "4e7b3e00288586ebd08712fdd0374a03                      1151   \n",
       "b2b6027bc5c5109e529d4dc6358b12c3                      8775   \n",
       "4f2d8ab171c80ec8364f7c12e35b23ad                     13056   \n",
       "\n",
       "                                          customer_city customer_state  \n",
       "customer_id                                                             \n",
       "06b8999e2fba1a1fbc88172c00ba8bc7                 franca             SP  \n",
       "18955e83d337fd6b2def6b18a428ac77  sao bernardo do campo             SP  \n",
       "4e7b3e00288586ebd08712fdd0374a03              sao paulo             SP  \n",
       "b2b6027bc5c5109e529d4dc6358b12c3        mogi das cruzes             SP  \n",
       "4f2d8ab171c80ec8364f7c12e35b23ad               campinas             SP  "
      ]
     },
     "execution_count": 2,
     "metadata": {},
     "output_type": "execute_result"
    }
   ],
   "source": [
    "olist_customers = pd.read_csv('data/olist_customers_dataset.csv', index_col=0)\n",
    "\n",
    "olist_customers.head()"
   ]
  },
  {
   "cell_type": "code",
   "execution_count": 3,
   "id": "8033fdfa",
   "metadata": {
    "ExecuteTime": {
     "end_time": "2023-03-27T23:47:31.184117Z",
     "start_time": "2023-03-27T23:47:31.174985Z"
    }
   },
   "outputs": [
    {
     "data": {
      "text/plain": [
       "(99441, 4)"
      ]
     },
     "execution_count": 3,
     "metadata": {},
     "output_type": "execute_result"
    }
   ],
   "source": [
    "olist_customers.shape"
   ]
  },
  {
   "cell_type": "code",
   "execution_count": 4,
   "id": "c6520de1",
   "metadata": {
    "ExecuteTime": {
     "end_time": "2023-03-27T23:47:31.209157Z",
     "start_time": "2023-03-27T23:47:31.187756Z"
    }
   },
   "outputs": [],
   "source": [
    "import sqlite3"
   ]
  },
  {
   "cell_type": "code",
   "execution_count": 5,
   "id": "441174ce",
   "metadata": {
    "ExecuteTime": {
     "end_time": "2023-03-27T23:47:31.223141Z",
     "start_time": "2023-03-27T23:47:31.216543Z"
    }
   },
   "outputs": [],
   "source": [
    "# conexão com banco de dados SQLite\n",
    "\n",
    "conn = sqlite3.connect('olist.db')"
   ]
  },
  {
   "cell_type": "code",
   "execution_count": 6,
   "id": "4eb38fb3",
   "metadata": {
    "ExecuteTime": {
     "end_time": "2023-03-27T23:47:32.835891Z",
     "start_time": "2023-03-27T23:47:31.232143Z"
    }
   },
   "outputs": [
    {
     "data": {
      "text/plain": [
       "99441"
      ]
     },
     "execution_count": 6,
     "metadata": {},
     "output_type": "execute_result"
    }
   ],
   "source": [
    "olist_customers.to_sql(name= 'olist_customers', con= conn)"
   ]
  },
  {
   "cell_type": "code",
   "execution_count": 7,
   "id": "c11bd7bd",
   "metadata": {
    "ExecuteTime": {
     "end_time": "2023-03-27T23:47:32.989060Z",
     "start_time": "2023-03-27T23:47:32.840739Z"
    }
   },
   "outputs": [],
   "source": [
    "# checando criação do banco de dados\n",
    "\n",
    "!sqlite3 olist.db '.tables'"
   ]
  },
  {
   "cell_type": "code",
   "execution_count": 8,
   "id": "5eeb320a",
   "metadata": {
    "ExecuteTime": {
     "end_time": "2023-03-27T23:47:33.143806Z",
     "start_time": "2023-03-27T23:47:32.993872Z"
    }
   },
   "outputs": [],
   "source": [
    "!sqlite3 olist.db 'PRAGMA table_info(olist_customers)'"
   ]
  },
  {
   "cell_type": "code",
   "execution_count": 9,
   "id": "c7cabddf",
   "metadata": {
    "ExecuteTime": {
     "end_time": "2023-03-27T23:47:33.724890Z",
     "start_time": "2023-03-27T23:47:33.156502Z"
    }
   },
   "outputs": [],
   "source": [
    "# query SQL para pandas.dataframe\n",
    "\n",
    "df_customers = pd.read_sql(\"\"\"\n",
    "                           SELECT *\n",
    "                           FROM olist_customers\n",
    "                           \n",
    "                           \"\"\", con=conn)"
   ]
  },
  {
   "cell_type": "code",
   "execution_count": 10,
   "id": "3f599f56",
   "metadata": {
    "ExecuteTime": {
     "end_time": "2023-03-27T23:47:33.754089Z",
     "start_time": "2023-03-27T23:47:33.730188Z"
    },
    "scrolled": false
   },
   "outputs": [
    {
     "data": {
      "text/html": [
       "<div>\n",
       "<style scoped>\n",
       "    .dataframe tbody tr th:only-of-type {\n",
       "        vertical-align: middle;\n",
       "    }\n",
       "\n",
       "    .dataframe tbody tr th {\n",
       "        vertical-align: top;\n",
       "    }\n",
       "\n",
       "    .dataframe thead th {\n",
       "        text-align: right;\n",
       "    }\n",
       "</style>\n",
       "<table border=\"1\" class=\"dataframe\">\n",
       "  <thead>\n",
       "    <tr style=\"text-align: right;\">\n",
       "      <th></th>\n",
       "      <th>customer_id</th>\n",
       "      <th>customer_unique_id</th>\n",
       "      <th>customer_zip_code_prefix</th>\n",
       "      <th>customer_city</th>\n",
       "      <th>customer_state</th>\n",
       "    </tr>\n",
       "  </thead>\n",
       "  <tbody>\n",
       "    <tr>\n",
       "      <th>0</th>\n",
       "      <td>06b8999e2fba1a1fbc88172c00ba8bc7</td>\n",
       "      <td>861eff4711a542e4b93843c6dd7febb0</td>\n",
       "      <td>14409</td>\n",
       "      <td>franca</td>\n",
       "      <td>SP</td>\n",
       "    </tr>\n",
       "    <tr>\n",
       "      <th>1</th>\n",
       "      <td>18955e83d337fd6b2def6b18a428ac77</td>\n",
       "      <td>290c77bc529b7ac935b93aa66c333dc3</td>\n",
       "      <td>9790</td>\n",
       "      <td>sao bernardo do campo</td>\n",
       "      <td>SP</td>\n",
       "    </tr>\n",
       "    <tr>\n",
       "      <th>2</th>\n",
       "      <td>4e7b3e00288586ebd08712fdd0374a03</td>\n",
       "      <td>060e732b5b29e8181a18229c7b0b2b5e</td>\n",
       "      <td>1151</td>\n",
       "      <td>sao paulo</td>\n",
       "      <td>SP</td>\n",
       "    </tr>\n",
       "    <tr>\n",
       "      <th>3</th>\n",
       "      <td>b2b6027bc5c5109e529d4dc6358b12c3</td>\n",
       "      <td>259dac757896d24d7702b9acbbff3f3c</td>\n",
       "      <td>8775</td>\n",
       "      <td>mogi das cruzes</td>\n",
       "      <td>SP</td>\n",
       "    </tr>\n",
       "    <tr>\n",
       "      <th>4</th>\n",
       "      <td>4f2d8ab171c80ec8364f7c12e35b23ad</td>\n",
       "      <td>345ecd01c38d18a9036ed96c73b8d066</td>\n",
       "      <td>13056</td>\n",
       "      <td>campinas</td>\n",
       "      <td>SP</td>\n",
       "    </tr>\n",
       "    <tr>\n",
       "      <th>...</th>\n",
       "      <td>...</td>\n",
       "      <td>...</td>\n",
       "      <td>...</td>\n",
       "      <td>...</td>\n",
       "      <td>...</td>\n",
       "    </tr>\n",
       "    <tr>\n",
       "      <th>99436</th>\n",
       "      <td>17ddf5dd5d51696bb3d7c6291687be6f</td>\n",
       "      <td>1a29b476fee25c95fbafc67c5ac95cf8</td>\n",
       "      <td>3937</td>\n",
       "      <td>sao paulo</td>\n",
       "      <td>SP</td>\n",
       "    </tr>\n",
       "    <tr>\n",
       "      <th>99437</th>\n",
       "      <td>e7b71a9017aa05c9a7fd292d714858e8</td>\n",
       "      <td>d52a67c98be1cf6a5c84435bd38d095d</td>\n",
       "      <td>6764</td>\n",
       "      <td>taboao da serra</td>\n",
       "      <td>SP</td>\n",
       "    </tr>\n",
       "    <tr>\n",
       "      <th>99438</th>\n",
       "      <td>5e28dfe12db7fb50a4b2f691faecea5e</td>\n",
       "      <td>e9f50caf99f032f0bf3c55141f019d99</td>\n",
       "      <td>60115</td>\n",
       "      <td>fortaleza</td>\n",
       "      <td>CE</td>\n",
       "    </tr>\n",
       "    <tr>\n",
       "      <th>99439</th>\n",
       "      <td>56b18e2166679b8a959d72dd06da27f9</td>\n",
       "      <td>73c2643a0a458b49f58cea58833b192e</td>\n",
       "      <td>92120</td>\n",
       "      <td>canoas</td>\n",
       "      <td>RS</td>\n",
       "    </tr>\n",
       "    <tr>\n",
       "      <th>99440</th>\n",
       "      <td>274fa6071e5e17fe303b9748641082c8</td>\n",
       "      <td>84732c5050c01db9b23e19ba39899398</td>\n",
       "      <td>6703</td>\n",
       "      <td>cotia</td>\n",
       "      <td>SP</td>\n",
       "    </tr>\n",
       "  </tbody>\n",
       "</table>\n",
       "<p>99441 rows × 5 columns</p>\n",
       "</div>"
      ],
      "text/plain": [
       "                            customer_id                customer_unique_id  \\\n",
       "0      06b8999e2fba1a1fbc88172c00ba8bc7  861eff4711a542e4b93843c6dd7febb0   \n",
       "1      18955e83d337fd6b2def6b18a428ac77  290c77bc529b7ac935b93aa66c333dc3   \n",
       "2      4e7b3e00288586ebd08712fdd0374a03  060e732b5b29e8181a18229c7b0b2b5e   \n",
       "3      b2b6027bc5c5109e529d4dc6358b12c3  259dac757896d24d7702b9acbbff3f3c   \n",
       "4      4f2d8ab171c80ec8364f7c12e35b23ad  345ecd01c38d18a9036ed96c73b8d066   \n",
       "...                                 ...                               ...   \n",
       "99436  17ddf5dd5d51696bb3d7c6291687be6f  1a29b476fee25c95fbafc67c5ac95cf8   \n",
       "99437  e7b71a9017aa05c9a7fd292d714858e8  d52a67c98be1cf6a5c84435bd38d095d   \n",
       "99438  5e28dfe12db7fb50a4b2f691faecea5e  e9f50caf99f032f0bf3c55141f019d99   \n",
       "99439  56b18e2166679b8a959d72dd06da27f9  73c2643a0a458b49f58cea58833b192e   \n",
       "99440  274fa6071e5e17fe303b9748641082c8  84732c5050c01db9b23e19ba39899398   \n",
       "\n",
       "       customer_zip_code_prefix          customer_city customer_state  \n",
       "0                         14409                 franca             SP  \n",
       "1                          9790  sao bernardo do campo             SP  \n",
       "2                          1151              sao paulo             SP  \n",
       "3                          8775        mogi das cruzes             SP  \n",
       "4                         13056               campinas             SP  \n",
       "...                         ...                    ...            ...  \n",
       "99436                      3937              sao paulo             SP  \n",
       "99437                      6764        taboao da serra             SP  \n",
       "99438                     60115              fortaleza             CE  \n",
       "99439                     92120                 canoas             RS  \n",
       "99440                      6703                  cotia             SP  \n",
       "\n",
       "[99441 rows x 5 columns]"
      ]
     },
     "execution_count": 10,
     "metadata": {},
     "output_type": "execute_result"
    }
   ],
   "source": [
    "df_customers"
   ]
  },
  {
   "cell_type": "code",
   "execution_count": 11,
   "id": "dd8b8a65",
   "metadata": {
    "ExecuteTime": {
     "end_time": "2023-03-27T23:47:33.774771Z",
     "start_time": "2023-03-27T23:47:33.764565Z"
    }
   },
   "outputs": [
    {
     "data": {
      "text/plain": [
       "Index(['customer_id', 'customer_unique_id', 'customer_zip_code_prefix',\n",
       "       'customer_city', 'customer_state'],\n",
       "      dtype='object')"
      ]
     },
     "execution_count": 11,
     "metadata": {},
     "output_type": "execute_result"
    }
   ],
   "source": [
    "df_customers.columns"
   ]
  },
  {
   "cell_type": "code",
   "execution_count": 15,
   "id": "12ea8a6c",
   "metadata": {
    "ExecuteTime": {
     "end_time": "2023-03-27T23:50:20.363293Z",
     "start_time": "2023-03-27T23:50:20.350583Z"
    }
   },
   "outputs": [],
   "source": [
    "query = \"\"\"\n",
    "\n",
    "        SELECT customer_id, customer_city, customer_state\n",
    "        FROM olist_customers;\n",
    "\n",
    "        \"\"\""
   ]
  },
  {
   "cell_type": "code",
   "execution_count": 16,
   "id": "a00ea570",
   "metadata": {
    "ExecuteTime": {
     "end_time": "2023-03-27T23:50:22.792098Z",
     "start_time": "2023-03-27T23:50:22.527725Z"
    }
   },
   "outputs": [],
   "source": [
    "df_customers = pd.read_sql(query, con=conn)"
   ]
  },
  {
   "cell_type": "code",
   "execution_count": 17,
   "id": "20726f21",
   "metadata": {
    "ExecuteTime": {
     "end_time": "2023-03-27T23:50:24.693570Z",
     "start_time": "2023-03-27T23:50:24.672432Z"
    }
   },
   "outputs": [
    {
     "data": {
      "text/html": [
       "<div>\n",
       "<style scoped>\n",
       "    .dataframe tbody tr th:only-of-type {\n",
       "        vertical-align: middle;\n",
       "    }\n",
       "\n",
       "    .dataframe tbody tr th {\n",
       "        vertical-align: top;\n",
       "    }\n",
       "\n",
       "    .dataframe thead th {\n",
       "        text-align: right;\n",
       "    }\n",
       "</style>\n",
       "<table border=\"1\" class=\"dataframe\">\n",
       "  <thead>\n",
       "    <tr style=\"text-align: right;\">\n",
       "      <th></th>\n",
       "      <th>customer_id</th>\n",
       "      <th>customer_city</th>\n",
       "      <th>customer_state</th>\n",
       "    </tr>\n",
       "  </thead>\n",
       "  <tbody>\n",
       "    <tr>\n",
       "      <th>0</th>\n",
       "      <td>06b8999e2fba1a1fbc88172c00ba8bc7</td>\n",
       "      <td>franca</td>\n",
       "      <td>SP</td>\n",
       "    </tr>\n",
       "    <tr>\n",
       "      <th>1</th>\n",
       "      <td>18955e83d337fd6b2def6b18a428ac77</td>\n",
       "      <td>sao bernardo do campo</td>\n",
       "      <td>SP</td>\n",
       "    </tr>\n",
       "    <tr>\n",
       "      <th>2</th>\n",
       "      <td>4e7b3e00288586ebd08712fdd0374a03</td>\n",
       "      <td>sao paulo</td>\n",
       "      <td>SP</td>\n",
       "    </tr>\n",
       "    <tr>\n",
       "      <th>3</th>\n",
       "      <td>b2b6027bc5c5109e529d4dc6358b12c3</td>\n",
       "      <td>mogi das cruzes</td>\n",
       "      <td>SP</td>\n",
       "    </tr>\n",
       "    <tr>\n",
       "      <th>4</th>\n",
       "      <td>4f2d8ab171c80ec8364f7c12e35b23ad</td>\n",
       "      <td>campinas</td>\n",
       "      <td>SP</td>\n",
       "    </tr>\n",
       "    <tr>\n",
       "      <th>...</th>\n",
       "      <td>...</td>\n",
       "      <td>...</td>\n",
       "      <td>...</td>\n",
       "    </tr>\n",
       "    <tr>\n",
       "      <th>99436</th>\n",
       "      <td>17ddf5dd5d51696bb3d7c6291687be6f</td>\n",
       "      <td>sao paulo</td>\n",
       "      <td>SP</td>\n",
       "    </tr>\n",
       "    <tr>\n",
       "      <th>99437</th>\n",
       "      <td>e7b71a9017aa05c9a7fd292d714858e8</td>\n",
       "      <td>taboao da serra</td>\n",
       "      <td>SP</td>\n",
       "    </tr>\n",
       "    <tr>\n",
       "      <th>99438</th>\n",
       "      <td>5e28dfe12db7fb50a4b2f691faecea5e</td>\n",
       "      <td>fortaleza</td>\n",
       "      <td>CE</td>\n",
       "    </tr>\n",
       "    <tr>\n",
       "      <th>99439</th>\n",
       "      <td>56b18e2166679b8a959d72dd06da27f9</td>\n",
       "      <td>canoas</td>\n",
       "      <td>RS</td>\n",
       "    </tr>\n",
       "    <tr>\n",
       "      <th>99440</th>\n",
       "      <td>274fa6071e5e17fe303b9748641082c8</td>\n",
       "      <td>cotia</td>\n",
       "      <td>SP</td>\n",
       "    </tr>\n",
       "  </tbody>\n",
       "</table>\n",
       "<p>99441 rows × 3 columns</p>\n",
       "</div>"
      ],
      "text/plain": [
       "                            customer_id          customer_city customer_state\n",
       "0      06b8999e2fba1a1fbc88172c00ba8bc7                 franca             SP\n",
       "1      18955e83d337fd6b2def6b18a428ac77  sao bernardo do campo             SP\n",
       "2      4e7b3e00288586ebd08712fdd0374a03              sao paulo             SP\n",
       "3      b2b6027bc5c5109e529d4dc6358b12c3        mogi das cruzes             SP\n",
       "4      4f2d8ab171c80ec8364f7c12e35b23ad               campinas             SP\n",
       "...                                 ...                    ...            ...\n",
       "99436  17ddf5dd5d51696bb3d7c6291687be6f              sao paulo             SP\n",
       "99437  e7b71a9017aa05c9a7fd292d714858e8        taboao da serra             SP\n",
       "99438  5e28dfe12db7fb50a4b2f691faecea5e              fortaleza             CE\n",
       "99439  56b18e2166679b8a959d72dd06da27f9                 canoas             RS\n",
       "99440  274fa6071e5e17fe303b9748641082c8                  cotia             SP\n",
       "\n",
       "[99441 rows x 3 columns]"
      ]
     },
     "execution_count": 17,
     "metadata": {},
     "output_type": "execute_result"
    }
   ],
   "source": [
    "df_customers"
   ]
  },
  {
   "cell_type": "code",
   "execution_count": 21,
   "id": "f6d28a35",
   "metadata": {
    "ExecuteTime": {
     "end_time": "2023-03-27T23:52:06.111064Z",
     "start_time": "2023-03-27T23:52:05.929539Z"
    }
   },
   "outputs": [
    {
     "data": {
      "text/html": [
       "<div>\n",
       "<style scoped>\n",
       "    .dataframe tbody tr th:only-of-type {\n",
       "        vertical-align: middle;\n",
       "    }\n",
       "\n",
       "    .dataframe tbody tr th {\n",
       "        vertical-align: top;\n",
       "    }\n",
       "\n",
       "    .dataframe thead th {\n",
       "        text-align: right;\n",
       "    }\n",
       "</style>\n",
       "<table border=\"1\" class=\"dataframe\">\n",
       "  <thead>\n",
       "    <tr style=\"text-align: right;\">\n",
       "      <th></th>\n",
       "      <th>customer_id</th>\n",
       "      <th>customer_city</th>\n",
       "      <th>customer_state</th>\n",
       "    </tr>\n",
       "  </thead>\n",
       "  <tbody>\n",
       "    <tr>\n",
       "      <th>0</th>\n",
       "      <td>06b8999e2fba1a1fbc88172c00ba8bc7</td>\n",
       "      <td>franca</td>\n",
       "      <td>SP</td>\n",
       "    </tr>\n",
       "    <tr>\n",
       "      <th>1</th>\n",
       "      <td>18955e83d337fd6b2def6b18a428ac77</td>\n",
       "      <td>sao bernardo do campo</td>\n",
       "      <td>SP</td>\n",
       "    </tr>\n",
       "    <tr>\n",
       "      <th>2</th>\n",
       "      <td>4e7b3e00288586ebd08712fdd0374a03</td>\n",
       "      <td>sao paulo</td>\n",
       "      <td>SP</td>\n",
       "    </tr>\n",
       "    <tr>\n",
       "      <th>3</th>\n",
       "      <td>b2b6027bc5c5109e529d4dc6358b12c3</td>\n",
       "      <td>mogi das cruzes</td>\n",
       "      <td>SP</td>\n",
       "    </tr>\n",
       "    <tr>\n",
       "      <th>4</th>\n",
       "      <td>4f2d8ab171c80ec8364f7c12e35b23ad</td>\n",
       "      <td>campinas</td>\n",
       "      <td>SP</td>\n",
       "    </tr>\n",
       "    <tr>\n",
       "      <th>...</th>\n",
       "      <td>...</td>\n",
       "      <td>...</td>\n",
       "      <td>...</td>\n",
       "    </tr>\n",
       "    <tr>\n",
       "      <th>41741</th>\n",
       "      <td>f255d679c7c86c24ef4861320d5b7675</td>\n",
       "      <td>rio claro</td>\n",
       "      <td>SP</td>\n",
       "    </tr>\n",
       "    <tr>\n",
       "      <th>41742</th>\n",
       "      <td>f5a0b560f9e9427792a88bec97710212</td>\n",
       "      <td>cajamar</td>\n",
       "      <td>SP</td>\n",
       "    </tr>\n",
       "    <tr>\n",
       "      <th>41743</th>\n",
       "      <td>17ddf5dd5d51696bb3d7c6291687be6f</td>\n",
       "      <td>sao paulo</td>\n",
       "      <td>SP</td>\n",
       "    </tr>\n",
       "    <tr>\n",
       "      <th>41744</th>\n",
       "      <td>e7b71a9017aa05c9a7fd292d714858e8</td>\n",
       "      <td>taboao da serra</td>\n",
       "      <td>SP</td>\n",
       "    </tr>\n",
       "    <tr>\n",
       "      <th>41745</th>\n",
       "      <td>274fa6071e5e17fe303b9748641082c8</td>\n",
       "      <td>cotia</td>\n",
       "      <td>SP</td>\n",
       "    </tr>\n",
       "  </tbody>\n",
       "</table>\n",
       "<p>41746 rows × 3 columns</p>\n",
       "</div>"
      ],
      "text/plain": [
       "                            customer_id          customer_city customer_state\n",
       "0      06b8999e2fba1a1fbc88172c00ba8bc7                 franca             SP\n",
       "1      18955e83d337fd6b2def6b18a428ac77  sao bernardo do campo             SP\n",
       "2      4e7b3e00288586ebd08712fdd0374a03              sao paulo             SP\n",
       "3      b2b6027bc5c5109e529d4dc6358b12c3        mogi das cruzes             SP\n",
       "4      4f2d8ab171c80ec8364f7c12e35b23ad               campinas             SP\n",
       "...                                 ...                    ...            ...\n",
       "41741  f255d679c7c86c24ef4861320d5b7675              rio claro             SP\n",
       "41742  f5a0b560f9e9427792a88bec97710212                cajamar             SP\n",
       "41743  17ddf5dd5d51696bb3d7c6291687be6f              sao paulo             SP\n",
       "41744  e7b71a9017aa05c9a7fd292d714858e8        taboao da serra             SP\n",
       "41745  274fa6071e5e17fe303b9748641082c8                  cotia             SP\n",
       "\n",
       "[41746 rows x 3 columns]"
      ]
     },
     "execution_count": 21,
     "metadata": {},
     "output_type": "execute_result"
    }
   ],
   "source": [
    "query2 = \"\"\"\n",
    "\n",
    "        SELECT customer_id, customer_city, customer_state\n",
    "        FROM olist_customers\n",
    "        WHERE customer_state = 'SP';\n",
    "\n",
    "        \"\"\"\n",
    "\n",
    "df_customers = pd.read_sql(query2, con=conn)\n",
    "df_customers"
   ]
  },
  {
   "cell_type": "code",
   "execution_count": 22,
   "id": "e86d315a",
   "metadata": {
    "ExecuteTime": {
     "end_time": "2023-03-27T23:59:03.415186Z",
     "start_time": "2023-03-27T23:59:03.405752Z"
    }
   },
   "outputs": [],
   "source": [
    "# fechando a conexão com o banco de dados\n",
    "\n",
    "conn.close()"
   ]
  }
 ],
 "metadata": {
  "kernelspec": {
   "display_name": "Python 3 (ipykernel)",
   "language": "python",
   "name": "python3"
  },
  "language_info": {
   "codemirror_mode": {
    "name": "ipython",
    "version": 3
   },
   "file_extension": ".py",
   "mimetype": "text/x-python",
   "name": "python",
   "nbconvert_exporter": "python",
   "pygments_lexer": "ipython3",
   "version": "3.10.6"
  },
  "varInspector": {
   "cols": {
    "lenName": 16,
    "lenType": 16,
    "lenVar": 40
   },
   "kernels_config": {
    "python": {
     "delete_cmd_postfix": "",
     "delete_cmd_prefix": "del ",
     "library": "var_list.py",
     "varRefreshCmd": "print(var_dic_list())"
    },
    "r": {
     "delete_cmd_postfix": ") ",
     "delete_cmd_prefix": "rm(",
     "library": "var_list.r",
     "varRefreshCmd": "cat(var_dic_list()) "
    }
   },
   "types_to_exclude": [
    "module",
    "function",
    "builtin_function_or_method",
    "instance",
    "_Feature"
   ],
   "window_display": false
  }
 },
 "nbformat": 4,
 "nbformat_minor": 5
}
