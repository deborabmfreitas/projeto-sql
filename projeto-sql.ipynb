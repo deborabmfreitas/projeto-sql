{
 "cells": [
  {
   "cell_type": "markdown",
   "id": "7f2c9a10",
   "metadata": {},
   "source": [
    "# Importando bibliotecas"
   ]
  },
  {
   "cell_type": "code",
   "execution_count": 1,
   "id": "75253e8d",
   "metadata": {
    "ExecuteTime": {
     "end_time": "2023-04-01T17:40:45.328174Z",
     "start_time": "2023-04-01T17:40:42.152293Z"
    }
   },
   "outputs": [],
   "source": [
    "import pandas as pd\n",
    "import numpy as np\n",
    "import sqlite3\n",
    "from IPython.display import Image\n",
    "import seaborn as sns\n",
    "import matplotlib.pyplot as plt"
   ]
  },
  {
   "cell_type": "markdown",
   "id": "9edba1b8",
   "metadata": {},
   "source": [
    "# Abrindo arquivos csv"
   ]
  },
  {
   "cell_type": "markdown",
   "id": "8aef0cfe",
   "metadata": {},
   "source": [
    "> ETL (extract): após o processo de extração dos dados do Kaggle."
   ]
  },
  {
   "cell_type": "code",
   "execution_count": 2,
   "id": "c5d1808b",
   "metadata": {
    "ExecuteTime": {
     "end_time": "2023-04-01T17:40:50.533836Z",
     "start_time": "2023-04-01T17:40:45.331922Z"
    }
   },
   "outputs": [],
   "source": [
    "olist_customers = pd.read_csv('data/olist_customers_dataset.csv', index_col=0)\n",
    "olist_geolocation = pd.read_csv('data/olist_geolocation_dataset.csv', index_col=0)\n",
    "olist_order_items = pd.read_csv('data/olist_order_items_dataset.csv', index_col=0)\n",
    "olist_order_payments = pd.read_csv('data/olist_order_payments_dataset.csv', index_col=0)\n",
    "olist_order_reviews = pd.read_csv('data/olist_order_reviews_dataset.csv', index_col=0)\n",
    "olist_orders = pd.read_csv('data/olist_orders_dataset.csv', index_col=0)\n",
    "olist_products = pd.read_csv('data/olist_products_dataset.csv', index_col=0)\n",
    "olist_sellers = pd.read_csv('data/olist_sellers_dataset.csv', index_col=0)\n",
    "product_category_name = pd.read_csv('data/product_category_name_translation.csv', index_col=0)"
   ]
  },
  {
   "cell_type": "markdown",
   "id": "ea998c3c",
   "metadata": {},
   "source": [
    "# Inspecionando os dados"
   ]
  },
  {
   "cell_type": "code",
   "execution_count": 3,
   "id": "0fe6ccc8",
   "metadata": {
    "ExecuteTime": {
     "end_time": "2023-04-01T17:40:50.553573Z",
     "start_time": "2023-04-01T17:40:50.539205Z"
    }
   },
   "outputs": [],
   "source": [
    "dfs = {\n",
    "    'olist_customers': olist_customers,\n",
    "    'olist_geolocation': olist_geolocation,\n",
    "    'olist_order_items': olist_order_items,\n",
    "    'olist_order_payments': olist_order_payments,\n",
    "    'olist_order_reviews': olist_order_reviews,\n",
    "    'olist_orders': olist_orders,\n",
    "    'olist_products': olist_products,\n",
    "    'olist_sellers': olist_sellers,\n",
    "    'product_category_name': product_category_name\n",
    "}"
   ]
  },
  {
   "cell_type": "markdown",
   "id": "67be805a",
   "metadata": {},
   "source": [
    "> Checando as dimensões dos dados."
   ]
  },
  {
   "cell_type": "code",
   "execution_count": 4,
   "id": "eb9f77f5",
   "metadata": {
    "ExecuteTime": {
     "end_time": "2023-04-01T17:40:50.573521Z",
     "start_time": "2023-04-01T17:40:50.561615Z"
    }
   },
   "outputs": [
    {
     "name": "stdout",
     "output_type": "stream",
     "text": [
      "olist_customers: (99441, 4)\n",
      "olist_geolocation: (1000163, 4)\n",
      "olist_order_items: (112650, 6)\n",
      "olist_order_payments: (103886, 4)\n",
      "olist_order_reviews: (99224, 6)\n",
      "olist_orders: (99441, 7)\n",
      "olist_products: (32951, 8)\n",
      "olist_sellers: (3095, 3)\n",
      "product_category_name: (71, 1)\n"
     ]
    }
   ],
   "source": [
    "for name, df in dfs.items():\n",
    "    print(f'{name}: {df.shape}')"
   ]
  },
  {
   "cell_type": "markdown",
   "id": "126d350b",
   "metadata": {},
   "source": [
    "> Checando dados nulos."
   ]
  },
  {
   "cell_type": "code",
   "execution_count": 5,
   "id": "f89f8e66",
   "metadata": {
    "ExecuteTime": {
     "end_time": "2023-04-01T17:40:50.589774Z",
     "start_time": "2023-04-01T17:40:50.578135Z"
    }
   },
   "outputs": [],
   "source": [
    "def count_nulls(column):\n",
    "    return column.isna().sum()"
   ]
  },
  {
   "cell_type": "code",
   "execution_count": 6,
   "id": "0ac9cd59",
   "metadata": {
    "ExecuteTime": {
     "end_time": "2023-04-01T17:40:51.590484Z",
     "start_time": "2023-04-01T17:40:50.595270Z"
    }
   },
   "outputs": [
    {
     "name": "stdout",
     "output_type": "stream",
     "text": [
      "tabela: olist_customers\n",
      "--------------------------------------------------\n",
      "customer_unique_id          0\n",
      "customer_zip_code_prefix    0\n",
      "customer_city               0\n",
      "customer_state              0\n",
      "dtype: int64\n",
      "--------------------------------------------------\n",
      "tabela: olist_geolocation\n",
      "--------------------------------------------------\n",
      "geolocation_lat      0\n",
      "geolocation_lng      0\n",
      "geolocation_city     0\n",
      "geolocation_state    0\n",
      "dtype: int64\n",
      "--------------------------------------------------\n",
      "tabela: olist_order_items\n",
      "--------------------------------------------------\n",
      "order_item_id          0\n",
      "product_id             0\n",
      "seller_id              0\n",
      "shipping_limit_date    0\n",
      "price                  0\n",
      "freight_value          0\n",
      "dtype: int64\n",
      "--------------------------------------------------\n",
      "tabela: olist_order_payments\n",
      "--------------------------------------------------\n",
      "payment_sequential      0\n",
      "payment_type            0\n",
      "payment_installments    0\n",
      "payment_value           0\n",
      "dtype: int64\n",
      "--------------------------------------------------\n",
      "tabela: olist_order_reviews\n",
      "--------------------------------------------------\n",
      "order_id                       0\n",
      "review_score                   0\n",
      "review_comment_title       87656\n",
      "review_comment_message     58247\n",
      "review_creation_date           0\n",
      "review_answer_timestamp        0\n",
      "dtype: int64\n",
      "--------------------------------------------------\n",
      "tabela: olist_orders\n",
      "--------------------------------------------------\n",
      "customer_id                         0\n",
      "order_status                        0\n",
      "order_purchase_timestamp            0\n",
      "order_approved_at                 160\n",
      "order_delivered_carrier_date     1783\n",
      "order_delivered_customer_date    2965\n",
      "order_estimated_delivery_date       0\n",
      "dtype: int64\n",
      "--------------------------------------------------\n",
      "tabela: olist_products\n",
      "--------------------------------------------------\n",
      "product_category_name         610\n",
      "product_name_lenght           610\n",
      "product_description_lenght    610\n",
      "product_photos_qty            610\n",
      "product_weight_g                2\n",
      "product_length_cm               2\n",
      "product_height_cm               2\n",
      "product_width_cm                2\n",
      "dtype: int64\n",
      "--------------------------------------------------\n",
      "tabela: olist_sellers\n",
      "--------------------------------------------------\n",
      "seller_zip_code_prefix    0\n",
      "seller_city               0\n",
      "seller_state              0\n",
      "dtype: int64\n",
      "--------------------------------------------------\n",
      "tabela: product_category_name\n",
      "--------------------------------------------------\n",
      "product_category_name_english    0\n",
      "dtype: int64\n",
      "--------------------------------------------------\n"
     ]
    }
   ],
   "source": [
    "for df_name, df in dfs.items():\n",
    "    null_counts = df.isnull().sum()\n",
    "    print(f'tabela: {df_name}')\n",
    "    print('-' * 50)\n",
    "    print(null_counts)\n",
    "    print('-' * 50)"
   ]
  },
  {
   "cell_type": "code",
   "execution_count": 7,
   "id": "49e125ca",
   "metadata": {
    "ExecuteTime": {
     "end_time": "2023-04-01T17:40:52.583536Z",
     "start_time": "2023-04-01T17:40:51.594959Z"
    }
   },
   "outputs": [
    {
     "name": "stdout",
     "output_type": "stream",
     "text": [
      "Informações sobre a tabela olist_customers:\n",
      "--------------------------------------------------\n",
      "<class 'pandas.core.frame.DataFrame'>\n",
      "Index: 99441 entries, 06b8999e2fba1a1fbc88172c00ba8bc7 to 274fa6071e5e17fe303b9748641082c8\n",
      "Data columns (total 4 columns):\n",
      " #   Column                    Non-Null Count  Dtype \n",
      "---  ------                    --------------  ----- \n",
      " 0   customer_unique_id        99441 non-null  object\n",
      " 1   customer_zip_code_prefix  99441 non-null  int64 \n",
      " 2   customer_city             99441 non-null  object\n",
      " 3   customer_state            99441 non-null  object\n",
      "dtypes: int64(1), object(3)\n",
      "memory usage: 3.8+ MB\n",
      "None\n",
      "--------------------------------------------------\n",
      "Informações sobre a tabela olist_geolocation:\n",
      "--------------------------------------------------\n",
      "<class 'pandas.core.frame.DataFrame'>\n",
      "Int64Index: 1000163 entries, 1037 to 99950\n",
      "Data columns (total 4 columns):\n",
      " #   Column             Non-Null Count    Dtype  \n",
      "---  ------             --------------    -----  \n",
      " 0   geolocation_lat    1000163 non-null  float64\n",
      " 1   geolocation_lng    1000163 non-null  float64\n",
      " 2   geolocation_city   1000163 non-null  object \n",
      " 3   geolocation_state  1000163 non-null  object \n",
      "dtypes: float64(2), object(2)\n",
      "memory usage: 38.2+ MB\n",
      "None\n",
      "--------------------------------------------------\n",
      "Informações sobre a tabela olist_order_items:\n",
      "--------------------------------------------------\n",
      "<class 'pandas.core.frame.DataFrame'>\n",
      "Index: 112650 entries, 00010242fe8c5a6d1ba2dd792cb16214 to fffe41c64501cc87c801fd61db3f6244\n",
      "Data columns (total 6 columns):\n",
      " #   Column               Non-Null Count   Dtype  \n",
      "---  ------               --------------   -----  \n",
      " 0   order_item_id        112650 non-null  int64  \n",
      " 1   product_id           112650 non-null  object \n",
      " 2   seller_id            112650 non-null  object \n",
      " 3   shipping_limit_date  112650 non-null  object \n",
      " 4   price                112650 non-null  float64\n",
      " 5   freight_value        112650 non-null  float64\n",
      "dtypes: float64(2), int64(1), object(3)\n",
      "memory usage: 6.0+ MB\n",
      "None\n",
      "--------------------------------------------------\n",
      "Informações sobre a tabela olist_order_payments:\n",
      "--------------------------------------------------\n",
      "<class 'pandas.core.frame.DataFrame'>\n",
      "Index: 103886 entries, b81ef226f3fe1789b1e8b2acac839d17 to 28bbae6599b09d39ca406b747b6632b1\n",
      "Data columns (total 4 columns):\n",
      " #   Column                Non-Null Count   Dtype  \n",
      "---  ------                --------------   -----  \n",
      " 0   payment_sequential    103886 non-null  int64  \n",
      " 1   payment_type          103886 non-null  object \n",
      " 2   payment_installments  103886 non-null  int64  \n",
      " 3   payment_value         103886 non-null  float64\n",
      "dtypes: float64(1), int64(2), object(1)\n",
      "memory usage: 4.0+ MB\n",
      "None\n",
      "--------------------------------------------------\n",
      "Informações sobre a tabela olist_order_reviews:\n",
      "--------------------------------------------------\n",
      "<class 'pandas.core.frame.DataFrame'>\n",
      "Index: 99224 entries, 7bc2406110b926393aa56f80a40eba40 to efe49f1d6f951dd88b51e6ccd4cc548f\n",
      "Data columns (total 6 columns):\n",
      " #   Column                   Non-Null Count  Dtype \n",
      "---  ------                   --------------  ----- \n",
      " 0   order_id                 99224 non-null  object\n",
      " 1   review_score             99224 non-null  int64 \n",
      " 2   review_comment_title     11568 non-null  object\n",
      " 3   review_comment_message   40977 non-null  object\n",
      " 4   review_creation_date     99224 non-null  object\n",
      " 5   review_answer_timestamp  99224 non-null  object\n",
      "dtypes: int64(1), object(5)\n",
      "memory usage: 5.3+ MB\n",
      "None\n",
      "--------------------------------------------------\n",
      "Informações sobre a tabela olist_orders:\n",
      "--------------------------------------------------\n",
      "<class 'pandas.core.frame.DataFrame'>\n",
      "Index: 99441 entries, e481f51cbdc54678b7cc49136f2d6af7 to 66dea50a8b16d9b4dee7af250b4be1a5\n",
      "Data columns (total 7 columns):\n",
      " #   Column                         Non-Null Count  Dtype \n",
      "---  ------                         --------------  ----- \n",
      " 0   customer_id                    99441 non-null  object\n",
      " 1   order_status                   99441 non-null  object\n",
      " 2   order_purchase_timestamp       99441 non-null  object\n",
      " 3   order_approved_at              99281 non-null  object\n",
      " 4   order_delivered_carrier_date   97658 non-null  object\n",
      " 5   order_delivered_customer_date  96476 non-null  object\n",
      " 6   order_estimated_delivery_date  99441 non-null  object\n",
      "dtypes: object(7)\n",
      "memory usage: 6.1+ MB\n",
      "None\n",
      "--------------------------------------------------\n",
      "Informações sobre a tabela olist_products:\n",
      "--------------------------------------------------\n",
      "<class 'pandas.core.frame.DataFrame'>\n",
      "Index: 32951 entries, 1e9e8ef04dbcff4541ed26657ea517e5 to 106392145fca363410d287a815be6de4\n",
      "Data columns (total 8 columns):\n",
      " #   Column                      Non-Null Count  Dtype  \n",
      "---  ------                      --------------  -----  \n",
      " 0   product_category_name       32341 non-null  object \n",
      " 1   product_name_lenght         32341 non-null  float64\n",
      " 2   product_description_lenght  32341 non-null  float64\n",
      " 3   product_photos_qty          32341 non-null  float64\n",
      " 4   product_weight_g            32949 non-null  float64\n",
      " 5   product_length_cm           32949 non-null  float64\n",
      " 6   product_height_cm           32949 non-null  float64\n",
      " 7   product_width_cm            32949 non-null  float64\n",
      "dtypes: float64(7), object(1)\n",
      "memory usage: 2.3+ MB\n",
      "None\n",
      "--------------------------------------------------\n",
      "Informações sobre a tabela olist_sellers:\n",
      "--------------------------------------------------\n",
      "<class 'pandas.core.frame.DataFrame'>\n",
      "Index: 3095 entries, 3442f8959a84dea7ee197c632cb2df15 to 9e25199f6ef7e7c347120ff175652c3b\n",
      "Data columns (total 3 columns):\n",
      " #   Column                  Non-Null Count  Dtype \n",
      "---  ------                  --------------  ----- \n",
      " 0   seller_zip_code_prefix  3095 non-null   int64 \n",
      " 1   seller_city             3095 non-null   object\n",
      " 2   seller_state            3095 non-null   object\n",
      "dtypes: int64(1), object(2)\n",
      "memory usage: 96.7+ KB\n",
      "None\n",
      "--------------------------------------------------\n",
      "Informações sobre a tabela product_category_name:\n",
      "--------------------------------------------------\n",
      "<class 'pandas.core.frame.DataFrame'>\n",
      "Index: 71 entries, beleza_saude to seguros_e_servicos\n",
      "Data columns (total 1 columns):\n",
      " #   Column                         Non-Null Count  Dtype \n",
      "---  ------                         --------------  ----- \n",
      " 0   product_category_name_english  71 non-null     object\n",
      "dtypes: object(1)\n",
      "memory usage: 1.1+ KB\n",
      "None\n",
      "--------------------------------------------------\n"
     ]
    }
   ],
   "source": [
    "for tabela, df in dfs.items():\n",
    "    print(f'Informações sobre a tabela {tabela}:')\n",
    "    print('-' * 50)\n",
    "    print(df.info())\n",
    "    print('-' * 50)"
   ]
  },
  {
   "cell_type": "markdown",
   "id": "5d3ef97c",
   "metadata": {},
   "source": [
    "# Transformação dos dados"
   ]
  },
  {
   "cell_type": "markdown",
   "id": "e0d061de",
   "metadata": {},
   "source": [
    "> ETL (transform): etapa de transformação dos dados."
   ]
  },
  {
   "cell_type": "markdown",
   "id": "7389d9c4",
   "metadata": {},
   "source": [
    "###### olist_order_reviews"
   ]
  },
  {
   "cell_type": "markdown",
   "id": "4b5872a1",
   "metadata": {
    "ExecuteTime": {
     "end_time": "2023-03-29T21:34:40.325255Z",
     "start_time": "2023-03-29T21:34:40.292917Z"
    }
   },
   "source": [
    "Transformando `review_creation_date` e `review_answer_timestamp` de object para datetime."
   ]
  },
  {
   "cell_type": "code",
   "execution_count": 8,
   "id": "29634e8a",
   "metadata": {
    "ExecuteTime": {
     "end_time": "2023-04-01T17:40:52.746064Z",
     "start_time": "2023-04-01T17:40:52.586741Z"
    }
   },
   "outputs": [
    {
     "name": "stdout",
     "output_type": "stream",
     "text": [
      "<class 'pandas.core.frame.DataFrame'>\n",
      "Index: 99224 entries, 7bc2406110b926393aa56f80a40eba40 to efe49f1d6f951dd88b51e6ccd4cc548f\n",
      "Data columns (total 6 columns):\n",
      " #   Column                   Non-Null Count  Dtype \n",
      "---  ------                   --------------  ----- \n",
      " 0   order_id                 99224 non-null  object\n",
      " 1   review_score             99224 non-null  int64 \n",
      " 2   review_comment_title     11568 non-null  object\n",
      " 3   review_comment_message   40977 non-null  object\n",
      " 4   review_creation_date     99224 non-null  object\n",
      " 5   review_answer_timestamp  99224 non-null  object\n",
      "dtypes: int64(1), object(5)\n",
      "memory usage: 5.3+ MB\n"
     ]
    }
   ],
   "source": [
    "olist_order_reviews.info()"
   ]
  },
  {
   "cell_type": "code",
   "execution_count": 9,
   "id": "00435ad6",
   "metadata": {
    "ExecuteTime": {
     "end_time": "2023-04-01T17:40:52.973863Z",
     "start_time": "2023-04-01T17:40:52.765059Z"
    }
   },
   "outputs": [
    {
     "name": "stdout",
     "output_type": "stream",
     "text": [
      "<class 'pandas.core.frame.DataFrame'>\n",
      "Index: 99224 entries, 7bc2406110b926393aa56f80a40eba40 to efe49f1d6f951dd88b51e6ccd4cc548f\n",
      "Data columns (total 6 columns):\n",
      " #   Column                   Non-Null Count  Dtype         \n",
      "---  ------                   --------------  -----         \n",
      " 0   order_id                 99224 non-null  object        \n",
      " 1   review_score             99224 non-null  int64         \n",
      " 2   review_comment_title     11568 non-null  object        \n",
      " 3   review_comment_message   40977 non-null  object        \n",
      " 4   review_creation_date     99224 non-null  datetime64[ns]\n",
      " 5   review_answer_timestamp  99224 non-null  datetime64[ns]\n",
      "dtypes: datetime64[ns](2), int64(1), object(3)\n",
      "memory usage: 5.3+ MB\n",
      "None\n"
     ]
    }
   ],
   "source": [
    "olist_order_reviews['review_creation_date'] = pd.to_datetime(olist_order_reviews['review_creation_date'])\n",
    "\n",
    "olist_order_reviews['review_answer_timestamp'] = pd.to_datetime(olist_order_reviews['review_answer_timestamp'])\n",
    "\n",
    "print(olist_order_reviews.info())"
   ]
  },
  {
   "cell_type": "markdown",
   "id": "e84b5507",
   "metadata": {},
   "source": [
    "Removendo colunas de comentários dos clientes `review_comment_title` e `review_comment_message`, pois não serão utilizadas e possuem muitos dados nulos."
   ]
  },
  {
   "cell_type": "code",
   "execution_count": 10,
   "id": "6d7815fe",
   "metadata": {
    "ExecuteTime": {
     "end_time": "2023-04-01T17:40:52.999023Z",
     "start_time": "2023-04-01T17:40:52.978262Z"
    }
   },
   "outputs": [],
   "source": [
    "olist_order_reviews.drop(['review_comment_title', 'review_comment_message'], axis=1, inplace=True)"
   ]
  },
  {
   "cell_type": "markdown",
   "id": "c749f3a3",
   "metadata": {},
   "source": [
    "###### olist_geolocation"
   ]
  },
  {
   "cell_type": "markdown",
   "id": "17dab6eb",
   "metadata": {},
   "source": [
    "Foi necessário remover a acentuação dos nomes das cidades, pois algumas delas apresentavam dados duplicados em decorrência da presença do nome com e sem acento."
   ]
  },
  {
   "cell_type": "code",
   "execution_count": 11,
   "id": "44d183ad",
   "metadata": {
    "ExecuteTime": {
     "end_time": "2023-04-01T17:40:53.108086Z",
     "start_time": "2023-04-01T17:40:53.003134Z"
    },
    "scrolled": false
   },
   "outputs": [
    {
     "data": {
      "text/plain": [
       "sao paulo               135800\n",
       "rio de janeiro           62151\n",
       "belo horizonte           27805\n",
       "são paulo                24918\n",
       "curitiba                 16593\n",
       "                         ...  \n",
       "jacuípe                      1\n",
       "mar vermelho                 1\n",
       "quebrangulo                  1\n",
       "poço das trincheiras         1\n",
       "poxim                        1\n",
       "Name: geolocation_city, Length: 8011, dtype: int64"
      ]
     },
     "execution_count": 11,
     "metadata": {},
     "output_type": "execute_result"
    }
   ],
   "source": [
    "olist_geolocation['geolocation_city'].value_counts()"
   ]
  },
  {
   "cell_type": "code",
   "execution_count": 12,
   "id": "d4bebfbf",
   "metadata": {
    "ExecuteTime": {
     "end_time": "2023-04-01T17:40:55.602925Z",
     "start_time": "2023-04-01T17:40:53.112498Z"
    }
   },
   "outputs": [],
   "source": [
    "olist_geolocation['geolocation_city'] = olist_geolocation['geolocation_city'].str.normalize(\n",
    "    'NFKD').str.encode('ascii', errors='ignore').str.decode('utf-8').str.lower()"
   ]
  },
  {
   "cell_type": "code",
   "execution_count": 13,
   "id": "29e07040",
   "metadata": {
    "ExecuteTime": {
     "end_time": "2023-04-01T17:40:55.822920Z",
     "start_time": "2023-04-01T17:40:55.607780Z"
    }
   },
   "outputs": [
    {
     "data": {
      "text/plain": [
       "sao paulo                160719\n",
       "rio de janeiro            62151\n",
       "belo horizonte            27805\n",
       "curitiba                  16593\n",
       "porto alegre              13521\n",
       "                          ...  \n",
       "poxim                         1\n",
       "luziapolis                    1\n",
       "sao jose dos salgados         1\n",
       "martins guimaraes             1\n",
       "lagoa salgada                 1\n",
       "Name: geolocation_city, Length: 5968, dtype: int64"
      ]
     },
     "execution_count": 13,
     "metadata": {},
     "output_type": "execute_result"
    }
   ],
   "source": [
    "olist_geolocation['geolocation_city'].value_counts()"
   ]
  },
  {
   "cell_type": "markdown",
   "id": "6a275f68",
   "metadata": {},
   "source": [
    "###### olist_orders"
   ]
  },
  {
   "cell_type": "code",
   "execution_count": 14,
   "id": "447b4b1e",
   "metadata": {
    "ExecuteTime": {
     "end_time": "2023-04-01T17:40:55.856126Z",
     "start_time": "2023-04-01T17:40:55.826777Z"
    }
   },
   "outputs": [
    {
     "data": {
      "text/plain": [
       "array(['delivered', 'invoiced', 'shipped', 'processing', 'unavailable',\n",
       "       'canceled', 'created', 'approved'], dtype=object)"
      ]
     },
     "execution_count": 14,
     "metadata": {},
     "output_type": "execute_result"
    }
   ],
   "source": [
    "olist_orders['order_status'].unique()"
   ]
  },
  {
   "cell_type": "markdown",
   "id": "9e2536dd",
   "metadata": {},
   "source": [
    "> Dropando colunas com dados nulos `order_approved_at`, `order_delivered_carrier_date` e `order_delivered_customer_date`, pois não serão utilizadas na análise."
   ]
  },
  {
   "cell_type": "code",
   "execution_count": 15,
   "id": "13ffd070",
   "metadata": {
    "ExecuteTime": {
     "end_time": "2023-04-01T17:40:55.897443Z",
     "start_time": "2023-04-01T17:40:55.860011Z"
    }
   },
   "outputs": [],
   "source": [
    "olist_orders.drop(['order_purchase_timestamp','order_approved_at',\n",
    "                   'order_delivered_carrier_date','order_delivered_customer_date',\n",
    "                   'order_estimated_delivery_date'],axis=1, inplace=True)"
   ]
  },
  {
   "cell_type": "code",
   "execution_count": 16,
   "id": "41ba15e4",
   "metadata": {
    "ExecuteTime": {
     "end_time": "2023-04-01T17:40:55.915005Z",
     "start_time": "2023-04-01T17:40:55.901258Z"
    }
   },
   "outputs": [
    {
     "data": {
      "text/plain": [
       "Index(['customer_id', 'order_status'], dtype='object')"
      ]
     },
     "execution_count": 16,
     "metadata": {},
     "output_type": "execute_result"
    }
   ],
   "source": [
    "olist_orders.columns"
   ]
  },
  {
   "cell_type": "markdown",
   "id": "a25f2ff6",
   "metadata": {},
   "source": [
    "###### olist_products"
   ]
  },
  {
   "cell_type": "markdown",
   "id": "bb18cf74",
   "metadata": {},
   "source": [
    "Verificando dados nulos na coluna `product_category_name`."
   ]
  },
  {
   "cell_type": "code",
   "execution_count": 17,
   "id": "3c388ce8",
   "metadata": {
    "ExecuteTime": {
     "end_time": "2023-04-01T17:40:55.938432Z",
     "start_time": "2023-04-01T17:40:55.921402Z"
    }
   },
   "outputs": [
    {
     "data": {
      "text/plain": [
       "array(['perfumaria', 'artes', 'esporte_lazer', 'bebes',\n",
       "       'utilidades_domesticas', 'instrumentos_musicais', 'cool_stuff',\n",
       "       'moveis_decoracao', 'eletrodomesticos', 'brinquedos',\n",
       "       'cama_mesa_banho', 'construcao_ferramentas_seguranca',\n",
       "       'informatica_acessorios', 'beleza_saude', 'malas_acessorios',\n",
       "       'ferramentas_jardim', 'moveis_escritorio', 'automotivo',\n",
       "       'eletronicos', 'fashion_calcados', 'telefonia', 'papelaria',\n",
       "       'fashion_bolsas_e_acessorios', 'pcs', 'casa_construcao',\n",
       "       'relogios_presentes', 'construcao_ferramentas_construcao',\n",
       "       'pet_shop', 'eletroportateis', 'agro_industria_e_comercio', nan,\n",
       "       'moveis_sala', 'sinalizacao_e_seguranca', 'climatizacao',\n",
       "       'consoles_games', 'livros_interesse_geral',\n",
       "       'construcao_ferramentas_ferramentas',\n",
       "       'fashion_underwear_e_moda_praia', 'fashion_roupa_masculina',\n",
       "       'moveis_cozinha_area_de_servico_jantar_e_jardim',\n",
       "       'industria_comercio_e_negocios', 'telefonia_fixa',\n",
       "       'construcao_ferramentas_iluminacao', 'livros_tecnicos',\n",
       "       'eletrodomesticos_2', 'artigos_de_festas', 'bebidas',\n",
       "       'market_place', 'la_cuisine', 'construcao_ferramentas_jardim',\n",
       "       'fashion_roupa_feminina', 'casa_conforto', 'audio',\n",
       "       'alimentos_bebidas', 'musica', 'alimentos',\n",
       "       'tablets_impressao_imagem', 'livros_importados',\n",
       "       'portateis_casa_forno_e_cafe', 'fashion_esporte',\n",
       "       'artigos_de_natal', 'fashion_roupa_infanto_juvenil',\n",
       "       'dvds_blu_ray', 'artes_e_artesanato', 'pc_gamer', 'moveis_quarto',\n",
       "       'cine_foto', 'fraldas_higiene', 'flores', 'casa_conforto_2',\n",
       "       'portateis_cozinha_e_preparadores_de_alimentos',\n",
       "       'seguros_e_servicos', 'moveis_colchao_e_estofado',\n",
       "       'cds_dvds_musicais'], dtype=object)"
      ]
     },
     "execution_count": 17,
     "metadata": {},
     "output_type": "execute_result"
    }
   ],
   "source": [
    "olist_products['product_category_name'].unique()"
   ]
  },
  {
   "cell_type": "markdown",
   "id": "ce0327a4",
   "metadata": {},
   "source": [
    "> Checando se Todas as linhas do `product_id` são únicas. O índice foi transformado de product_id para o índice numérico padrão."
   ]
  },
  {
   "cell_type": "code",
   "execution_count": 18,
   "id": "d306a989",
   "metadata": {
    "ExecuteTime": {
     "end_time": "2023-04-01T17:40:55.958216Z",
     "start_time": "2023-04-01T17:40:55.942688Z"
    }
   },
   "outputs": [
    {
     "data": {
      "text/plain": [
       "(32951, 8)"
      ]
     },
     "execution_count": 18,
     "metadata": {},
     "output_type": "execute_result"
    }
   ],
   "source": [
    "olist_products.shape"
   ]
  },
  {
   "cell_type": "code",
   "execution_count": 19,
   "id": "af7f8a3c",
   "metadata": {
    "ExecuteTime": {
     "end_time": "2023-04-01T17:40:56.076863Z",
     "start_time": "2023-04-01T17:40:55.962116Z"
    }
   },
   "outputs": [
    {
     "data": {
      "text/plain": [
       "32951"
      ]
     },
     "execution_count": 19,
     "metadata": {},
     "output_type": "execute_result"
    }
   ],
   "source": [
    "products = olist_products.reset_index()\n",
    "\n",
    "products = products['product_id']\n",
    "\n",
    "products.nunique()"
   ]
  },
  {
   "cell_type": "markdown",
   "id": "cff98740",
   "metadata": {},
   "source": [
    "> Como todas as linhas do conjunto de dados são exclusivas e nenhum nome de produto com dados nulos foi repetido, não há valores nulos que possam ser transformados. Sendo assim, a melhor opção foi removê-los."
   ]
  },
  {
   "cell_type": "code",
   "execution_count": 20,
   "id": "13a2cea5",
   "metadata": {
    "ExecuteTime": {
     "end_time": "2023-04-01T17:40:56.096029Z",
     "start_time": "2023-04-01T17:40:56.080505Z"
    }
   },
   "outputs": [],
   "source": [
    "olist_products['product_category_name'].dropna(inplace=True)"
   ]
  },
  {
   "cell_type": "markdown",
   "id": "088b3e7c",
   "metadata": {},
   "source": [
    "> As colunas abaixo tratam das dimensões dos produtos e não são de interesse para essa visualização de dados, por isso foram removidas."
   ]
  },
  {
   "cell_type": "code",
   "execution_count": 21,
   "id": "ab4ebaf6",
   "metadata": {
    "ExecuteTime": {
     "end_time": "2023-04-01T17:40:56.116281Z",
     "start_time": "2023-04-01T17:40:56.100938Z"
    }
   },
   "outputs": [],
   "source": [
    "olist_products.drop(['product_name_lenght','product_description_lenght','product_photos_qty',\n",
    "                     'product_weight_g','product_length_cm', 'product_height_cm',\n",
    "                     'product_width_cm'], axis=1, inplace=True)"
   ]
  },
  {
   "cell_type": "code",
   "execution_count": 22,
   "id": "30f27f65",
   "metadata": {
    "ExecuteTime": {
     "end_time": "2023-04-01T17:40:56.138972Z",
     "start_time": "2023-04-01T17:40:56.121016Z"
    },
    "scrolled": true
   },
   "outputs": [
    {
     "data": {
      "text/plain": [
       "Index(['product_category_name'], dtype='object')"
      ]
     },
     "execution_count": 22,
     "metadata": {},
     "output_type": "execute_result"
    }
   ],
   "source": [
    "olist_products.columns"
   ]
  },
  {
   "cell_type": "markdown",
   "id": "6d2b0cb9",
   "metadata": {},
   "source": [
    "# Criando o banco de dados"
   ]
  },
  {
   "cell_type": "markdown",
   "id": "d5e0cb2b",
   "metadata": {},
   "source": [
    "> ETL - load: Etapa de carregamento com a criação do banco de dados."
   ]
  },
  {
   "cell_type": "markdown",
   "id": "9d8021c4",
   "metadata": {},
   "source": [
    "Conexão do banco de dados."
   ]
  },
  {
   "cell_type": "code",
   "execution_count": 23,
   "id": "79ed85c3",
   "metadata": {
    "ExecuteTime": {
     "end_time": "2023-04-01T17:40:56.158650Z",
     "start_time": "2023-04-01T17:40:56.144475Z"
    }
   },
   "outputs": [],
   "source": [
    "conn = sqlite3.connect('olist.db')"
   ]
  },
  {
   "cell_type": "markdown",
   "id": "96818438",
   "metadata": {},
   "source": [
    "Criando as tabelas do banco de dados."
   ]
  },
  {
   "cell_type": "code",
   "execution_count": 24,
   "id": "94fd4729",
   "metadata": {
    "ExecuteTime": {
     "end_time": "2023-04-01T17:41:13.531208Z",
     "start_time": "2023-04-01T17:40:56.162347Z"
    }
   },
   "outputs": [
    {
     "data": {
      "text/plain": [
       "3095"
      ]
     },
     "execution_count": 24,
     "metadata": {},
     "output_type": "execute_result"
    }
   ],
   "source": [
    "olist_customers.to_sql(name='olist_customers', con=conn, if_exists='replace')\n",
    "olist_geolocation.to_sql(name='olist_geolocation', con=conn, if_exists='replace')\n",
    "olist_order_items.to_sql(name='olist_order_items',con=conn, if_exists='replace')\n",
    "olist_order_payments.to_sql(name='olist_order_payments', con=conn, if_exists='replace')\n",
    "olist_order_reviews.to_sql(name='olist_order_reviews', con=conn, if_exists='replace')\n",
    "olist_orders.to_sql(name='olist_orders', con=conn, if_exists='replace')\n",
    "olist_products.to_sql(name='olist_products', con=conn, if_exists='replace')\n",
    "olist_sellers.to_sql(name='olist_sellers', con=conn, if_exists='replace')\n",
    "#product_category_name.to_sql(name='product_category_name', con=conn, if_exists='replace')"
   ]
  },
  {
   "cell_type": "markdown",
   "id": "1edb63ba",
   "metadata": {},
   "source": [
    "Checando as tabelas presentes no banco de dados."
   ]
  },
  {
   "cell_type": "code",
   "execution_count": 25,
   "id": "85eb8380",
   "metadata": {
    "ExecuteTime": {
     "end_time": "2023-04-01T17:41:13.717443Z",
     "start_time": "2023-04-01T17:41:13.536306Z"
    }
   },
   "outputs": [
    {
     "name": "stdout",
     "output_type": "stream",
     "text": [
      "olist_customers       olist_order_payments  olist_products      \r\n",
      "olist_geolocation     olist_order_reviews   olist_sellers       \r\n",
      "olist_order_items     olist_orders        \r\n"
     ]
    }
   ],
   "source": [
    "!sqlite3 olist.db '.tables'"
   ]
  },
  {
   "cell_type": "markdown",
   "id": "cde928ec",
   "metadata": {},
   "source": [
    "Verificando informações das tabelas do banco de dados `olist.db`."
   ]
  },
  {
   "cell_type": "code",
   "execution_count": 26,
   "id": "87753645",
   "metadata": {
    "ExecuteTime": {
     "end_time": "2023-04-01T17:41:13.924716Z",
     "start_time": "2023-04-01T17:41:13.729639Z"
    }
   },
   "outputs": [
    {
     "name": "stdout",
     "output_type": "stream",
     "text": [
      "0|customer_id|TEXT|0||0\r\n",
      "1|customer_unique_id|TEXT|0||0\r\n",
      "2|customer_zip_code_prefix|INTEGER|0||0\r\n",
      "3|customer_city|TEXT|0||0\r\n",
      "4|customer_state|TEXT|0||0\r\n"
     ]
    }
   ],
   "source": [
    "!sqlite3 olist.db 'PRAGMA table_info(olist_customers)'"
   ]
  },
  {
   "cell_type": "markdown",
   "id": "9c4c040f",
   "metadata": {},
   "source": [
    "# MER (Modelo Entidade-Relacionamento)"
   ]
  },
  {
   "cell_type": "code",
   "execution_count": 27,
   "id": "22157ac2",
   "metadata": {
    "ExecuteTime": {
     "end_time": "2023-04-01T17:41:14.016029Z",
     "start_time": "2023-04-01T17:41:13.962371Z"
    }
   },
   "outputs": [
    {
     "data": {
      "image/png": "[encoded data removed]",
      "text/plain": [
       "<IPython.core.display.Image object>"
      ]
     },
     "execution_count": 27,
     "metadata": {},
     "output_type": "execute_result"
    }
   ],
   "source": [
    "Image(\"img/MER.png\")"
   ]
  },
  {
   "cell_type": "markdown",
   "id": "28d34053",
   "metadata": {
    "heading_collapsed": true
   },
   "source": [
    "# Lista de queries"
   ]
  },
  {
   "cell_type": "markdown",
   "id": "274cabcb",
   "metadata": {
    "hidden": true
   },
   "source": [
    "> #### 1. Total de estados registrados.\n",
    "\n",
    ">#### 2. Quantidade de cidades por estado.\n",
    "\n",
    ">#### 3. Total de produtos cadastrados.\n",
    "\n",
    ">#### 4. Número de pedidos por estado.\n",
    "\n",
    ">#### 5. Top 10 cidades com mais pedidos em Minas Gerais e São Paulo.\n",
    "\n",
    ">#### 6. Categorias de produto que mais venderam em Minas Gerais e São Paulo.\n",
    "\n",
    ">#### 7. Quantidade de vendedores por estado.\n",
    "\n",
    ">#### 8. Quantidade de pedidos por status de pedido.\n",
    "\n",
    ">#### 9. Quantidade de pedidos entregues e quantidade de pedidos cancelados.\n",
    "\n",
    ">#### 10.Quantidade de pedidos por tipo de pagamento.\n",
    "\n",
    ">#### 11. Preço máximo, mínimo e médio dos valores de pedidos feitos com cartão de crédito.\n",
    "\n",
    ">#### 12. Média do frete por categoria do produto.\n",
    "\n",
    ">#### 13. Total de pedidos cadastrados.\n",
    "\n",
    ">#### 14. Distribuição de reviews dos pedidos.\n",
    "\n",
    ">#### 15. Ano em que mais enviou produtos."
   ]
  },
  {
   "cell_type": "markdown",
   "id": "3d729df0",
   "metadata": {},
   "source": [
    "# Queries com SQL"
   ]
  },
  {
   "cell_type": "code",
   "execution_count": 28,
   "id": "9ab0a520",
   "metadata": {
    "ExecuteTime": {
     "end_time": "2023-04-01T17:41:14.034931Z",
     "start_time": "2023-04-01T17:41:14.021055Z"
    }
   },
   "outputs": [],
   "source": [
    "sns.set_style('whitegrid',{'grid.color': '.7','grid.linestyle': ':'})"
   ]
  },
  {
   "cell_type": "markdown",
   "id": "48c6844d",
   "metadata": {},
   "source": [
    "## 1. Total de estados registrados"
   ]
  },
  {
   "cell_type": "markdown",
   "id": "048bc36b",
   "metadata": {},
   "source": [
    "> Consulta SQL."
   ]
  },
  {
   "cell_type": "code",
   "execution_count": 29,
   "id": "3bd6aeb6",
   "metadata": {
    "ExecuteTime": {
     "end_time": "2023-04-01T17:41:14.487937Z",
     "start_time": "2023-04-01T17:41:14.040909Z"
    }
   },
   "outputs": [
    {
     "data": {
      "text/html": [
       "<div>\n",
       "<style scoped>\n",
       "    .dataframe tbody tr th:only-of-type {\n",
       "        vertical-align: middle;\n",
       "    }\n",
       "\n",
       "    .dataframe tbody tr th {\n",
       "        vertical-align: top;\n",
       "    }\n",
       "\n",
       "    .dataframe thead th {\n",
       "        text-align: right;\n",
       "    }\n",
       "</style>\n",
       "<table border=\"1\" class=\"dataframe\">\n",
       "  <thead>\n",
       "    <tr style=\"text-align: right;\">\n",
       "      <th></th>\n",
       "      <th>estados_registrados</th>\n",
       "    </tr>\n",
       "  </thead>\n",
       "  <tbody>\n",
       "    <tr>\n",
       "      <th>0</th>\n",
       "      <td>27</td>\n",
       "    </tr>\n",
       "  </tbody>\n",
       "</table>\n",
       "</div>"
      ],
      "text/plain": [
       "   estados_registrados\n",
       "0                   27"
      ]
     },
     "execution_count": 29,
     "metadata": {},
     "output_type": "execute_result"
    }
   ],
   "source": [
    "query = \"\"\"\n",
    "\n",
    "        SELECT COUNT(DISTINCT(geolocation_state)) AS estados_registrados\n",
    "        \n",
    "        FROM olist_geolocation;\n",
    "\n",
    "        \"\"\"\n",
    "\n",
    "geolocation_state = pd.read_sql(query, con=conn)\n",
    "geolocation_state"
   ]
  },
  {
   "cell_type": "markdown",
   "id": "b7992697",
   "metadata": {},
   "source": [
    "## 2. Quantidade de cidades por estado"
   ]
  },
  {
   "cell_type": "markdown",
   "id": "7557b233",
   "metadata": {},
   "source": [
    "> Consulta SQL."
   ]
  },
  {
   "cell_type": "code",
   "execution_count": 30,
   "id": "6dc590b6",
   "metadata": {
    "ExecuteTime": {
     "end_time": "2023-04-01T17:41:16.166201Z",
     "start_time": "2023-04-01T17:41:14.491856Z"
    }
   },
   "outputs": [
    {
     "data": {
      "text/html": [
       "<div>\n",
       "<style scoped>\n",
       "    .dataframe tbody tr th:only-of-type {\n",
       "        vertical-align: middle;\n",
       "    }\n",
       "\n",
       "    .dataframe tbody tr th {\n",
       "        vertical-align: top;\n",
       "    }\n",
       "\n",
       "    .dataframe thead th {\n",
       "        text-align: right;\n",
       "    }\n",
       "</style>\n",
       "<table border=\"1\" class=\"dataframe\">\n",
       "  <thead>\n",
       "    <tr style=\"text-align: right;\">\n",
       "      <th></th>\n",
       "      <th>cidades_registradas</th>\n",
       "      <th>estados_registrados</th>\n",
       "    </tr>\n",
       "  </thead>\n",
       "  <tbody>\n",
       "    <tr>\n",
       "      <th>0</th>\n",
       "      <td>1091</td>\n",
       "      <td>MG</td>\n",
       "    </tr>\n",
       "    <tr>\n",
       "      <th>1</th>\n",
       "      <td>760</td>\n",
       "      <td>SP</td>\n",
       "    </tr>\n",
       "    <tr>\n",
       "      <th>2</th>\n",
       "      <td>524</td>\n",
       "      <td>RS</td>\n",
       "    </tr>\n",
       "    <tr>\n",
       "      <th>3</th>\n",
       "      <td>477</td>\n",
       "      <td>BA</td>\n",
       "    </tr>\n",
       "    <tr>\n",
       "      <th>4</th>\n",
       "      <td>470</td>\n",
       "      <td>PR</td>\n",
       "    </tr>\n",
       "    <tr>\n",
       "      <th>5</th>\n",
       "      <td>313</td>\n",
       "      <td>SC</td>\n",
       "    </tr>\n",
       "    <tr>\n",
       "      <th>6</th>\n",
       "      <td>257</td>\n",
       "      <td>GO</td>\n",
       "    </tr>\n",
       "    <tr>\n",
       "      <th>7</th>\n",
       "      <td>222</td>\n",
       "      <td>MA</td>\n",
       "    </tr>\n",
       "    <tr>\n",
       "      <th>8</th>\n",
       "      <td>212</td>\n",
       "      <td>CE</td>\n",
       "    </tr>\n",
       "    <tr>\n",
       "      <th>9</th>\n",
       "      <td>210</td>\n",
       "      <td>PE</td>\n",
       "    </tr>\n",
       "    <tr>\n",
       "      <th>10</th>\n",
       "      <td>207</td>\n",
       "      <td>PB</td>\n",
       "    </tr>\n",
       "    <tr>\n",
       "      <th>11</th>\n",
       "      <td>206</td>\n",
       "      <td>PI</td>\n",
       "    </tr>\n",
       "    <tr>\n",
       "      <th>12</th>\n",
       "      <td>192</td>\n",
       "      <td>RJ</td>\n",
       "    </tr>\n",
       "    <tr>\n",
       "      <th>13</th>\n",
       "      <td>167</td>\n",
       "      <td>RN</td>\n",
       "    </tr>\n",
       "    <tr>\n",
       "      <th>14</th>\n",
       "      <td>157</td>\n",
       "      <td>MT</td>\n",
       "    </tr>\n",
       "    <tr>\n",
       "      <th>15</th>\n",
       "      <td>153</td>\n",
       "      <td>PA</td>\n",
       "    </tr>\n",
       "    <tr>\n",
       "      <th>16</th>\n",
       "      <td>128</td>\n",
       "      <td>TO</td>\n",
       "    </tr>\n",
       "    <tr>\n",
       "      <th>17</th>\n",
       "      <td>125</td>\n",
       "      <td>ES</td>\n",
       "    </tr>\n",
       "    <tr>\n",
       "      <th>18</th>\n",
       "      <td>108</td>\n",
       "      <td>AL</td>\n",
       "    </tr>\n",
       "    <tr>\n",
       "      <th>19</th>\n",
       "      <td>98</td>\n",
       "      <td>MS</td>\n",
       "    </tr>\n",
       "    <tr>\n",
       "      <th>20</th>\n",
       "      <td>73</td>\n",
       "      <td>SE</td>\n",
       "    </tr>\n",
       "    <tr>\n",
       "      <th>21</th>\n",
       "      <td>67</td>\n",
       "      <td>RO</td>\n",
       "    </tr>\n",
       "    <tr>\n",
       "      <th>22</th>\n",
       "      <td>59</td>\n",
       "      <td>AM</td>\n",
       "    </tr>\n",
       "    <tr>\n",
       "      <th>23</th>\n",
       "      <td>26</td>\n",
       "      <td>AC</td>\n",
       "    </tr>\n",
       "    <tr>\n",
       "      <th>24</th>\n",
       "      <td>21</td>\n",
       "      <td>DF</td>\n",
       "    </tr>\n",
       "    <tr>\n",
       "      <th>25</th>\n",
       "      <td>14</td>\n",
       "      <td>AP</td>\n",
       "    </tr>\n",
       "    <tr>\n",
       "      <th>26</th>\n",
       "      <td>12</td>\n",
       "      <td>RR</td>\n",
       "    </tr>\n",
       "  </tbody>\n",
       "</table>\n",
       "</div>"
      ],
      "text/plain": [
       "    cidades_registradas estados_registrados\n",
       "0                  1091                  MG\n",
       "1                   760                  SP\n",
       "2                   524                  RS\n",
       "3                   477                  BA\n",
       "4                   470                  PR\n",
       "5                   313                  SC\n",
       "6                   257                  GO\n",
       "7                   222                  MA\n",
       "8                   212                  CE\n",
       "9                   210                  PE\n",
       "10                  207                  PB\n",
       "11                  206                  PI\n",
       "12                  192                  RJ\n",
       "13                  167                  RN\n",
       "14                  157                  MT\n",
       "15                  153                  PA\n",
       "16                  128                  TO\n",
       "17                  125                  ES\n",
       "18                  108                  AL\n",
       "19                   98                  MS\n",
       "20                   73                  SE\n",
       "21                   67                  RO\n",
       "22                   59                  AM\n",
       "23                   26                  AC\n",
       "24                   21                  DF\n",
       "25                   14                  AP\n",
       "26                   12                  RR"
      ]
     },
     "execution_count": 30,
     "metadata": {},
     "output_type": "execute_result"
    }
   ],
   "source": [
    "query = \"\"\"\n",
    "\n",
    "        SELECT COUNT(DISTINCT geolocation_city) AS cidades_registradas, geolocation_state AS estados_registrados\n",
    "        \n",
    "        FROM olist_geolocation \n",
    "        \n",
    "        GROUP BY geolocation_state \n",
    "        \n",
    "        ORDER BY COUNT(DISTINCT geolocation_city) DESC;\n",
    "\n",
    "        \"\"\"\n",
    "\n",
    "geolocation_city = pd.read_sql(query, con=conn)\n",
    "geolocation_city"
   ]
  },
  {
   "cell_type": "code",
   "execution_count": 31,
   "id": "7a1f61a1",
   "metadata": {
    "ExecuteTime": {
     "end_time": "2023-04-01T17:41:17.854053Z",
     "start_time": "2023-04-01T17:41:16.170356Z"
    }
   },
   "outputs": [
    {
     "data": {
      "image/png": "[encoded data removed]",
      "text/plain": [
       "<Figure size 1152x720 with 1 Axes>"
      ]
     },
     "metadata": {
      "needs_background": "light"
     },
     "output_type": "display_data"
    }
   ],
   "source": [
    "plt.figure(figsize=(16, 10))\n",
    "plt.rcParams.update({'font.size': 15})\n",
    "\n",
    "sns.barplot(x='estados_registrados', y='cidades_registradas',data=geolocation_city, palette='viridis')\n",
    "plt.show()"
   ]
  },
  {
   "cell_type": "markdown",
   "id": "284d5f6c",
   "metadata": {},
   "source": [
    "## 3. Total de produtos cadastrados"
   ]
  },
  {
   "cell_type": "markdown",
   "id": "ddcb38d8",
   "metadata": {},
   "source": [
    "> Consulta SQL."
   ]
  },
  {
   "cell_type": "code",
   "execution_count": 32,
   "id": "8d4b645b",
   "metadata": {
    "ExecuteTime": {
     "end_time": "2023-04-01T17:41:17.891968Z",
     "start_time": "2023-04-01T17:41:17.858504Z"
    }
   },
   "outputs": [
    {
     "data": {
      "text/html": [
       "<div>\n",
       "<style scoped>\n",
       "    .dataframe tbody tr th:only-of-type {\n",
       "        vertical-align: middle;\n",
       "    }\n",
       "\n",
       "    .dataframe tbody tr th {\n",
       "        vertical-align: top;\n",
       "    }\n",
       "\n",
       "    .dataframe thead th {\n",
       "        text-align: right;\n",
       "    }\n",
       "</style>\n",
       "<table border=\"1\" class=\"dataframe\">\n",
       "  <thead>\n",
       "    <tr style=\"text-align: right;\">\n",
       "      <th></th>\n",
       "      <th>total_produtos</th>\n",
       "    </tr>\n",
       "  </thead>\n",
       "  <tbody>\n",
       "    <tr>\n",
       "      <th>0</th>\n",
       "      <td>32951</td>\n",
       "    </tr>\n",
       "  </tbody>\n",
       "</table>\n",
       "</div>"
      ],
      "text/plain": [
       "   total_produtos\n",
       "0           32951"
      ]
     },
     "execution_count": 32,
     "metadata": {},
     "output_type": "execute_result"
    }
   ],
   "source": [
    "query = \"\"\"\n",
    "\n",
    "        SELECT COUNT(DISTINCT(product_id)) AS total_produtos\n",
    "        \n",
    "        FROM olist_products;\n",
    "\n",
    "        \"\"\"\n",
    "\n",
    "products = pd.read_sql(query, con=conn)\n",
    "products"
   ]
  },
  {
   "cell_type": "markdown",
   "id": "17c5d830",
   "metadata": {},
   "source": [
    "## 4. Número de pedidos por estado"
   ]
  },
  {
   "cell_type": "markdown",
   "id": "679289f7",
   "metadata": {},
   "source": [
    "> Consulta SQL."
   ]
  },
  {
   "cell_type": "code",
   "execution_count": 33,
   "id": "e4c2e9bd",
   "metadata": {
    "ExecuteTime": {
     "end_time": "2023-04-01T17:41:18.094510Z",
     "start_time": "2023-04-01T17:41:17.895959Z"
    },
    "scrolled": true
   },
   "outputs": [
    {
     "name": "stdout",
     "output_type": "stream",
     "text": [
      "olist_customers       olist_order_payments  olist_products      \r\n",
      "olist_geolocation     olist_order_reviews   olist_sellers       \r\n",
      "olist_order_items     olist_orders        \r\n"
     ]
    }
   ],
   "source": [
    "!sqlite3 olist.db '.tables'"
   ]
  },
  {
   "cell_type": "code",
   "execution_count": 34,
   "id": "4454f5ec",
   "metadata": {
    "ExecuteTime": {
     "end_time": "2023-04-01T17:42:43.175784Z",
     "start_time": "2023-04-01T17:41:18.101085Z"
    }
   },
   "outputs": [
    {
     "data": {
      "text/html": [
       "<div>\n",
       "<style scoped>\n",
       "    .dataframe tbody tr th:only-of-type {\n",
       "        vertical-align: middle;\n",
       "    }\n",
       "\n",
       "    .dataframe tbody tr th {\n",
       "        vertical-align: top;\n",
       "    }\n",
       "\n",
       "    .dataframe thead th {\n",
       "        text-align: right;\n",
       "    }\n",
       "</style>\n",
       "<table border=\"1\" class=\"dataframe\">\n",
       "  <thead>\n",
       "    <tr style=\"text-align: right;\">\n",
       "      <th></th>\n",
       "      <th>estados</th>\n",
       "      <th>num_pedidos</th>\n",
       "    </tr>\n",
       "  </thead>\n",
       "  <tbody>\n",
       "    <tr>\n",
       "      <th>0</th>\n",
       "      <td>SP</td>\n",
       "      <td>69493</td>\n",
       "    </tr>\n",
       "    <tr>\n",
       "      <th>1</th>\n",
       "      <td>MG</td>\n",
       "      <td>8045</td>\n",
       "    </tr>\n",
       "    <tr>\n",
       "      <th>2</th>\n",
       "      <td>PR</td>\n",
       "      <td>7773</td>\n",
       "    </tr>\n",
       "    <tr>\n",
       "      <th>3</th>\n",
       "      <td>RJ</td>\n",
       "      <td>4497</td>\n",
       "    </tr>\n",
       "    <tr>\n",
       "      <th>4</th>\n",
       "      <td>SC</td>\n",
       "      <td>3831</td>\n",
       "    </tr>\n",
       "    <tr>\n",
       "      <th>5</th>\n",
       "      <td>RS</td>\n",
       "      <td>1993</td>\n",
       "    </tr>\n",
       "    <tr>\n",
       "      <th>6</th>\n",
       "      <td>DF</td>\n",
       "      <td>789</td>\n",
       "    </tr>\n",
       "    <tr>\n",
       "      <th>7</th>\n",
       "      <td>BA</td>\n",
       "      <td>572</td>\n",
       "    </tr>\n",
       "    <tr>\n",
       "      <th>8</th>\n",
       "      <td>GO</td>\n",
       "      <td>463</td>\n",
       "    </tr>\n",
       "    <tr>\n",
       "      <th>9</th>\n",
       "      <td>PE</td>\n",
       "      <td>406</td>\n",
       "    </tr>\n",
       "    <tr>\n",
       "      <th>10</th>\n",
       "      <td>MA</td>\n",
       "      <td>392</td>\n",
       "    </tr>\n",
       "    <tr>\n",
       "      <th>11</th>\n",
       "      <td>ES</td>\n",
       "      <td>319</td>\n",
       "    </tr>\n",
       "    <tr>\n",
       "      <th>12</th>\n",
       "      <td>MT</td>\n",
       "      <td>137</td>\n",
       "    </tr>\n",
       "    <tr>\n",
       "      <th>13</th>\n",
       "      <td>CE</td>\n",
       "      <td>91</td>\n",
       "    </tr>\n",
       "    <tr>\n",
       "      <th>14</th>\n",
       "      <td>RN</td>\n",
       "      <td>50</td>\n",
       "    </tr>\n",
       "    <tr>\n",
       "      <th>15</th>\n",
       "      <td>MS</td>\n",
       "      <td>49</td>\n",
       "    </tr>\n",
       "    <tr>\n",
       "      <th>16</th>\n",
       "      <td>PB</td>\n",
       "      <td>36</td>\n",
       "    </tr>\n",
       "    <tr>\n",
       "      <th>17</th>\n",
       "      <td>RO</td>\n",
       "      <td>14</td>\n",
       "    </tr>\n",
       "    <tr>\n",
       "      <th>18</th>\n",
       "      <td>PI</td>\n",
       "      <td>12</td>\n",
       "    </tr>\n",
       "    <tr>\n",
       "      <th>19</th>\n",
       "      <td>SE</td>\n",
       "      <td>9</td>\n",
       "    </tr>\n",
       "    <tr>\n",
       "      <th>20</th>\n",
       "      <td>AM</td>\n",
       "      <td>3</td>\n",
       "    </tr>\n",
       "    <tr>\n",
       "      <th>21</th>\n",
       "      <td>AC</td>\n",
       "      <td>1</td>\n",
       "    </tr>\n",
       "  </tbody>\n",
       "</table>\n",
       "</div>"
      ],
      "text/plain": [
       "   estados  num_pedidos\n",
       "0       SP        69493\n",
       "1       MG         8045\n",
       "2       PR         7773\n",
       "3       RJ         4497\n",
       "4       SC         3831\n",
       "5       RS         1993\n",
       "6       DF          789\n",
       "7       BA          572\n",
       "8       GO          463\n",
       "9       PE          406\n",
       "10      MA          392\n",
       "11      ES          319\n",
       "12      MT          137\n",
       "13      CE           91\n",
       "14      RN           50\n",
       "15      MS           49\n",
       "16      PB           36\n",
       "17      RO           14\n",
       "18      PI           12\n",
       "19      SE            9\n",
       "20      AM            3\n",
       "21      AC            1"
      ]
     },
     "execution_count": 34,
     "metadata": {},
     "output_type": "execute_result"
    }
   ],
   "source": [
    "query = \"\"\"\n",
    "        SELECT g.geolocation_state AS estados, COUNT(DISTINCT o.order_id) AS num_pedidos\n",
    "\n",
    "        FROM olist_orders o\n",
    "        INNER JOIN olist_order_items oi ON o.order_id = oi.order_id\n",
    "        INNER JOIN olist_sellers s ON oi.seller_id = s.seller_id\n",
    "        INNER JOIN olist_geolocation g ON s.seller_zip_code_prefix = g.geolocation_zip_code_prefix\n",
    "\n",
    "        GROUP BY g.geolocation_state\n",
    "\n",
    "        ORDER BY num_pedidos DESC;\n",
    "        \"\"\"\n",
    "\n",
    "order_states = pd.read_sql(query, con=conn)\n",
    "order_states"
   ]
  },
  {
   "cell_type": "markdown",
   "id": "cac34618",
   "metadata": {},
   "source": [
    "> Transformando em escala logarítmica para visualizar melhor os pedidos por estado."
   ]
  },
  {
   "cell_type": "code",
   "execution_count": 35,
   "id": "09602346",
   "metadata": {
    "ExecuteTime": {
     "end_time": "2023-04-01T17:42:43.194521Z",
     "start_time": "2023-04-01T17:42:43.179699Z"
    }
   },
   "outputs": [],
   "source": [
    "order_states['num_pedidos'] = np.log1p(order_states['num_pedidos'])"
   ]
  },
  {
   "cell_type": "code",
   "execution_count": 36,
   "id": "73090937",
   "metadata": {
    "ExecuteTime": {
     "end_time": "2023-04-01T17:42:44.023694Z",
     "start_time": "2023-04-01T17:42:43.198160Z"
    }
   },
   "outputs": [
    {
     "data": {
      "image/png": "[encoded data removed]",
      "text/plain": [
       "<Figure size 1152x720 with 1 Axes>"
      ]
     },
     "metadata": {
      "needs_background": "light"
     },
     "output_type": "display_data"
    }
   ],
   "source": [
    "plt.figure(figsize=(16, 10))\n",
    "plt.rcParams.update({'font.size': 15})\n",
    "sns.barplot(x='estados', y='num_pedidos', data=order_states, palette='viridis')\n",
    "plt.show()"
   ]
  },
  {
   "cell_type": "markdown",
   "id": "e8420a84",
   "metadata": {},
   "source": [
    "## 5. Top 10 cidades com mais pedidos em MG e SP"
   ]
  },
  {
   "cell_type": "markdown",
   "id": "6a845a98",
   "metadata": {},
   "source": [
    "> Consulta SQL."
   ]
  },
  {
   "cell_type": "code",
   "execution_count": 37,
   "id": "fc51808a",
   "metadata": {
    "ExecuteTime": {
     "end_time": "2023-04-01T17:43:20.241204Z",
     "start_time": "2023-04-01T17:42:44.027187Z"
    }
   },
   "outputs": [
    {
     "data": {
      "text/html": [
       "<div>\n",
       "<style scoped>\n",
       "    .dataframe tbody tr th:only-of-type {\n",
       "        vertical-align: middle;\n",
       "    }\n",
       "\n",
       "    .dataframe tbody tr th {\n",
       "        vertical-align: top;\n",
       "    }\n",
       "\n",
       "    .dataframe thead th {\n",
       "        text-align: right;\n",
       "    }\n",
       "</style>\n",
       "<table border=\"1\" class=\"dataframe\">\n",
       "  <thead>\n",
       "    <tr style=\"text-align: right;\">\n",
       "      <th></th>\n",
       "      <th>cidades</th>\n",
       "      <th>num_pedidos</th>\n",
       "    </tr>\n",
       "  </thead>\n",
       "  <tbody>\n",
       "    <tr>\n",
       "      <th>0</th>\n",
       "      <td>belo horizonte</td>\n",
       "      <td>2426</td>\n",
       "    </tr>\n",
       "    <tr>\n",
       "      <th>1</th>\n",
       "      <td>ilicinea</td>\n",
       "      <td>718</td>\n",
       "    </tr>\n",
       "    <tr>\n",
       "      <th>2</th>\n",
       "      <td>araguari</td>\n",
       "      <td>477</td>\n",
       "    </tr>\n",
       "    <tr>\n",
       "      <th>3</th>\n",
       "      <td>borda da mata</td>\n",
       "      <td>471</td>\n",
       "    </tr>\n",
       "    <tr>\n",
       "      <th>4</th>\n",
       "      <td>uberlandia</td>\n",
       "      <td>355</td>\n",
       "    </tr>\n",
       "    <tr>\n",
       "      <th>5</th>\n",
       "      <td>betim</td>\n",
       "      <td>271</td>\n",
       "    </tr>\n",
       "    <tr>\n",
       "      <th>6</th>\n",
       "      <td>monte siao</td>\n",
       "      <td>247</td>\n",
       "    </tr>\n",
       "    <tr>\n",
       "      <th>7</th>\n",
       "      <td>sete lagoas</td>\n",
       "      <td>246</td>\n",
       "    </tr>\n",
       "    <tr>\n",
       "      <th>8</th>\n",
       "      <td>tres coracoes</td>\n",
       "      <td>222</td>\n",
       "    </tr>\n",
       "    <tr>\n",
       "      <th>9</th>\n",
       "      <td>uba</td>\n",
       "      <td>203</td>\n",
       "    </tr>\n",
       "  </tbody>\n",
       "</table>\n",
       "</div>"
      ],
      "text/plain": [
       "          cidades  num_pedidos\n",
       "0  belo horizonte         2426\n",
       "1        ilicinea          718\n",
       "2        araguari          477\n",
       "3   borda da mata          471\n",
       "4      uberlandia          355\n",
       "5           betim          271\n",
       "6      monte siao          247\n",
       "7     sete lagoas          246\n",
       "8   tres coracoes          222\n",
       "9             uba          203"
      ]
     },
     "execution_count": 37,
     "metadata": {},
     "output_type": "execute_result"
    }
   ],
   "source": [
    "query = \"\"\"\n",
    "        SELECT g.geolocation_city AS cidades, COUNT(DISTINCT o.order_id) AS num_pedidos\n",
    "\n",
    "        FROM olist_orders o\n",
    "        INNER JOIN olist_order_items oi ON o.order_id = oi.order_id\n",
    "        INNER JOIN olist_sellers s ON oi.seller_id = s.seller_id\n",
    "        INNER JOIN olist_geolocation g ON s.seller_zip_code_prefix = g.geolocation_zip_code_prefix\n",
    "        \n",
    "        WHERE g.geolocation_state = 'MG'\n",
    "\n",
    "        GROUP BY g.geolocation_city\n",
    "\n",
    "        ORDER BY num_pedidos DESC;\n",
    "        \n",
    "        \"\"\"\n",
    "\n",
    "order_cities_mg = pd.read_sql(query, con=conn)\n",
    "order_cities_mg.head(10)"
   ]
  },
  {
   "cell_type": "code",
   "execution_count": 38,
   "id": "6e165c09",
   "metadata": {
    "ExecuteTime": {
     "end_time": "2023-04-01T17:43:20.263569Z",
     "start_time": "2023-04-01T17:43:20.246344Z"
    }
   },
   "outputs": [],
   "source": [
    "top10mg = order_cities_mg.loc[:9].sort_values('num_pedidos', ascending=True)"
   ]
  },
  {
   "cell_type": "code",
   "execution_count": 39,
   "id": "2e9ec717",
   "metadata": {
    "ExecuteTime": {
     "end_time": "2023-04-01T17:43:20.973276Z",
     "start_time": "2023-04-01T17:43:20.268209Z"
    }
   },
   "outputs": [
    {
     "data": {
      "image/png": "[encoded data removed]",
      "text/plain": [
       "<Figure size 1152x576 with 1 Axes>"
      ]
     },
     "metadata": {
      "needs_background": "light"
     },
     "output_type": "display_data"
    }
   ],
   "source": [
    "plt.figure(figsize=(16, 8))\n",
    "plt.rcParams.update({'font.size': 15})\n",
    "plt.barh(top10mg['cidades'], top10mg['num_pedidos'], color='turquoise')\n",
    "plt.xlabel('Número de pedidos')\n",
    "plt.ylabel('Cidade')\n",
    "plt.title('Top 10 cidades com mais pedidos em MG')\n",
    "plt.show()"
   ]
  },
  {
   "cell_type": "code",
   "execution_count": 40,
   "id": "93ea445a",
   "metadata": {
    "ExecuteTime": {
     "end_time": "2023-04-01T17:44:20.120354Z",
     "start_time": "2023-04-01T17:43:20.978367Z"
    }
   },
   "outputs": [
    {
     "data": {
      "text/html": [
       "<div>\n",
       "<style scoped>\n",
       "    .dataframe tbody tr th:only-of-type {\n",
       "        vertical-align: middle;\n",
       "    }\n",
       "\n",
       "    .dataframe tbody tr th {\n",
       "        vertical-align: top;\n",
       "    }\n",
       "\n",
       "    .dataframe thead th {\n",
       "        text-align: right;\n",
       "    }\n",
       "</style>\n",
       "<table border=\"1\" class=\"dataframe\">\n",
       "  <thead>\n",
       "    <tr style=\"text-align: right;\">\n",
       "      <th></th>\n",
       "      <th>cidades</th>\n",
       "      <th>num_pedidos</th>\n",
       "    </tr>\n",
       "  </thead>\n",
       "  <tbody>\n",
       "    <tr>\n",
       "      <th>0</th>\n",
       "      <td>sao paulo</td>\n",
       "      <td>24758</td>\n",
       "    </tr>\n",
       "    <tr>\n",
       "      <th>1</th>\n",
       "      <td>ibitinga</td>\n",
       "      <td>6565</td>\n",
       "    </tr>\n",
       "    <tr>\n",
       "      <th>2</th>\n",
       "      <td>santo andre</td>\n",
       "      <td>2737</td>\n",
       "    </tr>\n",
       "    <tr>\n",
       "      <th>3</th>\n",
       "      <td>ribeirao preto</td>\n",
       "      <td>2317</td>\n",
       "    </tr>\n",
       "    <tr>\n",
       "      <th>4</th>\n",
       "      <td>guarulhos</td>\n",
       "      <td>2088</td>\n",
       "    </tr>\n",
       "    <tr>\n",
       "      <th>5</th>\n",
       "      <td>sao jose do rio preto</td>\n",
       "      <td>2052</td>\n",
       "    </tr>\n",
       "    <tr>\n",
       "      <th>6</th>\n",
       "      <td>piracicaba</td>\n",
       "      <td>1633</td>\n",
       "    </tr>\n",
       "    <tr>\n",
       "      <th>7</th>\n",
       "      <td>campinas</td>\n",
       "      <td>1294</td>\n",
       "    </tr>\n",
       "    <tr>\n",
       "      <th>8</th>\n",
       "      <td>itaquaquecetuba</td>\n",
       "      <td>1241</td>\n",
       "    </tr>\n",
       "    <tr>\n",
       "      <th>9</th>\n",
       "      <td>praia grande</td>\n",
       "      <td>1235</td>\n",
       "    </tr>\n",
       "  </tbody>\n",
       "</table>\n",
       "</div>"
      ],
      "text/plain": [
       "                 cidades  num_pedidos\n",
       "0              sao paulo        24758\n",
       "1               ibitinga         6565\n",
       "2            santo andre         2737\n",
       "3         ribeirao preto         2317\n",
       "4              guarulhos         2088\n",
       "5  sao jose do rio preto         2052\n",
       "6             piracicaba         1633\n",
       "7               campinas         1294\n",
       "8        itaquaquecetuba         1241\n",
       "9           praia grande         1235"
      ]
     },
     "execution_count": 40,
     "metadata": {},
     "output_type": "execute_result"
    }
   ],
   "source": [
    "query = \"\"\"\n",
    "        SELECT g.geolocation_city AS cidades, COUNT(DISTINCT o.order_id) AS num_pedidos\n",
    "\n",
    "        FROM olist_orders o\n",
    "        INNER JOIN olist_order_items oi ON o.order_id = oi.order_id\n",
    "        INNER JOIN olist_sellers s ON oi.seller_id = s.seller_id\n",
    "        INNER JOIN olist_geolocation g ON s.seller_zip_code_prefix = g.geolocation_zip_code_prefix\n",
    "        \n",
    "        WHERE g.geolocation_state = 'SP'\n",
    "\n",
    "        GROUP BY g.geolocation_city\n",
    "\n",
    "        ORDER BY num_pedidos DESC;\n",
    "        \n",
    "        \"\"\"\n",
    "\n",
    "order_cities_sp = pd.read_sql(query, con=conn)\n",
    "order_cities_sp.head(10)"
   ]
  },
  {
   "cell_type": "code",
   "execution_count": 41,
   "id": "4b7ad69a",
   "metadata": {
    "ExecuteTime": {
     "end_time": "2023-04-01T17:44:20.142012Z",
     "start_time": "2023-04-01T17:44:20.130721Z"
    }
   },
   "outputs": [],
   "source": [
    "top10sp = order_cities_sp.loc[:9].sort_values('num_pedidos', ascending=True)"
   ]
  },
  {
   "cell_type": "code",
   "execution_count": 42,
   "id": "e6c153f1",
   "metadata": {
    "ExecuteTime": {
     "end_time": "2023-04-01T17:44:20.633674Z",
     "start_time": "2023-04-01T17:44:20.147097Z"
    }
   },
   "outputs": [
    {
     "data": {
      "image/png": "[encoded data removed]",
      "text/plain": [
       "<Figure size 1152x576 with 1 Axes>"
      ]
     },
     "metadata": {
      "needs_background": "light"
     },
     "output_type": "display_data"
    }
   ],
   "source": [
    "plt.figure(figsize=(16, 8))\n",
    "plt.rcParams.update({'font.size': 15})\n",
    "plt.barh(top10sp['cidades'], top10sp['num_pedidos'], color='darkblue')\n",
    "plt.xlabel('Número de pedidos')\n",
    "plt.ylabel('Cidade')\n",
    "plt.title('Top 10 cidades com mais pedidos em SP')\n",
    "plt.show()"
   ]
  },
  {
   "cell_type": "markdown",
   "id": "27b30fa1",
   "metadata": {},
   "source": [
    "## 6. Categorias de produto que mais venderam em  Minas Gerais e  São Paulo"
   ]
  },
  {
   "cell_type": "markdown",
   "id": "2fca20f4",
   "metadata": {},
   "source": [
    "> Consulta SQL."
   ]
  },
  {
   "cell_type": "code",
   "execution_count": 43,
   "id": "11bea7d6",
   "metadata": {
    "ExecuteTime": {
     "end_time": "2023-04-01T17:44:20.927336Z",
     "start_time": "2023-04-01T17:44:20.698715Z"
    }
   },
   "outputs": [
    {
     "name": "stdout",
     "output_type": "stream",
     "text": [
      "olist_customers       olist_order_payments  olist_products      \r\n",
      "olist_geolocation     olist_order_reviews   olist_sellers       \r\n",
      "olist_order_items     olist_orders        \r\n"
     ]
    }
   ],
   "source": [
    "!sqlite3 olist.db '.tables'"
   ]
  },
  {
   "cell_type": "code",
   "execution_count": 44,
   "id": "89656780",
   "metadata": {
    "ExecuteTime": {
     "end_time": "2023-04-01T17:44:25.720237Z",
     "start_time": "2023-04-01T17:44:20.951636Z"
    }
   },
   "outputs": [],
   "source": [
    "query = \"\"\"\n",
    "        SELECT p.product_category_name, COUNT(p.product_category_name) AS qtd_produtos\n",
    "\n",
    "        FROM olist_products p\n",
    "        INNER JOIN olist_order_items oi ON p.product_id = oi.product_id\n",
    "        INNER JOIN olist_sellers s ON oi.seller_id = s.seller_id\n",
    "        INNER JOIN olist_geolocation g ON s.seller_zip_code_prefix = g.geolocation_zip_code_prefix\n",
    "        \n",
    "        WHERE g.geolocation_state = 'MG'\n",
    "\n",
    "        GROUP BY product_category_name\n",
    "\n",
    "        ORDER BY qtd_produtos DESC\n",
    "        \n",
    "        \"\"\"\n",
    "\n",
    "product_state_mg = pd.read_sql(query, con=conn)"
   ]
  },
  {
   "cell_type": "markdown",
   "id": "67084f3d",
   "metadata": {},
   "source": [
    "> Criando uma coluna de porcentagem."
   ]
  },
  {
   "cell_type": "code",
   "execution_count": 45,
   "id": "9894111b",
   "metadata": {
    "ExecuteTime": {
     "end_time": "2023-04-01T17:44:25.792641Z",
     "start_time": "2023-04-01T17:44:25.759418Z"
    }
   },
   "outputs": [],
   "source": [
    "product_state_mg['porcentagem_produtos'] = np.round(product_state_mg['qtd_produtos'] / product_state_mg['qtd_produtos'].sum() * 100,2)"
   ]
  },
  {
   "cell_type": "code",
   "execution_count": 46,
   "id": "b7f18ae5",
   "metadata": {
    "ExecuteTime": {
     "end_time": "2023-04-01T17:44:25.832772Z",
     "start_time": "2023-04-01T17:44:25.800291Z"
    }
   },
   "outputs": [
    {
     "data": {
      "text/html": [
       "<div>\n",
       "<style scoped>\n",
       "    .dataframe tbody tr th:only-of-type {\n",
       "        vertical-align: middle;\n",
       "    }\n",
       "\n",
       "    .dataframe tbody tr th {\n",
       "        vertical-align: top;\n",
       "    }\n",
       "\n",
       "    .dataframe thead th {\n",
       "        text-align: right;\n",
       "    }\n",
       "</style>\n",
       "<table border=\"1\" class=\"dataframe\">\n",
       "  <thead>\n",
       "    <tr style=\"text-align: right;\">\n",
       "      <th></th>\n",
       "      <th>product_category_name</th>\n",
       "      <th>qtd_produtos</th>\n",
       "      <th>porcentagem_produtos</th>\n",
       "    </tr>\n",
       "  </thead>\n",
       "  <tbody>\n",
       "    <tr>\n",
       "      <th>0</th>\n",
       "      <td>informatica_acessorios</td>\n",
       "      <td>380220</td>\n",
       "      <td>18.91</td>\n",
       "    </tr>\n",
       "    <tr>\n",
       "      <th>1</th>\n",
       "      <td>fashion_bolsas_e_acessorios</td>\n",
       "      <td>185993</td>\n",
       "      <td>9.25</td>\n",
       "    </tr>\n",
       "    <tr>\n",
       "      <th>2</th>\n",
       "      <td>utilidades_domesticas</td>\n",
       "      <td>160139</td>\n",
       "      <td>7.96</td>\n",
       "    </tr>\n",
       "    <tr>\n",
       "      <th>3</th>\n",
       "      <td>moveis_decoracao</td>\n",
       "      <td>120870</td>\n",
       "      <td>6.01</td>\n",
       "    </tr>\n",
       "    <tr>\n",
       "      <th>4</th>\n",
       "      <td>esporte_lazer</td>\n",
       "      <td>107785</td>\n",
       "      <td>5.36</td>\n",
       "    </tr>\n",
       "    <tr>\n",
       "      <th>5</th>\n",
       "      <td>pet_shop</td>\n",
       "      <td>104629</td>\n",
       "      <td>5.20</td>\n",
       "    </tr>\n",
       "    <tr>\n",
       "      <th>6</th>\n",
       "      <td>beleza_saude</td>\n",
       "      <td>93546</td>\n",
       "      <td>4.65</td>\n",
       "    </tr>\n",
       "    <tr>\n",
       "      <th>7</th>\n",
       "      <td>cool_stuff</td>\n",
       "      <td>93113</td>\n",
       "      <td>4.63</td>\n",
       "    </tr>\n",
       "    <tr>\n",
       "      <th>8</th>\n",
       "      <td>ferramentas_jardim</td>\n",
       "      <td>90291</td>\n",
       "      <td>4.49</td>\n",
       "    </tr>\n",
       "    <tr>\n",
       "      <th>9</th>\n",
       "      <td>automotivo</td>\n",
       "      <td>77322</td>\n",
       "      <td>3.85</td>\n",
       "    </tr>\n",
       "    <tr>\n",
       "      <th>10</th>\n",
       "      <td>cama_mesa_banho</td>\n",
       "      <td>76439</td>\n",
       "      <td>3.80</td>\n",
       "    </tr>\n",
       "    <tr>\n",
       "      <th>11</th>\n",
       "      <td>bebes</td>\n",
       "      <td>68821</td>\n",
       "      <td>3.42</td>\n",
       "    </tr>\n",
       "    <tr>\n",
       "      <th>12</th>\n",
       "      <td>brinquedos</td>\n",
       "      <td>50666</td>\n",
       "      <td>2.52</td>\n",
       "    </tr>\n",
       "    <tr>\n",
       "      <th>13</th>\n",
       "      <td>consoles_games</td>\n",
       "      <td>49033</td>\n",
       "      <td>2.44</td>\n",
       "    </tr>\n",
       "    <tr>\n",
       "      <th>14</th>\n",
       "      <td>papelaria</td>\n",
       "      <td>42972</td>\n",
       "      <td>2.14</td>\n",
       "    </tr>\n",
       "    <tr>\n",
       "      <th>15</th>\n",
       "      <td>malas_acessorios</td>\n",
       "      <td>42177</td>\n",
       "      <td>2.10</td>\n",
       "    </tr>\n",
       "    <tr>\n",
       "      <th>16</th>\n",
       "      <td>relogios_presentes</td>\n",
       "      <td>37427</td>\n",
       "      <td>1.86</td>\n",
       "    </tr>\n",
       "    <tr>\n",
       "      <th>17</th>\n",
       "      <td>perfumaria</td>\n",
       "      <td>31632</td>\n",
       "      <td>1.57</td>\n",
       "    </tr>\n",
       "    <tr>\n",
       "      <th>18</th>\n",
       "      <td>telefonia</td>\n",
       "      <td>28634</td>\n",
       "      <td>1.42</td>\n",
       "    </tr>\n",
       "    <tr>\n",
       "      <th>19</th>\n",
       "      <td>moveis_sala</td>\n",
       "      <td>22745</td>\n",
       "      <td>1.13</td>\n",
       "    </tr>\n",
       "    <tr>\n",
       "      <th>20</th>\n",
       "      <td>construcao_ferramentas_construcao</td>\n",
       "      <td>17973</td>\n",
       "      <td>0.89</td>\n",
       "    </tr>\n",
       "    <tr>\n",
       "      <th>21</th>\n",
       "      <td>eletronicos</td>\n",
       "      <td>14679</td>\n",
       "      <td>0.73</td>\n",
       "    </tr>\n",
       "    <tr>\n",
       "      <th>22</th>\n",
       "      <td>portateis_casa_forno_e_cafe</td>\n",
       "      <td>13040</td>\n",
       "      <td>0.65</td>\n",
       "    </tr>\n",
       "    <tr>\n",
       "      <th>23</th>\n",
       "      <td>eletrodomesticos_2</td>\n",
       "      <td>9511</td>\n",
       "      <td>0.47</td>\n",
       "    </tr>\n",
       "    <tr>\n",
       "      <th>24</th>\n",
       "      <td>construcao_ferramentas_ferramentas</td>\n",
       "      <td>9153</td>\n",
       "      <td>0.46</td>\n",
       "    </tr>\n",
       "    <tr>\n",
       "      <th>25</th>\n",
       "      <td>instrumentos_musicais</td>\n",
       "      <td>8869</td>\n",
       "      <td>0.44</td>\n",
       "    </tr>\n",
       "    <tr>\n",
       "      <th>26</th>\n",
       "      <td>livros_interesse_geral</td>\n",
       "      <td>8231</td>\n",
       "      <td>0.41</td>\n",
       "    </tr>\n",
       "    <tr>\n",
       "      <th>27</th>\n",
       "      <td>casa_conforto</td>\n",
       "      <td>7454</td>\n",
       "      <td>0.37</td>\n",
       "    </tr>\n",
       "    <tr>\n",
       "      <th>28</th>\n",
       "      <td>eletroportateis</td>\n",
       "      <td>6388</td>\n",
       "      <td>0.32</td>\n",
       "    </tr>\n",
       "    <tr>\n",
       "      <th>29</th>\n",
       "      <td>construcao_ferramentas_jardim</td>\n",
       "      <td>6262</td>\n",
       "      <td>0.31</td>\n",
       "    </tr>\n",
       "    <tr>\n",
       "      <th>30</th>\n",
       "      <td>artigos_de_natal</td>\n",
       "      <td>6249</td>\n",
       "      <td>0.31</td>\n",
       "    </tr>\n",
       "    <tr>\n",
       "      <th>31</th>\n",
       "      <td>alimentos_bebidas</td>\n",
       "      <td>5716</td>\n",
       "      <td>0.28</td>\n",
       "    </tr>\n",
       "    <tr>\n",
       "      <th>32</th>\n",
       "      <td>climatizacao</td>\n",
       "      <td>4687</td>\n",
       "      <td>0.23</td>\n",
       "    </tr>\n",
       "    <tr>\n",
       "      <th>33</th>\n",
       "      <td>moveis_cozinha_area_de_servico_jantar_e_jardim</td>\n",
       "      <td>4448</td>\n",
       "      <td>0.22</td>\n",
       "    </tr>\n",
       "    <tr>\n",
       "      <th>34</th>\n",
       "      <td>bebidas</td>\n",
       "      <td>3452</td>\n",
       "      <td>0.17</td>\n",
       "    </tr>\n",
       "    <tr>\n",
       "      <th>35</th>\n",
       "      <td>artes</td>\n",
       "      <td>2377</td>\n",
       "      <td>0.12</td>\n",
       "    </tr>\n",
       "    <tr>\n",
       "      <th>36</th>\n",
       "      <td>telefonia_fixa</td>\n",
       "      <td>1921</td>\n",
       "      <td>0.10</td>\n",
       "    </tr>\n",
       "    <tr>\n",
       "      <th>37</th>\n",
       "      <td>market_place</td>\n",
       "      <td>1860</td>\n",
       "      <td>0.09</td>\n",
       "    </tr>\n",
       "    <tr>\n",
       "      <th>38</th>\n",
       "      <td>sinalizacao_e_seguranca</td>\n",
       "      <td>1692</td>\n",
       "      <td>0.08</td>\n",
       "    </tr>\n",
       "    <tr>\n",
       "      <th>39</th>\n",
       "      <td>musica</td>\n",
       "      <td>1427</td>\n",
       "      <td>0.07</td>\n",
       "    </tr>\n",
       "    <tr>\n",
       "      <th>40</th>\n",
       "      <td>moveis_escritorio</td>\n",
       "      <td>1170</td>\n",
       "      <td>0.06</td>\n",
       "    </tr>\n",
       "    <tr>\n",
       "      <th>41</th>\n",
       "      <td>alimentos</td>\n",
       "      <td>1161</td>\n",
       "      <td>0.06</td>\n",
       "    </tr>\n",
       "    <tr>\n",
       "      <th>42</th>\n",
       "      <td>eletrodomesticos</td>\n",
       "      <td>1060</td>\n",
       "      <td>0.05</td>\n",
       "    </tr>\n",
       "    <tr>\n",
       "      <th>43</th>\n",
       "      <td>pcs</td>\n",
       "      <td>1015</td>\n",
       "      <td>0.05</td>\n",
       "    </tr>\n",
       "    <tr>\n",
       "      <th>44</th>\n",
       "      <td>industria_comercio_e_negocios</td>\n",
       "      <td>916</td>\n",
       "      <td>0.05</td>\n",
       "    </tr>\n",
       "    <tr>\n",
       "      <th>45</th>\n",
       "      <td>moveis_colchao_e_estofado</td>\n",
       "      <td>706</td>\n",
       "      <td>0.04</td>\n",
       "    </tr>\n",
       "    <tr>\n",
       "      <th>46</th>\n",
       "      <td>moveis_quarto</td>\n",
       "      <td>690</td>\n",
       "      <td>0.03</td>\n",
       "    </tr>\n",
       "    <tr>\n",
       "      <th>47</th>\n",
       "      <td>cine_foto</td>\n",
       "      <td>678</td>\n",
       "      <td>0.03</td>\n",
       "    </tr>\n",
       "    <tr>\n",
       "      <th>48</th>\n",
       "      <td>audio</td>\n",
       "      <td>553</td>\n",
       "      <td>0.03</td>\n",
       "    </tr>\n",
       "    <tr>\n",
       "      <th>49</th>\n",
       "      <td>construcao_ferramentas_iluminacao</td>\n",
       "      <td>497</td>\n",
       "      <td>0.02</td>\n",
       "    </tr>\n",
       "    <tr>\n",
       "      <th>50</th>\n",
       "      <td>agro_industria_e_comercio</td>\n",
       "      <td>496</td>\n",
       "      <td>0.02</td>\n",
       "    </tr>\n",
       "    <tr>\n",
       "      <th>51</th>\n",
       "      <td>casa_construcao</td>\n",
       "      <td>488</td>\n",
       "      <td>0.02</td>\n",
       "    </tr>\n",
       "    <tr>\n",
       "      <th>52</th>\n",
       "      <td>fashion_esporte</td>\n",
       "      <td>359</td>\n",
       "      <td>0.02</td>\n",
       "    </tr>\n",
       "    <tr>\n",
       "      <th>53</th>\n",
       "      <td>fashion_roupa_masculina</td>\n",
       "      <td>341</td>\n",
       "      <td>0.02</td>\n",
       "    </tr>\n",
       "    <tr>\n",
       "      <th>54</th>\n",
       "      <td>tablets_impressao_imagem</td>\n",
       "      <td>291</td>\n",
       "      <td>0.01</td>\n",
       "    </tr>\n",
       "    <tr>\n",
       "      <th>55</th>\n",
       "      <td>fashion_underwear_e_moda_praia</td>\n",
       "      <td>290</td>\n",
       "      <td>0.01</td>\n",
       "    </tr>\n",
       "    <tr>\n",
       "      <th>56</th>\n",
       "      <td>fashion_calcados</td>\n",
       "      <td>189</td>\n",
       "      <td>0.01</td>\n",
       "    </tr>\n",
       "    <tr>\n",
       "      <th>57</th>\n",
       "      <td>artes_e_artesanato</td>\n",
       "      <td>104</td>\n",
       "      <td>0.01</td>\n",
       "    </tr>\n",
       "    <tr>\n",
       "      <th>58</th>\n",
       "      <td>None</td>\n",
       "      <td>0</td>\n",
       "      <td>0.00</td>\n",
       "    </tr>\n",
       "  </tbody>\n",
       "</table>\n",
       "</div>"
      ],
      "text/plain": [
       "                             product_category_name  qtd_produtos  \\\n",
       "0                           informatica_acessorios        380220   \n",
       "1                      fashion_bolsas_e_acessorios        185993   \n",
       "2                            utilidades_domesticas        160139   \n",
       "3                                 moveis_decoracao        120870   \n",
       "4                                    esporte_lazer        107785   \n",
       "5                                         pet_shop        104629   \n",
       "6                                     beleza_saude         93546   \n",
       "7                                       cool_stuff         93113   \n",
       "8                               ferramentas_jardim         90291   \n",
       "9                                       automotivo         77322   \n",
       "10                                 cama_mesa_banho         76439   \n",
       "11                                           bebes         68821   \n",
       "12                                      brinquedos         50666   \n",
       "13                                  consoles_games         49033   \n",
       "14                                       papelaria         42972   \n",
       "15                                malas_acessorios         42177   \n",
       "16                              relogios_presentes         37427   \n",
       "17                                      perfumaria         31632   \n",
       "18                                       telefonia         28634   \n",
       "19                                     moveis_sala         22745   \n",
       "20               construcao_ferramentas_construcao         17973   \n",
       "21                                     eletronicos         14679   \n",
       "22                     portateis_casa_forno_e_cafe         13040   \n",
       "23                              eletrodomesticos_2          9511   \n",
       "24              construcao_ferramentas_ferramentas          9153   \n",
       "25                           instrumentos_musicais          8869   \n",
       "26                          livros_interesse_geral          8231   \n",
       "27                                   casa_conforto          7454   \n",
       "28                                 eletroportateis          6388   \n",
       "29                   construcao_ferramentas_jardim          6262   \n",
       "30                                artigos_de_natal          6249   \n",
       "31                               alimentos_bebidas          5716   \n",
       "32                                    climatizacao          4687   \n",
       "33  moveis_cozinha_area_de_servico_jantar_e_jardim          4448   \n",
       "34                                         bebidas          3452   \n",
       "35                                           artes          2377   \n",
       "36                                  telefonia_fixa          1921   \n",
       "37                                    market_place          1860   \n",
       "38                         sinalizacao_e_seguranca          1692   \n",
       "39                                          musica          1427   \n",
       "40                               moveis_escritorio          1170   \n",
       "41                                       alimentos          1161   \n",
       "42                                eletrodomesticos          1060   \n",
       "43                                             pcs          1015   \n",
       "44                   industria_comercio_e_negocios           916   \n",
       "45                       moveis_colchao_e_estofado           706   \n",
       "46                                   moveis_quarto           690   \n",
       "47                                       cine_foto           678   \n",
       "48                                           audio           553   \n",
       "49               construcao_ferramentas_iluminacao           497   \n",
       "50                       agro_industria_e_comercio           496   \n",
       "51                                 casa_construcao           488   \n",
       "52                                 fashion_esporte           359   \n",
       "53                         fashion_roupa_masculina           341   \n",
       "54                        tablets_impressao_imagem           291   \n",
       "55                  fashion_underwear_e_moda_praia           290   \n",
       "56                                fashion_calcados           189   \n",
       "57                              artes_e_artesanato           104   \n",
       "58                                            None             0   \n",
       "\n",
       "    porcentagem_produtos  \n",
       "0                  18.91  \n",
       "1                   9.25  \n",
       "2                   7.96  \n",
       "3                   6.01  \n",
       "4                   5.36  \n",
       "5                   5.20  \n",
       "6                   4.65  \n",
       "7                   4.63  \n",
       "8                   4.49  \n",
       "9                   3.85  \n",
       "10                  3.80  \n",
       "11                  3.42  \n",
       "12                  2.52  \n",
       "13                  2.44  \n",
       "14                  2.14  \n",
       "15                  2.10  \n",
       "16                  1.86  \n",
       "17                  1.57  \n",
       "18                  1.42  \n",
       "19                  1.13  \n",
       "20                  0.89  \n",
       "21                  0.73  \n",
       "22                  0.65  \n",
       "23                  0.47  \n",
       "24                  0.46  \n",
       "25                  0.44  \n",
       "26                  0.41  \n",
       "27                  0.37  \n",
       "28                  0.32  \n",
       "29                  0.31  \n",
       "30                  0.31  \n",
       "31                  0.28  \n",
       "32                  0.23  \n",
       "33                  0.22  \n",
       "34                  0.17  \n",
       "35                  0.12  \n",
       "36                  0.10  \n",
       "37                  0.09  \n",
       "38                  0.08  \n",
       "39                  0.07  \n",
       "40                  0.06  \n",
       "41                  0.06  \n",
       "42                  0.05  \n",
       "43                  0.05  \n",
       "44                  0.05  \n",
       "45                  0.04  \n",
       "46                  0.03  \n",
       "47                  0.03  \n",
       "48                  0.03  \n",
       "49                  0.02  \n",
       "50                  0.02  \n",
       "51                  0.02  \n",
       "52                  0.02  \n",
       "53                  0.02  \n",
       "54                  0.01  \n",
       "55                  0.01  \n",
       "56                  0.01  \n",
       "57                  0.01  \n",
       "58                  0.00  "
      ]
     },
     "execution_count": 46,
     "metadata": {},
     "output_type": "execute_result"
    }
   ],
   "source": [
    "product_state_mg"
   ]
  },
  {
   "cell_type": "code",
   "execution_count": 47,
   "id": "451ff0c0",
   "metadata": {
    "ExecuteTime": {
     "end_time": "2023-04-01T17:44:26.718654Z",
     "start_time": "2023-04-01T17:44:25.836756Z"
    }
   },
   "outputs": [
    {
     "data": {
      "image/png": "[encoded data removed]",
      "text/plain": [
       "<Figure size 1080x360 with 1 Axes>"
      ]
     },
     "metadata": {
      "needs_background": "light"
     },
     "output_type": "display_data"
    }
   ],
   "source": [
    "plt.figure(figsize=(15,5))\n",
    "plt.rcParams.update({'font.size': 15})\n",
    "ax = sns.barplot(x='product_category_name', y='qtd_produtos', data=product_state_mg.loc[:9], palette='viridis')\n",
    "plt.title('Top 10 categorias de produtos mais vendidos em Minas Gerais')\n",
    "plt.xlabel('Categoria de produto')\n",
    "plt.ylabel('Número de produtos vendidos')\n",
    "plt.xticks(rotation=45)\n",
    "\n",
    "total_products = product_state_mg[\"qtd_produtos\"].sum()\n",
    "for i, container in enumerate(ax.containers):\n",
    "    for j, bar in enumerate(container):\n",
    "        height = bar.get_height()\n",
    "        ax.text(bar.get_x() + bar.get_width()/2, \n",
    "                height+1, \n",
    "                f\"{height/total_products*100:.2f}%\", \n",
    "                ha='center', \n",
    "                va='bottom', \n",
    "                fontsize=10, \n",
    "                fontweight='bold')\n",
    "\n",
    "plt.show()"
   ]
  },
  {
   "cell_type": "markdown",
   "id": "2a5dd5b7",
   "metadata": {},
   "source": [
    "colocar o percentual nas barras"
   ]
  },
  {
   "cell_type": "code",
   "execution_count": 48,
   "id": "7ffd85bc",
   "metadata": {
    "ExecuteTime": {
     "end_time": "2023-04-01T17:44:46.026085Z",
     "start_time": "2023-04-01T17:44:26.730535Z"
    }
   },
   "outputs": [],
   "source": [
    "query = \"\"\"\n",
    "        SELECT p.product_category_name, COUNT(p.product_category_name) AS qtd_produtos\n",
    "\n",
    "        FROM olist_products p\n",
    "        INNER JOIN olist_order_items oi ON p.product_id = oi.product_id\n",
    "        INNER JOIN olist_sellers s ON oi.seller_id = s.seller_id\n",
    "        INNER JOIN olist_geolocation g ON s.seller_zip_code_prefix = g.geolocation_zip_code_prefix\n",
    "        \n",
    "        WHERE g.geolocation_state = 'SP'\n",
    "\n",
    "        GROUP BY product_category_name\n",
    "\n",
    "        ORDER BY qtd_produtos DESC\n",
    "        \n",
    "        \"\"\"\n",
    "\n",
    "product_state_sp = pd.read_sql(query, con=conn)"
   ]
  },
  {
   "cell_type": "markdown",
   "id": "6fddc719",
   "metadata": {},
   "source": [
    "> Criando uma coluna de porcentagem."
   ]
  },
  {
   "cell_type": "code",
   "execution_count": 49,
   "id": "f6f3f8c0",
   "metadata": {
    "ExecuteTime": {
     "end_time": "2023-04-01T17:44:46.113278Z",
     "start_time": "2023-04-01T17:44:46.063645Z"
    }
   },
   "outputs": [
    {
     "data": {
      "text/html": [
       "<div>\n",
       "<style scoped>\n",
       "    .dataframe tbody tr th:only-of-type {\n",
       "        vertical-align: middle;\n",
       "    }\n",
       "\n",
       "    .dataframe tbody tr th {\n",
       "        vertical-align: top;\n",
       "    }\n",
       "\n",
       "    .dataframe thead th {\n",
       "        text-align: right;\n",
       "    }\n",
       "</style>\n",
       "<table border=\"1\" class=\"dataframe\">\n",
       "  <thead>\n",
       "    <tr style=\"text-align: right;\">\n",
       "      <th></th>\n",
       "      <th>product_category_name</th>\n",
       "      <th>qtd_produtos</th>\n",
       "      <th>porcentagem_produtos</th>\n",
       "    </tr>\n",
       "  </thead>\n",
       "  <tbody>\n",
       "    <tr>\n",
       "      <th>0</th>\n",
       "      <td>cama_mesa_banho</td>\n",
       "      <td>2182811</td>\n",
       "      <td>20.52</td>\n",
       "    </tr>\n",
       "    <tr>\n",
       "      <th>1</th>\n",
       "      <td>beleza_saude</td>\n",
       "      <td>872784</td>\n",
       "      <td>8.20</td>\n",
       "    </tr>\n",
       "    <tr>\n",
       "      <th>2</th>\n",
       "      <td>moveis_decoracao</td>\n",
       "      <td>794704</td>\n",
       "      <td>7.47</td>\n",
       "    </tr>\n",
       "    <tr>\n",
       "      <th>3</th>\n",
       "      <td>utilidades_domesticas</td>\n",
       "      <td>726950</td>\n",
       "      <td>6.83</td>\n",
       "    </tr>\n",
       "    <tr>\n",
       "      <th>4</th>\n",
       "      <td>ferramentas_jardim</td>\n",
       "      <td>685010</td>\n",
       "      <td>6.44</td>\n",
       "    </tr>\n",
       "    <tr>\n",
       "      <th>...</th>\n",
       "      <td>...</td>\n",
       "      <td>...</td>\n",
       "      <td>...</td>\n",
       "    </tr>\n",
       "    <tr>\n",
       "      <th>69</th>\n",
       "      <td>pc_gamer</td>\n",
       "      <td>1167</td>\n",
       "      <td>0.01</td>\n",
       "    </tr>\n",
       "    <tr>\n",
       "      <th>70</th>\n",
       "      <td>la_cuisine</td>\n",
       "      <td>429</td>\n",
       "      <td>0.00</td>\n",
       "    </tr>\n",
       "    <tr>\n",
       "      <th>71</th>\n",
       "      <td>seguros_e_servicos</td>\n",
       "      <td>258</td>\n",
       "      <td>0.00</td>\n",
       "    </tr>\n",
       "    <tr>\n",
       "      <th>72</th>\n",
       "      <td>fashion_roupa_infanto_juvenil</td>\n",
       "      <td>252</td>\n",
       "      <td>0.00</td>\n",
       "    </tr>\n",
       "    <tr>\n",
       "      <th>73</th>\n",
       "      <td>None</td>\n",
       "      <td>0</td>\n",
       "      <td>0.00</td>\n",
       "    </tr>\n",
       "  </tbody>\n",
       "</table>\n",
       "<p>74 rows × 3 columns</p>\n",
       "</div>"
      ],
      "text/plain": [
       "            product_category_name  qtd_produtos  porcentagem_produtos\n",
       "0                 cama_mesa_banho       2182811                 20.52\n",
       "1                    beleza_saude        872784                  8.20\n",
       "2                moveis_decoracao        794704                  7.47\n",
       "3           utilidades_domesticas        726950                  6.83\n",
       "4              ferramentas_jardim        685010                  6.44\n",
       "..                            ...           ...                   ...\n",
       "69                       pc_gamer          1167                  0.01\n",
       "70                     la_cuisine           429                  0.00\n",
       "71             seguros_e_servicos           258                  0.00\n",
       "72  fashion_roupa_infanto_juvenil           252                  0.00\n",
       "73                           None             0                  0.00\n",
       "\n",
       "[74 rows x 3 columns]"
      ]
     },
     "execution_count": 49,
     "metadata": {},
     "output_type": "execute_result"
    }
   ],
   "source": [
    "product_state_sp['porcentagem_produtos'] = np.round(product_state_sp['qtd_produtos'] / product_state_sp['qtd_produtos'].sum() * 100,2)\n",
    "\n",
    "product_state_sp"
   ]
  },
  {
   "cell_type": "code",
   "execution_count": 50,
   "id": "cd88af42",
   "metadata": {
    "ExecuteTime": {
     "end_time": "2023-04-01T17:44:46.692030Z",
     "start_time": "2023-04-01T17:44:46.118522Z"
    }
   },
   "outputs": [
    {
     "data": {
      "image/png": "[encoded data removed]",
      "text/plain": [
       "<Figure size 1080x360 with 1 Axes>"
      ]
     },
     "metadata": {
      "needs_background": "light"
     },
     "output_type": "display_data"
    }
   ],
   "source": [
    "plt.figure(figsize=(15,5))\n",
    "plt.rcParams.update({'font.size': 15})\n",
    "ax = sns.barplot(x=\"product_category_name\", y=\"qtd_produtos\", palette='viridis', data=product_state_sp.loc[:9])\n",
    "plt.title(\"Top 10 categorias de produtos mais vendidos em São Paulo\")\n",
    "plt.xlabel(\"Categoria de produto\")\n",
    "plt.ylabel(\"Número de produtos vendidos\")\n",
    "plt.xticks(rotation=45)\n",
    "\n",
    "total_products = product_state_sp[\"qtd_produtos\"].sum()\n",
    "for i, container in enumerate(ax.containers):\n",
    "    for j, bar in enumerate(container):\n",
    "        height = bar.get_height()\n",
    "        ax.text(bar.get_x() + bar.get_width()/2, \n",
    "                height+1, \n",
    "                f\"{height/total_products*100:.2f}%\", \n",
    "                ha='center', \n",
    "                va='bottom', \n",
    "                fontsize=10, \n",
    "                fontweight='bold')\n",
    "\n",
    "plt.show()"
   ]
  },
  {
   "cell_type": "markdown",
   "id": "64a3986d",
   "metadata": {},
   "source": [
    "## 7. Quantidade de vendedores por estado"
   ]
  },
  {
   "cell_type": "markdown",
   "id": "f1f2301e",
   "metadata": {},
   "source": [
    "> Consulta SQL."
   ]
  },
  {
   "cell_type": "code",
   "execution_count": 51,
   "id": "5a422746",
   "metadata": {
    "ExecuteTime": {
     "end_time": "2023-04-01T17:44:46.868831Z",
     "start_time": "2023-04-01T17:44:46.695674Z"
    }
   },
   "outputs": [
    {
     "name": "stdout",
     "output_type": "stream",
     "text": [
      "olist_customers       olist_order_payments  olist_products      \r\n",
      "olist_geolocation     olist_order_reviews   olist_sellers       \r\n",
      "olist_order_items     olist_orders        \r\n"
     ]
    }
   ],
   "source": [
    "!sqlite3 olist.db '.tables'"
   ]
  },
  {
   "cell_type": "code",
   "execution_count": 52,
   "id": "19c3cad0",
   "metadata": {
    "ExecuteTime": {
     "end_time": "2023-04-01T17:44:46.937561Z",
     "start_time": "2023-04-01T17:44:46.910990Z"
    }
   },
   "outputs": [
    {
     "data": {
      "text/html": [
       "<div>\n",
       "<style scoped>\n",
       "    .dataframe tbody tr th:only-of-type {\n",
       "        vertical-align: middle;\n",
       "    }\n",
       "\n",
       "    .dataframe tbody tr th {\n",
       "        vertical-align: top;\n",
       "    }\n",
       "\n",
       "    .dataframe thead th {\n",
       "        text-align: right;\n",
       "    }\n",
       "</style>\n",
       "<table border=\"1\" class=\"dataframe\">\n",
       "  <thead>\n",
       "    <tr style=\"text-align: right;\">\n",
       "      <th></th>\n",
       "      <th>estados</th>\n",
       "      <th>qtd_vendedores</th>\n",
       "    </tr>\n",
       "  </thead>\n",
       "  <tbody>\n",
       "    <tr>\n",
       "      <th>0</th>\n",
       "      <td>SP</td>\n",
       "      <td>1333</td>\n",
       "    </tr>\n",
       "    <tr>\n",
       "      <th>1</th>\n",
       "      <td>PR</td>\n",
       "      <td>219</td>\n",
       "    </tr>\n",
       "    <tr>\n",
       "      <th>2</th>\n",
       "      <td>MG</td>\n",
       "      <td>180</td>\n",
       "    </tr>\n",
       "    <tr>\n",
       "      <th>3</th>\n",
       "      <td>RJ</td>\n",
       "      <td>138</td>\n",
       "    </tr>\n",
       "    <tr>\n",
       "      <th>4</th>\n",
       "      <td>SC</td>\n",
       "      <td>134</td>\n",
       "    </tr>\n",
       "    <tr>\n",
       "      <th>5</th>\n",
       "      <td>RS</td>\n",
       "      <td>105</td>\n",
       "    </tr>\n",
       "    <tr>\n",
       "      <th>6</th>\n",
       "      <td>GO</td>\n",
       "      <td>35</td>\n",
       "    </tr>\n",
       "    <tr>\n",
       "      <th>7</th>\n",
       "      <td>DF</td>\n",
       "      <td>29</td>\n",
       "    </tr>\n",
       "    <tr>\n",
       "      <th>8</th>\n",
       "      <td>ES</td>\n",
       "      <td>23</td>\n",
       "    </tr>\n",
       "    <tr>\n",
       "      <th>9</th>\n",
       "      <td>BA</td>\n",
       "      <td>17</td>\n",
       "    </tr>\n",
       "    <tr>\n",
       "      <th>10</th>\n",
       "      <td>CE</td>\n",
       "      <td>13</td>\n",
       "    </tr>\n",
       "    <tr>\n",
       "      <th>11</th>\n",
       "      <td>PE</td>\n",
       "      <td>9</td>\n",
       "    </tr>\n",
       "    <tr>\n",
       "      <th>12</th>\n",
       "      <td>PB</td>\n",
       "      <td>6</td>\n",
       "    </tr>\n",
       "    <tr>\n",
       "      <th>13</th>\n",
       "      <td>RN</td>\n",
       "      <td>5</td>\n",
       "    </tr>\n",
       "    <tr>\n",
       "      <th>14</th>\n",
       "      <td>MS</td>\n",
       "      <td>5</td>\n",
       "    </tr>\n",
       "    <tr>\n",
       "      <th>15</th>\n",
       "      <td>MT</td>\n",
       "      <td>4</td>\n",
       "    </tr>\n",
       "    <tr>\n",
       "      <th>16</th>\n",
       "      <td>SE</td>\n",
       "      <td>2</td>\n",
       "    </tr>\n",
       "    <tr>\n",
       "      <th>17</th>\n",
       "      <td>RO</td>\n",
       "      <td>2</td>\n",
       "    </tr>\n",
       "    <tr>\n",
       "      <th>18</th>\n",
       "      <td>PI</td>\n",
       "      <td>1</td>\n",
       "    </tr>\n",
       "    <tr>\n",
       "      <th>19</th>\n",
       "      <td>PA</td>\n",
       "      <td>1</td>\n",
       "    </tr>\n",
       "  </tbody>\n",
       "</table>\n",
       "</div>"
      ],
      "text/plain": [
       "   estados  qtd_vendedores\n",
       "0       SP            1333\n",
       "1       PR             219\n",
       "2       MG             180\n",
       "3       RJ             138\n",
       "4       SC             134\n",
       "5       RS             105\n",
       "6       GO              35\n",
       "7       DF              29\n",
       "8       ES              23\n",
       "9       BA              17\n",
       "10      CE              13\n",
       "11      PE               9\n",
       "12      PB               6\n",
       "13      RN               5\n",
       "14      MS               5\n",
       "15      MT               4\n",
       "16      SE               2\n",
       "17      RO               2\n",
       "18      PI               1\n",
       "19      PA               1"
      ]
     },
     "execution_count": 52,
     "metadata": {},
     "output_type": "execute_result"
    }
   ],
   "source": [
    "query = \"\"\"\n",
    "        SELECT seller_state AS estados, COUNT(DISTINCT seller_zip_code_prefix) AS qtd_vendedores\n",
    "\n",
    "        FROM olist_sellers\n",
    "\n",
    "        GROUP BY seller_state\n",
    "\n",
    "        ORDER BY qtd_vendedores DESC\n",
    "\n",
    "        \"\"\"\n",
    "\n",
    "seller_state = pd.read_sql(query, con=conn)\n",
    "seller_state.head(20)"
   ]
  },
  {
   "cell_type": "code",
   "execution_count": 53,
   "id": "0223c042",
   "metadata": {
    "ExecuteTime": {
     "end_time": "2023-04-01T17:44:46.949584Z",
     "start_time": "2023-04-01T17:44:46.941529Z"
    }
   },
   "outputs": [],
   "source": [
    "seller_state['qtd_vendedores'] = np.log1p(seller_state['qtd_vendedores'])"
   ]
  },
  {
   "cell_type": "code",
   "execution_count": 54,
   "id": "afaf56ec",
   "metadata": {
    "ExecuteTime": {
     "end_time": "2023-04-01T17:44:47.699490Z",
     "start_time": "2023-04-01T17:44:46.956871Z"
    }
   },
   "outputs": [
    {
     "data": {
      "image/png": "[encoded data removed]",
      "text/plain": [
       "<Figure size 1152x720 with 1 Axes>"
      ]
     },
     "metadata": {
      "needs_background": "light"
     },
     "output_type": "display_data"
    }
   ],
   "source": [
    "plt.figure(figsize=(16, 10))\n",
    "plt.rcParams.update({'font.size': 15})\n",
    "sns.barplot(x='estados', y='qtd_vendedores', data=seller_state, palette='viridis')\n",
    "plt.show()"
   ]
  },
  {
   "cell_type": "markdown",
   "id": "9878aefa",
   "metadata": {},
   "source": [
    "## 8. Quantidade de pedidos por status de pedido"
   ]
  },
  {
   "cell_type": "markdown",
   "id": "85ac5695",
   "metadata": {},
   "source": [
    "> Consulta SQL."
   ]
  },
  {
   "cell_type": "code",
   "execution_count": 55,
   "id": "b843fc60",
   "metadata": {
    "ExecuteTime": {
     "end_time": "2023-04-01T17:44:47.865043Z",
     "start_time": "2023-04-01T17:44:47.703777Z"
    }
   },
   "outputs": [
    {
     "name": "stdout",
     "output_type": "stream",
     "text": [
      "olist_customers       olist_order_payments  olist_products      \r\n",
      "olist_geolocation     olist_order_reviews   olist_sellers       \r\n",
      "olist_order_items     olist_orders        \r\n"
     ]
    }
   ],
   "source": [
    "!sqlite3 olist.db '.tables'"
   ]
  },
  {
   "cell_type": "code",
   "execution_count": 56,
   "id": "352b3ee3",
   "metadata": {
    "ExecuteTime": {
     "end_time": "2023-04-01T17:44:48.505496Z",
     "start_time": "2023-04-01T17:44:47.870063Z"
    }
   },
   "outputs": [
    {
     "data": {
      "text/html": [
       "<div>\n",
       "<style scoped>\n",
       "    .dataframe tbody tr th:only-of-type {\n",
       "        vertical-align: middle;\n",
       "    }\n",
       "\n",
       "    .dataframe tbody tr th {\n",
       "        vertical-align: top;\n",
       "    }\n",
       "\n",
       "    .dataframe thead th {\n",
       "        text-align: right;\n",
       "    }\n",
       "</style>\n",
       "<table border=\"1\" class=\"dataframe\">\n",
       "  <thead>\n",
       "    <tr style=\"text-align: right;\">\n",
       "      <th></th>\n",
       "      <th>status_pedidos</th>\n",
       "      <th>qtd_clientes</th>\n",
       "    </tr>\n",
       "  </thead>\n",
       "  <tbody>\n",
       "    <tr>\n",
       "      <th>0</th>\n",
       "      <td>delivered</td>\n",
       "      <td>96478</td>\n",
       "    </tr>\n",
       "    <tr>\n",
       "      <th>1</th>\n",
       "      <td>shipped</td>\n",
       "      <td>1107</td>\n",
       "    </tr>\n",
       "    <tr>\n",
       "      <th>2</th>\n",
       "      <td>canceled</td>\n",
       "      <td>625</td>\n",
       "    </tr>\n",
       "    <tr>\n",
       "      <th>3</th>\n",
       "      <td>unavailable</td>\n",
       "      <td>609</td>\n",
       "    </tr>\n",
       "    <tr>\n",
       "      <th>4</th>\n",
       "      <td>invoiced</td>\n",
       "      <td>314</td>\n",
       "    </tr>\n",
       "    <tr>\n",
       "      <th>5</th>\n",
       "      <td>processing</td>\n",
       "      <td>301</td>\n",
       "    </tr>\n",
       "    <tr>\n",
       "      <th>6</th>\n",
       "      <td>created</td>\n",
       "      <td>5</td>\n",
       "    </tr>\n",
       "    <tr>\n",
       "      <th>7</th>\n",
       "      <td>approved</td>\n",
       "      <td>2</td>\n",
       "    </tr>\n",
       "  </tbody>\n",
       "</table>\n",
       "</div>"
      ],
      "text/plain": [
       "  status_pedidos  qtd_clientes\n",
       "0      delivered         96478\n",
       "1        shipped          1107\n",
       "2       canceled           625\n",
       "3    unavailable           609\n",
       "4       invoiced           314\n",
       "5     processing           301\n",
       "6        created             5\n",
       "7       approved             2"
      ]
     },
     "execution_count": 56,
     "metadata": {},
     "output_type": "execute_result"
    }
   ],
   "source": [
    "query = \"\"\"\n",
    "        SELECT order_status AS status_pedidos, COUNT(DISTINCT customer_id) AS qtd_clientes\n",
    "\n",
    "        FROM olist_orders\n",
    "\n",
    "        GROUP BY order_status\n",
    "\n",
    "        ORDER BY qtd_clientes DESC\n",
    "        \n",
    "        \"\"\"\n",
    "\n",
    "order_status = pd.read_sql(query, con=conn)\n",
    "order_status"
   ]
  },
  {
   "cell_type": "markdown",
   "id": "3dff6334",
   "metadata": {},
   "source": [
    "## 9. Quantidade de pedidos entregues e quantidade de pedidos cancelados"
   ]
  },
  {
   "cell_type": "markdown",
   "id": "5a46e6bd",
   "metadata": {},
   "source": [
    "> Consulta SQL."
   ]
  },
  {
   "cell_type": "code",
   "execution_count": 57,
   "id": "02ad3ae5",
   "metadata": {
    "ExecuteTime": {
     "end_time": "2023-04-01T17:44:50.683797Z",
     "start_time": "2023-04-01T17:44:48.529998Z"
    }
   },
   "outputs": [
    {
     "data": {
      "image/png": "[encoded data removed]",
      "text/plain": [
       "<Figure size 1152x432 with 1 Axes>"
      ]
     },
     "metadata": {
      "needs_background": "light"
     },
     "output_type": "display_data"
    }
   ],
   "source": [
    "plt.figure(figsize=(16, 6))\n",
    "plt.rcParams.update({'font.size': 15})\n",
    "\n",
    "ax = sns.barplot(x='status_pedidos', y='qtd_clientes', palette= 'viridis', data=order_status)\n",
    "\n",
    "for i in ax.containers:\n",
    "    ax.bar_label(i, label_type=\"edge\", padding=5)\n",
    "\n",
    "plt.show()"
   ]
  },
  {
   "cell_type": "code",
   "execution_count": 58,
   "id": "73c695fe",
   "metadata": {
    "ExecuteTime": {
     "end_time": "2023-04-01T17:44:51.351888Z",
     "start_time": "2023-04-01T17:44:50.721065Z"
    }
   },
   "outputs": [
    {
     "data": {
      "text/html": [
       "<div>\n",
       "<style scoped>\n",
       "    .dataframe tbody tr th:only-of-type {\n",
       "        vertical-align: middle;\n",
       "    }\n",
       "\n",
       "    .dataframe tbody tr th {\n",
       "        vertical-align: top;\n",
       "    }\n",
       "\n",
       "    .dataframe thead th {\n",
       "        text-align: right;\n",
       "    }\n",
       "</style>\n",
       "<table border=\"1\" class=\"dataframe\">\n",
       "  <thead>\n",
       "    <tr style=\"text-align: right;\">\n",
       "      <th></th>\n",
       "      <th>status_pedidos</th>\n",
       "      <th>qtd_clientes</th>\n",
       "    </tr>\n",
       "  </thead>\n",
       "  <tbody>\n",
       "    <tr>\n",
       "      <th>0</th>\n",
       "      <td>delivered</td>\n",
       "      <td>96478</td>\n",
       "    </tr>\n",
       "    <tr>\n",
       "      <th>1</th>\n",
       "      <td>canceled</td>\n",
       "      <td>625</td>\n",
       "    </tr>\n",
       "  </tbody>\n",
       "</table>\n",
       "</div>"
      ],
      "text/plain": [
       "  status_pedidos  qtd_clientes\n",
       "0      delivered         96478\n",
       "1       canceled           625"
      ]
     },
     "execution_count": 58,
     "metadata": {},
     "output_type": "execute_result"
    }
   ],
   "source": [
    "query = \"\"\"\n",
    "        SELECT order_status AS status_pedidos, COUNT(DISTINCT customer_id) AS qtd_clientes\n",
    "\n",
    "        FROM olist_orders\n",
    "\n",
    "        WHERE order_status IN ('delivered','canceled')\n",
    "        \n",
    "        GROUP BY order_status\n",
    "\n",
    "        ORDER BY qtd_clientes DESC\n",
    "        \n",
    "        \"\"\"\n",
    "\n",
    "order_status = pd.read_sql(query, con=conn)\n",
    "order_status"
   ]
  },
  {
   "cell_type": "markdown",
   "id": "b3eac6f1",
   "metadata": {},
   "source": [
    "## 10.Quantidade de pedidos por tipo de pagamento"
   ]
  },
  {
   "cell_type": "markdown",
   "id": "b3281334",
   "metadata": {},
   "source": [
    "> Consulta SQL."
   ]
  },
  {
   "cell_type": "code",
   "execution_count": 59,
   "id": "c3bb8101",
   "metadata": {
    "ExecuteTime": {
     "end_time": "2023-04-01T17:44:51.537177Z",
     "start_time": "2023-04-01T17:44:51.359652Z"
    }
   },
   "outputs": [
    {
     "name": "stdout",
     "output_type": "stream",
     "text": [
      "olist_customers       olist_order_payments  olist_products      \r\n",
      "olist_geolocation     olist_order_reviews   olist_sellers       \r\n",
      "olist_order_items     olist_orders        \r\n"
     ]
    }
   ],
   "source": [
    "!sqlite3 olist.db '.tables'"
   ]
  },
  {
   "cell_type": "code",
   "execution_count": 60,
   "id": "d5f6c5e8",
   "metadata": {
    "ExecuteTime": {
     "end_time": "2023-04-01T17:44:51.755013Z",
     "start_time": "2023-04-01T17:44:51.545629Z"
    }
   },
   "outputs": [
    {
     "data": {
      "text/html": [
       "<div>\n",
       "<style scoped>\n",
       "    .dataframe tbody tr th:only-of-type {\n",
       "        vertical-align: middle;\n",
       "    }\n",
       "\n",
       "    .dataframe tbody tr th {\n",
       "        vertical-align: top;\n",
       "    }\n",
       "\n",
       "    .dataframe thead th {\n",
       "        text-align: right;\n",
       "    }\n",
       "</style>\n",
       "<table border=\"1\" class=\"dataframe\">\n",
       "  <thead>\n",
       "    <tr style=\"text-align: right;\">\n",
       "      <th></th>\n",
       "      <th>qtd_pedidos</th>\n",
       "      <th>tipos_pagamentos</th>\n",
       "    </tr>\n",
       "  </thead>\n",
       "  <tbody>\n",
       "    <tr>\n",
       "      <th>0</th>\n",
       "      <td>76795</td>\n",
       "      <td>credit_card</td>\n",
       "    </tr>\n",
       "    <tr>\n",
       "      <th>1</th>\n",
       "      <td>19784</td>\n",
       "      <td>boleto</td>\n",
       "    </tr>\n",
       "    <tr>\n",
       "      <th>2</th>\n",
       "      <td>5775</td>\n",
       "      <td>voucher</td>\n",
       "    </tr>\n",
       "    <tr>\n",
       "      <th>3</th>\n",
       "      <td>1529</td>\n",
       "      <td>debit_card</td>\n",
       "    </tr>\n",
       "    <tr>\n",
       "      <th>4</th>\n",
       "      <td>3</td>\n",
       "      <td>not_defined</td>\n",
       "    </tr>\n",
       "  </tbody>\n",
       "</table>\n",
       "</div>"
      ],
      "text/plain": [
       "   qtd_pedidos tipos_pagamentos\n",
       "0        76795      credit_card\n",
       "1        19784           boleto\n",
       "2         5775          voucher\n",
       "3         1529       debit_card\n",
       "4            3      not_defined"
      ]
     },
     "execution_count": 60,
     "metadata": {},
     "output_type": "execute_result"
    }
   ],
   "source": [
    "query = \"\"\"\n",
    "        SELECT COUNT(payment_sequential) AS qtd_pedidos, payment_type AS tipos_pagamentos\n",
    "        \n",
    "        FROM olist_order_payments\n",
    "        \n",
    "        GROUP BY payment_type\n",
    "        \n",
    "        ORDER BY qtd_pedidos DESC\n",
    "        \n",
    "        \"\"\"\n",
    "\n",
    "order_payments = pd.read_sql(query, con=conn)\n",
    "order_payments"
   ]
  },
  {
   "cell_type": "code",
   "execution_count": 61,
   "id": "0a88cb2e",
   "metadata": {
    "ExecuteTime": {
     "end_time": "2023-04-01T17:44:52.130356Z",
     "start_time": "2023-04-01T17:44:51.765423Z"
    }
   },
   "outputs": [
    {
     "data": {
      "image/png": "[encoded data removed]",
      "text/plain": [
       "<Figure size 1152x576 with 1 Axes>"
      ]
     },
     "metadata": {
      "needs_background": "light"
     },
     "output_type": "display_data"
    }
   ],
   "source": [
    "plt.figure(figsize=(16, 8))\n",
    "plt.rcParams.update({'font.size': 15})\n",
    "\n",
    "ax = sns.barplot(x='tipos_pagamentos', y='qtd_pedidos',palette= 'viridis', data=order_payments.loc[:3])\n",
    "\n",
    "for i in ax.containers:\n",
    "    ax.bar_label(i, label_type=\"edge\", padding=5)\n",
    "    \n",
    "plt.show()"
   ]
  },
  {
   "cell_type": "markdown",
   "id": "ae1cdf38",
   "metadata": {},
   "source": [
    "## 11. Preço máximo, mínimo e médio dos valores de pedidos feitos com cartão de crédito"
   ]
  },
  {
   "cell_type": "markdown",
   "id": "e6dce4eb",
   "metadata": {},
   "source": [
    "> Consulta SQL."
   ]
  },
  {
   "cell_type": "code",
   "execution_count": 62,
   "id": "07d28add",
   "metadata": {
    "ExecuteTime": {
     "end_time": "2023-04-01T17:44:52.300573Z",
     "start_time": "2023-04-01T17:44:52.134548Z"
    }
   },
   "outputs": [
    {
     "name": "stdout",
     "output_type": "stream",
     "text": [
      "olist_customers       olist_order_payments  olist_products      \r\n",
      "olist_geolocation     olist_order_reviews   olist_sellers       \r\n",
      "olist_order_items     olist_orders        \r\n"
     ]
    }
   ],
   "source": [
    "!sqlite3 olist.db '.tables'"
   ]
  },
  {
   "cell_type": "code",
   "execution_count": 63,
   "id": "5def4890",
   "metadata": {
    "ExecuteTime": {
     "end_time": "2023-04-01T17:44:52.381889Z",
     "start_time": "2023-04-01T17:44:52.307073Z"
    }
   },
   "outputs": [
    {
     "data": {
      "text/html": [
       "<div>\n",
       "<style scoped>\n",
       "    .dataframe tbody tr th:only-of-type {\n",
       "        vertical-align: middle;\n",
       "    }\n",
       "\n",
       "    .dataframe tbody tr th {\n",
       "        vertical-align: top;\n",
       "    }\n",
       "\n",
       "    .dataframe thead th {\n",
       "        text-align: right;\n",
       "    }\n",
       "</style>\n",
       "<table border=\"1\" class=\"dataframe\">\n",
       "  <thead>\n",
       "    <tr style=\"text-align: right;\">\n",
       "      <th></th>\n",
       "      <th>valor_maximo</th>\n",
       "      <th>valor_minimo</th>\n",
       "      <th>valor_medio</th>\n",
       "    </tr>\n",
       "  </thead>\n",
       "  <tbody>\n",
       "    <tr>\n",
       "      <th>0</th>\n",
       "      <td>13664.08</td>\n",
       "      <td>0.01</td>\n",
       "      <td>163.32</td>\n",
       "    </tr>\n",
       "  </tbody>\n",
       "</table>\n",
       "</div>"
      ],
      "text/plain": [
       "   valor_maximo  valor_minimo  valor_medio\n",
       "0      13664.08          0.01       163.32"
      ]
     },
     "execution_count": 63,
     "metadata": {},
     "output_type": "execute_result"
    }
   ],
   "source": [
    "query = \"\"\"\n",
    "        SELECT MAX(payment_value) AS valor_maximo, ROUND(MIN(payment_value),2) AS valor_minimo, ROUND(AVG(payment_value),2) AS valor_medio\n",
    "        FROM olist_order_payments\n",
    "        WHERE payment_type == 'credit_card'\n",
    "        \"\"\"\n",
    "\n",
    "order_values = pd.read_sql(query, con=conn)\n",
    "order_values"
   ]
  },
  {
   "cell_type": "markdown",
   "id": "c96a831f",
   "metadata": {},
   "source": [
    "## 12. Média do frete por categoria do produto"
   ]
  },
  {
   "cell_type": "markdown",
   "id": "36a9910f",
   "metadata": {},
   "source": [
    "> Consulta SQL."
   ]
  },
  {
   "cell_type": "code",
   "execution_count": 64,
   "id": "179f5be3",
   "metadata": {
    "ExecuteTime": {
     "end_time": "2023-04-01T17:44:52.555892Z",
     "start_time": "2023-04-01T17:44:52.385769Z"
    }
   },
   "outputs": [
    {
     "name": "stdout",
     "output_type": "stream",
     "text": [
      "olist_customers       olist_order_payments  olist_products      \r\n",
      "olist_geolocation     olist_order_reviews   olist_sellers       \r\n",
      "olist_order_items     olist_orders        \r\n"
     ]
    }
   ],
   "source": [
    "!sqlite3 olist.db '.tables'"
   ]
  },
  {
   "cell_type": "code",
   "execution_count": 65,
   "id": "94fc9614",
   "metadata": {
    "ExecuteTime": {
     "end_time": "2023-04-01T17:44:53.608391Z",
     "start_time": "2023-04-01T17:44:52.566014Z"
    }
   },
   "outputs": [
    {
     "data": {
      "text/html": [
       "<div>\n",
       "<style scoped>\n",
       "    .dataframe tbody tr th:only-of-type {\n",
       "        vertical-align: middle;\n",
       "    }\n",
       "\n",
       "    .dataframe tbody tr th {\n",
       "        vertical-align: top;\n",
       "    }\n",
       "\n",
       "    .dataframe thead th {\n",
       "        text-align: right;\n",
       "    }\n",
       "</style>\n",
       "<table border=\"1\" class=\"dataframe\">\n",
       "  <thead>\n",
       "    <tr style=\"text-align: right;\">\n",
       "      <th></th>\n",
       "      <th>categoria_produto</th>\n",
       "      <th>media_frete</th>\n",
       "    </tr>\n",
       "  </thead>\n",
       "  <tbody>\n",
       "    <tr>\n",
       "      <th>0</th>\n",
       "      <td>pcs</td>\n",
       "      <td>48.45</td>\n",
       "    </tr>\n",
       "    <tr>\n",
       "      <th>23</th>\n",
       "      <td>eletrodomesticos_2</td>\n",
       "      <td>44.54</td>\n",
       "    </tr>\n",
       "    <tr>\n",
       "      <th>8</th>\n",
       "      <td>moveis_colchao_e_estofado</td>\n",
       "      <td>42.91</td>\n",
       "    </tr>\n",
       "    <tr>\n",
       "      <th>57</th>\n",
       "      <td>moveis_cozinha_area_de_servico_jantar_e_jardim</td>\n",
       "      <td>42.70</td>\n",
       "    </tr>\n",
       "    <tr>\n",
       "      <th>13</th>\n",
       "      <td>moveis_quarto</td>\n",
       "      <td>42.50</td>\n",
       "    </tr>\n",
       "    <tr>\n",
       "      <th>5</th>\n",
       "      <td>moveis_escritorio</td>\n",
       "      <td>40.55</td>\n",
       "    </tr>\n",
       "    <tr>\n",
       "      <th>2</th>\n",
       "      <td>portateis_casa_forno_e_cafe</td>\n",
       "      <td>36.16</td>\n",
       "    </tr>\n",
       "    <tr>\n",
       "      <th>4</th>\n",
       "      <td>moveis_sala</td>\n",
       "      <td>35.72</td>\n",
       "    </tr>\n",
       "    <tr>\n",
       "      <th>32</th>\n",
       "      <td>sinalizacao_e_seguranca</td>\n",
       "      <td>32.70</td>\n",
       "    </tr>\n",
       "    <tr>\n",
       "      <th>11</th>\n",
       "      <td>industria_comercio_e_negocios</td>\n",
       "      <td>29.42</td>\n",
       "    </tr>\n",
       "    <tr>\n",
       "      <th>17</th>\n",
       "      <td>malas_acessorios</td>\n",
       "      <td>27.88</td>\n",
       "    </tr>\n",
       "    <tr>\n",
       "      <th>20</th>\n",
       "      <td>agro_industria_e_comercio</td>\n",
       "      <td>27.56</td>\n",
       "    </tr>\n",
       "    <tr>\n",
       "      <th>67</th>\n",
       "      <td>instrumentos_musicais</td>\n",
       "      <td>27.41</td>\n",
       "    </tr>\n",
       "    <tr>\n",
       "      <th>42</th>\n",
       "      <td>construcao_ferramentas_iluminacao</td>\n",
       "      <td>24.95</td>\n",
       "    </tr>\n",
       "    <tr>\n",
       "      <th>18</th>\n",
       "      <td>la_cuisine</td>\n",
       "      <td>23.83</td>\n",
       "    </tr>\n",
       "  </tbody>\n",
       "</table>\n",
       "</div>"
      ],
      "text/plain": [
       "                                 categoria_produto  media_frete\n",
       "0                                              pcs        48.45\n",
       "23                              eletrodomesticos_2        44.54\n",
       "8                        moveis_colchao_e_estofado        42.91\n",
       "57  moveis_cozinha_area_de_servico_jantar_e_jardim        42.70\n",
       "13                                   moveis_quarto        42.50\n",
       "5                                moveis_escritorio        40.55\n",
       "2                      portateis_casa_forno_e_cafe        36.16\n",
       "4                                      moveis_sala        35.72\n",
       "32                         sinalizacao_e_seguranca        32.70\n",
       "11                   industria_comercio_e_negocios        29.42\n",
       "17                                malas_acessorios        27.88\n",
       "20                       agro_industria_e_comercio        27.56\n",
       "67                           instrumentos_musicais        27.41\n",
       "42               construcao_ferramentas_iluminacao        24.95\n",
       "18                                      la_cuisine        23.83"
      ]
     },
     "execution_count": 65,
     "metadata": {},
     "output_type": "execute_result"
    }
   ],
   "source": [
    "query = \"\"\"\n",
    "        SELECT p.product_category_name AS categoria_produto, ROUND(AVG(oi.freight_value),2) AS media_frete\n",
    "\n",
    "        FROM olist_products p INNER JOIN olist_order_items oi ON p.product_id = oi.product_id\n",
    "\n",
    "        GROUP BY p.product_category_name\n",
    "\n",
    "        ORDER BY oi.freight_value DESC\n",
    "        \n",
    "        \"\"\"\n",
    "\n",
    "order_freight = pd.read_sql(query, con=conn)\n",
    "order_freight = order_freight.sort_values(by= 'media_frete', ascending = False)\n",
    "order_freight.head(15)"
   ]
  },
  {
   "cell_type": "code",
   "execution_count": 66,
   "id": "7c284770",
   "metadata": {
    "ExecuteTime": {
     "end_time": "2023-04-01T17:44:54.615741Z",
     "start_time": "2023-04-01T17:44:53.614185Z"
    }
   },
   "outputs": [
    {
     "data": {
      "image/png": "[encoded data removed]",
      "text/plain": [
       "<Figure size 1440x720 with 1 Axes>"
      ]
     },
     "metadata": {
      "needs_background": "light"
     },
     "output_type": "display_data"
    }
   ],
   "source": [
    "plt.figure(figsize=(20, 10))\n",
    "plt.rcParams.update({'font.size': 15})\n",
    "\n",
    "ax = sns.barplot(x='categoria_produto', y='media_frete', palette= 'viridis', data=order_freight.loc[:10])\n",
    "\n",
    "plt.xticks(rotation=90)\n",
    "\n",
    "for i in ax.containers:\n",
    "    ax.bar_label(i, label_type=\"edge\", padding=5)\n",
    "    \n",
    "plt.show()"
   ]
  },
  {
   "cell_type": "markdown",
   "id": "f36aecd1",
   "metadata": {},
   "source": [
    "## 13. Total de pedidos cadastrados "
   ]
  },
  {
   "cell_type": "markdown",
   "id": "36de26af",
   "metadata": {},
   "source": [
    "> Consulta SQL."
   ]
  },
  {
   "cell_type": "code",
   "execution_count": 67,
   "id": "92e3fbe5",
   "metadata": {
    "ExecuteTime": {
     "end_time": "2023-04-01T17:44:54.787012Z",
     "start_time": "2023-04-01T17:44:54.621176Z"
    }
   },
   "outputs": [
    {
     "name": "stdout",
     "output_type": "stream",
     "text": [
      "olist_customers       olist_order_payments  olist_products      \r\n",
      "olist_geolocation     olist_order_reviews   olist_sellers       \r\n",
      "olist_order_items     olist_orders        \r\n"
     ]
    }
   ],
   "source": [
    "!sqlite3 olist.db '.tables'"
   ]
  },
  {
   "cell_type": "code",
   "execution_count": 68,
   "id": "5d771b22",
   "metadata": {
    "ExecuteTime": {
     "end_time": "2023-04-01T17:44:55.353958Z",
     "start_time": "2023-04-01T17:44:54.791490Z"
    }
   },
   "outputs": [
    {
     "data": {
      "text/html": [
       "<div>\n",
       "<style scoped>\n",
       "    .dataframe tbody tr th:only-of-type {\n",
       "        vertical-align: middle;\n",
       "    }\n",
       "\n",
       "    .dataframe tbody tr th {\n",
       "        vertical-align: top;\n",
       "    }\n",
       "\n",
       "    .dataframe thead th {\n",
       "        text-align: right;\n",
       "    }\n",
       "</style>\n",
       "<table border=\"1\" class=\"dataframe\">\n",
       "  <thead>\n",
       "    <tr style=\"text-align: right;\">\n",
       "      <th></th>\n",
       "      <th>total_pedidos</th>\n",
       "    </tr>\n",
       "  </thead>\n",
       "  <tbody>\n",
       "    <tr>\n",
       "      <th>0</th>\n",
       "      <td>99441</td>\n",
       "    </tr>\n",
       "  </tbody>\n",
       "</table>\n",
       "</div>"
      ],
      "text/plain": [
       "   total_pedidos\n",
       "0          99441"
      ]
     },
     "execution_count": 68,
     "metadata": {},
     "output_type": "execute_result"
    }
   ],
   "source": [
    "query = \"\"\"\n",
    "        SELECT COUNT(DISTINCT customer_id) AS total_pedidos\n",
    "\n",
    "        FROM olist_orders\n",
    "        \n",
    "        \"\"\"\n",
    "\n",
    "orders = pd.read_sql(query, con=conn)\n",
    "orders"
   ]
  },
  {
   "cell_type": "markdown",
   "id": "07687777",
   "metadata": {},
   "source": [
    "## 14. Distribuição de reviews dos pedidos"
   ]
  },
  {
   "cell_type": "markdown",
   "id": "ebfd751e",
   "metadata": {},
   "source": [
    "> Consulta SQL."
   ]
  },
  {
   "cell_type": "code",
   "execution_count": 69,
   "id": "f4bea359",
   "metadata": {
    "ExecuteTime": {
     "end_time": "2023-04-01T17:44:55.524810Z",
     "start_time": "2023-04-01T17:44:55.357976Z"
    }
   },
   "outputs": [
    {
     "name": "stdout",
     "output_type": "stream",
     "text": [
      "olist_customers       olist_order_payments  olist_products      \r\n",
      "olist_geolocation     olist_order_reviews   olist_sellers       \r\n",
      "olist_order_items     olist_orders        \r\n"
     ]
    }
   ],
   "source": [
    "!sqlite3 olist.db '.tables'"
   ]
  },
  {
   "cell_type": "code",
   "execution_count": 70,
   "id": "d48c8bb2",
   "metadata": {
    "ExecuteTime": {
     "end_time": "2023-04-01T17:44:55.733776Z",
     "start_time": "2023-04-01T17:44:55.531133Z"
    }
   },
   "outputs": [
    {
     "data": {
      "text/html": [
       "<div>\n",
       "<style scoped>\n",
       "    .dataframe tbody tr th:only-of-type {\n",
       "        vertical-align: middle;\n",
       "    }\n",
       "\n",
       "    .dataframe tbody tr th {\n",
       "        vertical-align: top;\n",
       "    }\n",
       "\n",
       "    .dataframe thead th {\n",
       "        text-align: right;\n",
       "    }\n",
       "</style>\n",
       "<table border=\"1\" class=\"dataframe\">\n",
       "  <thead>\n",
       "    <tr style=\"text-align: right;\">\n",
       "      <th></th>\n",
       "      <th>review_score</th>\n",
       "      <th>reviews_clientes</th>\n",
       "    </tr>\n",
       "  </thead>\n",
       "  <tbody>\n",
       "    <tr>\n",
       "      <th>0</th>\n",
       "      <td>5</td>\n",
       "      <td>57328</td>\n",
       "    </tr>\n",
       "    <tr>\n",
       "      <th>1</th>\n",
       "      <td>4</td>\n",
       "      <td>19142</td>\n",
       "    </tr>\n",
       "    <tr>\n",
       "      <th>2</th>\n",
       "      <td>1</td>\n",
       "      <td>11424</td>\n",
       "    </tr>\n",
       "    <tr>\n",
       "      <th>3</th>\n",
       "      <td>3</td>\n",
       "      <td>8179</td>\n",
       "    </tr>\n",
       "    <tr>\n",
       "      <th>4</th>\n",
       "      <td>2</td>\n",
       "      <td>3151</td>\n",
       "    </tr>\n",
       "  </tbody>\n",
       "</table>\n",
       "</div>"
      ],
      "text/plain": [
       "   review_score  reviews_clientes\n",
       "0             5             57328\n",
       "1             4             19142\n",
       "2             1             11424\n",
       "3             3              8179\n",
       "4             2              3151"
      ]
     },
     "execution_count": 70,
     "metadata": {},
     "output_type": "execute_result"
    }
   ],
   "source": [
    "query = \"\"\"\n",
    "        SELECT review_score, COUNT(order_id) AS reviews_clientes\n",
    "\n",
    "        FROM olist_order_reviews\n",
    "\n",
    "        GROUP BY review_score\n",
    "\n",
    "        ORDER BY reviews_clientes DESC\n",
    "        \n",
    "        \"\"\"\n",
    "\n",
    "order_reviews = pd.read_sql(query, con=conn)\n",
    "order_reviews"
   ]
  },
  {
   "cell_type": "code",
   "execution_count": 71,
   "id": "782968ae",
   "metadata": {
    "ExecuteTime": {
     "end_time": "2023-04-01T17:44:55.756720Z",
     "start_time": "2023-04-01T17:44:55.741780Z"
    }
   },
   "outputs": [],
   "source": [
    "mean = order_reviews['review_score'].mean()\n",
    "std = order_reviews['review_score'].std() "
   ]
  },
  {
   "cell_type": "code",
   "execution_count": 72,
   "id": "2c52d2ef",
   "metadata": {
    "ExecuteTime": {
     "end_time": "2023-04-01T17:44:55.813564Z",
     "start_time": "2023-04-01T17:44:55.760305Z"
    }
   },
   "outputs": [
    {
     "data": {
      "text/plain": [
       "(3.0, 1.58)"
      ]
     },
     "execution_count": 72,
     "metadata": {},
     "output_type": "execute_result"
    }
   ],
   "source": [
    "mean, np.round(std,2)"
   ]
  },
  {
   "cell_type": "code",
   "execution_count": 73,
   "id": "c9b09ad2",
   "metadata": {
    "ExecuteTime": {
     "end_time": "2023-04-01T17:44:56.238867Z",
     "start_time": "2023-04-01T17:44:55.817237Z"
    }
   },
   "outputs": [
    {
     "data": {
      "image/png": "[encoded data removed]",
      "text/plain": [
       "<Figure size 1152x576 with 1 Axes>"
      ]
     },
     "metadata": {
      "needs_background": "light"
     },
     "output_type": "display_data"
    }
   ],
   "source": [
    "order_reviews2 = order_reviews.sort_values(by='reviews_clientes', ascending=False)\n",
    "\n",
    "score_order = [5, 4, 1, 3, 2]\n",
    "\n",
    "plt.figure(figsize=(16, 8))\n",
    "plt.rcParams.update({'font.size': 15})\n",
    "ax = sns.barplot(x='review_score', y='reviews_clientes', palette= 'viridis', data=order_reviews, order=score_order)\n",
    "\n",
    "for i in ax.containers:\n",
    "    ax.bar_label(i, label_type='edge', padding=5)\n",
    "\n",
    "plt.show()"
   ]
  },
  {
   "cell_type": "markdown",
   "id": "003ba166",
   "metadata": {},
   "source": [
    "## 15. Ano em que mais enviou produtos"
   ]
  },
  {
   "cell_type": "markdown",
   "id": "8a99fb1a",
   "metadata": {},
   "source": [
    "> Consulta SQL."
   ]
  },
  {
   "cell_type": "code",
   "execution_count": 74,
   "id": "205ecc04",
   "metadata": {
    "ExecuteTime": {
     "end_time": "2023-04-01T17:44:56.405582Z",
     "start_time": "2023-04-01T17:44:56.242724Z"
    }
   },
   "outputs": [
    {
     "name": "stdout",
     "output_type": "stream",
     "text": [
      "olist_customers       olist_order_payments  olist_products      \r\n",
      "olist_geolocation     olist_order_reviews   olist_sellers       \r\n",
      "olist_order_items     olist_orders        \r\n"
     ]
    }
   ],
   "source": [
    "!sqlite3 olist.db '.tables'"
   ]
  },
  {
   "cell_type": "code",
   "execution_count": 75,
   "id": "09f6f92f",
   "metadata": {
    "ExecuteTime": {
     "end_time": "2023-04-01T17:44:56.763014Z",
     "start_time": "2023-04-01T17:44:56.410333Z"
    }
   },
   "outputs": [
    {
     "data": {
      "text/html": [
       "<div>\n",
       "<style scoped>\n",
       "    .dataframe tbody tr th:only-of-type {\n",
       "        vertical-align: middle;\n",
       "    }\n",
       "\n",
       "    .dataframe tbody tr th {\n",
       "        vertical-align: top;\n",
       "    }\n",
       "\n",
       "    .dataframe thead th {\n",
       "        text-align: right;\n",
       "    }\n",
       "</style>\n",
       "<table border=\"1\" class=\"dataframe\">\n",
       "  <thead>\n",
       "    <tr style=\"text-align: right;\">\n",
       "      <th></th>\n",
       "      <th>ano_envio</th>\n",
       "      <th>qtd_produtos</th>\n",
       "    </tr>\n",
       "  </thead>\n",
       "  <tbody>\n",
       "    <tr>\n",
       "      <th>0</th>\n",
       "      <td>2018</td>\n",
       "      <td>20747</td>\n",
       "    </tr>\n",
       "    <tr>\n",
       "      <th>1</th>\n",
       "      <td>2017</td>\n",
       "      <td>17003</td>\n",
       "    </tr>\n",
       "    <tr>\n",
       "      <th>2</th>\n",
       "      <td>2016</td>\n",
       "      <td>277</td>\n",
       "    </tr>\n",
       "    <tr>\n",
       "      <th>3</th>\n",
       "      <td>2020</td>\n",
       "      <td>3</td>\n",
       "    </tr>\n",
       "  </tbody>\n",
       "</table>\n",
       "</div>"
      ],
      "text/plain": [
       "  ano_envio  qtd_produtos\n",
       "0      2018         20747\n",
       "1      2017         17003\n",
       "2      2016           277\n",
       "3      2020             3"
      ]
     },
     "execution_count": 75,
     "metadata": {},
     "output_type": "execute_result"
    }
   ],
   "source": [
    "query = \"\"\"\n",
    "        SELECT strftime('%Y', shipping_limit_date) AS ano_envio, COUNT(DISTINCT product_id) AS qtd_produtos\n",
    "        FROM olist_order_items\n",
    "        GROUP BY strftime('%Y', shipping_limit_date)\n",
    "        ORDER BY qtd_produtos DESC\n",
    "        LIMIT 1000;\n",
    "        \"\"\"\n",
    "\n",
    "order_year = pd.read_sql(query, con=conn)\n",
    "order_year"
   ]
  },
  {
   "cell_type": "code",
   "execution_count": 76,
   "id": "500c4822",
   "metadata": {
    "ExecuteTime": {
     "end_time": "2023-04-01T17:44:56.778377Z",
     "start_time": "2023-04-01T17:44:56.766252Z"
    }
   },
   "outputs": [],
   "source": [
    "order_year = order_year.sort_values(by= 'ano_envio', ascending=True)"
   ]
  },
  {
   "cell_type": "code",
   "execution_count": 77,
   "id": "e4b9bf4b",
   "metadata": {
    "ExecuteTime": {
     "end_time": "2023-04-01T17:44:57.269168Z",
     "start_time": "2023-04-01T17:44:56.782268Z"
    }
   },
   "outputs": [
    {
     "data": {
      "text/plain": [
       "<AxesSubplot: xlabel='ano_envio', ylabel='qtd_produtos'>"
      ]
     },
     "execution_count": 77,
     "metadata": {},
     "output_type": "execute_result"
    },
    {
     "data": {
      "image/png": "[encoded data removed]",
      "text/plain": [
       "<Figure size 1152x576 with 1 Axes>"
      ]
     },
     "metadata": {
      "needs_background": "light"
     },
     "output_type": "display_data"
    }
   ],
   "source": [
    "plt.figure(figsize=(16, 8))\n",
    "plt.rcParams.update({'font.size': 15})\n",
    "sns.lineplot(data=order_year, x='ano_envio', y='qtd_produtos', color='darkblue')"
   ]
  },
  {
   "cell_type": "code",
   "execution_count": 78,
   "id": "83791a8b",
   "metadata": {
    "ExecuteTime": {
     "end_time": "2023-04-01T17:44:57.344172Z",
     "start_time": "2023-04-01T17:44:57.272517Z"
    }
   },
   "outputs": [
    {
     "data": {
      "text/plain": [
       "'2020-04-09 22:35:08'"
      ]
     },
     "execution_count": 78,
     "metadata": {},
     "output_type": "execute_result"
    }
   ],
   "source": [
    "olist_order_items['shipping_limit_date'].max()"
   ]
  },
  {
   "cell_type": "markdown",
   "id": "f3116566",
   "metadata": {},
   "source": [
    "OBS: os registros do ano de 2020 são até abril, por esse motivo, não é possível afirmar que houve diminuição pedidos de 2018 a 2020."
   ]
  },
  {
   "cell_type": "markdown",
   "id": "9f347014",
   "metadata": {},
   "source": [
    "# Fechando a conexão com o banco de dados"
   ]
  },
  {
   "cell_type": "code",
   "execution_count": 79,
   "id": "017660db",
   "metadata": {
    "ExecuteTime": {
     "end_time": "2023-04-01T17:44:57.360529Z",
     "start_time": "2023-04-01T17:44:57.347840Z"
    }
   },
   "outputs": [],
   "source": [
    "conn.close()"
   ]
  }
 ],
 "metadata": {
  "kernelspec": {
   "display_name": "Python 3 (ipykernel)",
   "language": "python",
   "name": "python3"
  },
  "language_info": {
   "codemirror_mode": {
    "name": "ipython",
    "version": 3
   },
   "file_extension": ".py",
   "mimetype": "text/x-python",
   "name": "python",
   "nbconvert_exporter": "python",
   "pygments_lexer": "ipython3",
   "version": "3.10.6"
  },
  "varInspector": {
   "cols": {
    "lenName": 16,
    "lenType": 16,
    "lenVar": 40
   },
   "kernels_config": {
    "python": {
     "delete_cmd_postfix": "",
     "delete_cmd_prefix": "del ",
     "library": "var_list.py",
     "varRefreshCmd": "print(var_dic_list())"
    },
    "r": {
     "delete_cmd_postfix": ") ",
     "delete_cmd_prefix": "rm(",
     "library": "var_list.r",
     "varRefreshCmd": "cat(var_dic_list()) "
    }
   },
   "types_to_exclude": [
    "module",
    "function",
    "builtin_function_or_method",
    "instance",
    "_Feature"
   ],
   "window_display": false
  }
 },
 "nbformat": 4,
 "nbformat_minor": 5
}
